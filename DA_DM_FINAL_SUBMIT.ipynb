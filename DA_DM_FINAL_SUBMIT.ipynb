{
  "cells": [
    {
      "cell_type": "code",
      "execution_count": null,
      "metadata": {
        "colab": {
          "base_uri": "https://localhost:8080/",
          "height": 1000,
          "referenced_widgets": [
            "05aada718eca440187fc33b92db103a5",
            "344cd076de5a462981291ac9b19e608f",
            "ae1d602c980f4312a61a7d42218f0bf4",
            "13aa0732512e4cc59d04b82da5b8cdbb",
            "006edfd36fdd414c9801dd0c2f9b9635",
            "66cca43bbacc4a5e8205aa3709753226",
            "42568a4e5f64432aa8397594379c10fa",
            "8e8a643bb6204a5183bd0ffe71ac7637",
            "0e695882abe44a46ba70195f9e1d433f",
            "cd08aa94258049b89b123da728c07994",
            "e17b4139f51d48ef8a5df58498f000b5",
            "ab3087f0645947339099c9f180db7470",
            "6e74d4fb095a4bac90d0038f9ae893e7",
            "971d64a7f67140378231ec9599d7cfb0",
            "97d20c3e1afb44c89c96ca6c6b0d60a3",
            "627c39fefa7746a681c84ae2a3ad0b5b",
            "c2e8dd99a60540248117572a05b9ee18",
            "2884edc2b481402b8344fb67e50547f3",
            "bcd22f6a487a4f8c8d5e9513eef71f99",
            "f7412a5a279c48c2842899e47ef16459",
            "e476fc5a046944be949d0d6c2d014d89",
            "27d7dc6241d84e6d969f9c76a2b5e062",
            "44b685481eb44e7cb5917fd1d95cd295",
            "17eb19d3c1ee431a82e05b164e38646d",
            "08a8f02b694e49fa90669d6389f28ff4",
            "4d7268412b854fbaa9fb1da814193086",
            "f9739734a37b43eb861db85f55d97a6a",
            "c37b5ba54da74709a3a943df01501c9a",
            "318a82c805234ee69b6300f3faddd4a4",
            "637f85ee782e4b53a926b93c903b2fbb",
            "02570d1422fd4af99b60e6f6a25b30e6",
            "3dea3848203b4146a82b95315ec09deb",
            "6e416c8345064657a422f2b03b3c72c1",
            "1b06fc23ec304d9fb479378602bd78ae",
            "a32f30f59ce84f7f927bf811a71bddca",
            "475dda1330cb48f78efbcf77ef3674a6",
            "417fcef8485a4f4a9dbac5946ee4aaa9",
            "02cec0266b95451eb04b431f49ce8eff",
            "9fd0b555012045f3955d1fe2d3d9555a",
            "95765bd0e2ad4404a54a4070f4637ca7",
            "2306e9ab48ec4e50a4d9b6b15b999568",
            "c1ebe8e2ec3d454fb3ffc1a726e44fda",
            "41451d06aa944b3c8cc7a1ae14069ac6",
            "13dd3b3d7cde40c98891494c8fa88f7e",
            "34dd2f0401d144eba140d97f8c5d3cfa",
            "625714472bf046429bb2703ece4a371c",
            "2023108cd9c541a983763df5714345b0",
            "1a8c04153bf64d58b935cd248caa4851",
            "f6c0daa998f74feb8e079693d8cc1377",
            "0110b0f3359149488d562def113da546",
            "c04e291746ef423ca0f69da5c59eb4b7",
            "e63e3848e0734c028c27d8985554128f",
            "690a041534404f61ac30809eff34faf8",
            "f12f7905c1674dd28955ae5e0dac97cf",
            "b4a31e7c5fbe448fad1d7958baf81249",
            "3a713aa494d44696a8abbaa5d482cc6d",
            "b76b17c0a75141c3871b00500259c2ee",
            "82db8e1935a64002ae13b16bbdb2c76c",
            "e27cd0687ee5421ababb8f40dd9e79b2",
            "cfb1a8e034884223848984d1fbfc9325",
            "472ddcbc913b45b3930b3543ad76b6e7",
            "9fbc26383e2148c3893d7c14ceb54e0c",
            "961dcf9b58c346319e8485f57f23cd5f",
            "22c132a2ecd040bfb9e7ce93ce22724d",
            "753fe9090ea241758bfd9def6ad20eb9",
            "29b3a61e3671483f87f98de59ac7d130",
            "c53994b3c6e5499ea3e72bb4e95c387d",
            "b790ca46a42540e184bfba90ac480e39",
            "195d36f0caeb4e8699c94ad3ccfafaf8",
            "7e38350146ae474b85858ca75195b047",
            "5e6b270296ae4324bbe59f4e30739af0",
            "1104d5aac8b74936bb906fbd620434a3",
            "97e9a61a45e64e59be3ffe9a3b88516c",
            "477f2b026b204f56b0f9d184f877320a",
            "c2ee59bb48f342b6a947dacd55f23d4b",
            "2df34e28fa9a4c898cfa53ec960755b5",
            "65db4a5922d44c0a818e6339870c2593",
            "7cab6725828b4c96b1b7499a84652ddb",
            "5d920a9ad66946bda00fb516132366f4",
            "f932a3fd48834abf98049f31e7208826",
            "4c1f2f3b7fdd4c39b31c5bab910a4c34",
            "d9c255444bd24e90b1eab997422b9a4f",
            "604d8733abce4ff691f27828638fe473",
            "fea8fbbd064b488f9aea9f86ad789631",
            "603ecc455382461f9dd5c9dab87b9c82",
            "62faa6d8f23a4fd3900dd8f22f7221ca",
            "8dd7f2d713454f4cb1ed3a21ded00578",
            "d8bd7f69715c44f493f2713d0b133a8d",
            "99cfb4339b344c8cbcd33b98f3075c19",
            "df05514f01dc4f1a83a27f0c4c740388",
            "3f10a7a15c54433794b9640b18f18022",
            "c2426d6f03d340a5a2f846b9bf01ed9f",
            "53034f7441c64e0e875192485b40077c",
            "b5eccf5908144f39a9ee666a89611539",
            "b5bbc8851c854f36a60a5acdd16df9a3",
            "8cef7202327d404590481b89b236eb01",
            "062de3aa6949492babd2c42cbb20cf9d",
            "59d5eb4846e54b0f848317b42eaa703d",
            "3c23e3c7383441c6bd08657442e15c0f",
            "6ae7869903e24bb596dee7f976d6a146",
            "9132e7f4bffe4a0dad46326dd34e0306",
            "9d514e5767e64725b655aec8aae5d586",
            "68eaf999a4984dea87ac4b7982c76b2d",
            "ad144e07dd4a4b03897675e25198f447",
            "e6e51478a9984b18b7e59b3064564470",
            "8f5e4b9bdd404c778918108073da7a3a",
            "9c3d7df801f6478dac65d90d309ea8e2",
            "398b787383ee48ff963de0dac95e8178",
            "9684e5a6a16e49179c57a3208ed11af2",
            "028eb735584f4485bf68d5ac93078dbe",
            "4f2551e29533474597141c03bd2bffe6",
            "b931ea5336134026aee79ae01ba32159",
            "9b3fccc6a9084919815b18b29a3e395a",
            "6fb92d2893144592befe56f6fc0ff58b",
            "4a9eba23060e495aa2fbaa3e08a1330b",
            "fdc2d139190347be88c0a3ad6eafe32a",
            "489b1d7dc5594309a1c00d2b3f18278b",
            "847dc0db2e694beba20db2f77113f17f",
            "6c674f1e8089468e8b64ff8f8fff1e90",
            "5a452e591ded4560abd0d0989ad61e04",
            "4e0cbdc645ab4330920aac5a1ae6511c",
            "63233814bbab4b2980ce0f89ac93a987",
            "23a4edde003e4a408a665559fb8c3fa3",
            "b6b8acf28f204fb188bd74acc35565d9",
            "17fde6bb143a487fafb75c9c9de2686b",
            "6c74c0dd393246999b1a95888ac7855b",
            "72e28bb0e7b64281aa30858fb39ee9d7",
            "c3dfcb57b4bd4aec91cbe04b2cccbbf5",
            "0a376525dcd74c13a8377a79c251249c",
            "4c225bdaaa3d45c58001c6469655b98a",
            "017afc9b8d56483dba495a5f76c6bc37",
            "6f75a4561b554a4bb8cbc3bbfc84472b",
            "30c217acf28e4208a3002376438deb1d",
            "07fa70f19dce40c4a4389799a6c1428c",
            "d95c359bc44043d0aa73c1a86314a0a7",
            "56680a9ffa4b4d8c97ffcecc52cd54f1",
            "f40ee026eb7f47769f96d3023f1bd7f8",
            "844c49f7482c4c838649c1faa6c13c5a",
            "28eaea1cf7614183911089f8325f819f",
            "9daa99697ff34aaea43ca62c9ff3cc38",
            "c395127cc85e4996904e47b294a90d87",
            "f4a1890270f7466ebc547e615fd122e7",
            "13fd5d0f6ee54bccaf328d47129ef888",
            "9d73f751db5042d0b2ade4995cff1aec",
            "faeed7ff637c412aa7adba5f17df4e6f",
            "88720ea4b6de4d9a8bdff3a2a9e313e1",
            "14c41265657149c5b5ba2ece6e62db40",
            "b86c6fe006c84257bbcb4bc3cc2bee04",
            "bd1c49b142254304b75fd6d33513eb21",
            "b20b7a45d2534190b87cfd4897fe1d84",
            "e7c3f460f0ba40068f3e7f7ef89f90cc",
            "064ef70bf4884990b6252899618d8111",
            "fdde154b59754462b647854727adb0af",
            "be77cbf252dd4488a55bf49bbaa23485",
            "aa8cb6ddbaef421eac9970a1f5c27a2f",
            "eaf0df23cab444d78d0f236a9655c572",
            "b7e0cabaa5f2490e8cde9fdd17092c73",
            "0a39c84a48434728bc3b5c10edbd91ee",
            "2edfc237c17148b39f00dfb681df17a3",
            "60aa226de56f44f891ffccd3b2153938",
            "8f5cdc08824d4bc5b719f75763d10c02",
            "0c98187ff4ff49a09e3e9b7b1d3744ab",
            "ca669860006f4cea8292da0967a3eec2",
            "a1ad3929dcaf4f98923a0efc2f5dde8e",
            "293c63e9aa584fbd8e46618e92dbcec3",
            "d300134b5f1742c09aae3f4be6627847",
            "32e8c411067744cd9dbb12031ea55534",
            "dcfd9083188a48859b4b0e8fcc1a60f6",
            "eb4d877fb8204a149deae49a95037922",
            "59d665eef8d44d78b08d1b7f376cb9f6",
            "b1ee548321cd4a1ba3052e3a05180e6c",
            "382815f600c1490a913b8e51265ad33c",
            "56cdb88bee0c4827945ff43946de0c09",
            "caee58244f784f2192e201160711f97a",
            "cf6a1541daae47f5be84f89172f5c2a0",
            "0ad17b06a7cc4d0cb670a3f80e3fe117",
            "35dbe50dc7c44bc4b2e43e67fd4a2fda",
            "0e0e904596864b408c4c427bedd387e7",
            "8e49931a3838475eaefeb48c427eae6d",
            "9ae009c58a3c4aeeb85261c3620a3aad",
            "6fa376b266ea46adb66d943d21f9c1bf",
            "7cfa17f0ab4f41a69db919c70d0109d3",
            "14af3fec062f400b9dff82aa8ba5dfb0",
            "d5fd8447bbd041e6baefea8eab9c39a7",
            "784a7309e3824b77a7c7dab3c63640ea",
            "59509529a8e344ee869997448dec4c06",
            "c4219ca268f3416b9f3fb7bc203d4ce4",
            "f3cf58bfd3b44a52844aee5a2216028c",
            "c2948caf418a48ffbfa3d2a3a435ba1b",
            "3e5c0d19504c49baa5df98a8381bef52",
            "6796b42e72c14931903799eee9692e7c",
            "e4a7dfe26354444d92eddaff1736b74a",
            "99246c80b1514a339a254e0da1b31bea",
            "847231049ce048eb9e3fe81adc9ddd8e",
            "87608aca3586441babcfca65dec3a126",
            "88204b55b4d240719e7ba3c8b489257d",
            "de40bf58e329448598fe5e7f02f0cc5b",
            "14919e961f0b46028cd32c5e565f82f9",
            "aa91b61493b94a8f9a9b681a1c1f1abd",
            "7ebcf622919e44199306639bef21ac03",
            "5829e37d51774f5199dcffe3b78c4a57",
            "f4b68754d69a47dd97a92b92049b0607",
            "74785d6d579649ee9765aa8ae1a57d61",
            "170a9a658163438cb7e2ab3d532302c9",
            "590db31e246a4d7da4b01270f80d9f38",
            "342b0dbad8a1442395a0c7cc8b2886e6",
            "8fd46aaea3674447b030e0acb59f4965",
            "1c44497661e24d37a25045e999f3d59e",
            "647936858a834a16b675c329c17fb71b",
            "99119ac404034030aa9857b961a44426",
            "c4afdd5209a8462db3575af2e902f82d",
            "034d59e470be4fc3a2b87c92ace262b3",
            "55c3000f2d594047b78b689a7fe6027f",
            "1d266e647ca543d6a78e551b6427c45d",
            "b3457b1f8f284b1d8827b52edc0d5dfc",
            "38208aa2a05840ebacdaa567d3cac1ed",
            "a69145045124452da731ce02e978eb5d",
            "8ed19d83d30b4649895e7468ddf57aca",
            "a122cbfa337e48e09c344696c7956c84",
            "daf99f82b706494d9493ae4d6a8cca10",
            "6572201c80d2483d9ddf4f0502974fc6",
            "19d9fd46c46948c99228c899eeaa3253",
            "a089d9cea3034826a8d064292f3784ea",
            "c6ce88356dc24e04a5d48817599879d7",
            "1d85e5765ba3429d82a98184dab62984",
            "7fa0467d69c24b398e2a1c95ca074354",
            "516636c1f35d4c528bbbe98f5d29c265",
            "c940ce3ce83c47b99fb824aaa125c7f0",
            "95d55eef18514445828e8c7a9f95bc07",
            "22bb4ca20f1b41a78035e6b708a83a67",
            "58254d3e18d944d9a5569a84651f7eee",
            "a43c76c0eebb4fa8acbdc6ccd6f2a656",
            "2bcc9c7509cf4c64a7a4ff9718830f23",
            "a6818f802c524093b32d917606e36d31",
            "53a4d35c5e7b4e7b8652c8c42bb9eee7",
            "6e4805a48fff4a148dc432413d574f0f",
            "cab7dce7668d4fcea606d1244f786da7",
            "cc70ba34dbde41ce8cb6600bbfdced98",
            "4e7fe629b3ef486aaeac0d5bed1b37f7",
            "e642121e94a84702a69d3eb1a6a4ac11",
            "2b71fcea96e9429689e0cbca2545866e",
            "7b4d48d7ad3c445c8563ec1c22962b36",
            "540e704cdb084747840d4e4677eed4dd",
            "328b35535d8e48d78460544f09b8c3ab",
            "0fd11f70a44440e99758e89248c17916",
            "906290f560134597a9152bef3fda8117",
            "0aff72cd77984b6786f5344cfd0e3c83",
            "d36160cdcdc442ee9f5bfcae434d7917",
            "41f8305ef94a41f59eb5810b70d46656",
            "9fda77a6745d428ca49a4f1ff1cb8b96",
            "87f9d103877c45c0ba68f41c844e1b8b",
            "c734b31bbde84505baff6f3c689491f3",
            "c6d46d9077c349deb10894fad72fcd90",
            "3f4563491c954f01bc896794d69df67a",
            "fe4cf906c88142449402e8c85e586d32",
            "87e91072264743799cda9c4f819f4968",
            "915da2f1077b469482242fa5ab64d8f1",
            "a589460853654323abec75d69d881cc3",
            "94d343b062cf4f2492d8942dc7f21090",
            "084706ebbf364c6089c11a4d79acdcd8",
            "ab68c6e19ecc4b8e9098cdbaf264b0ff",
            "ba53da3c88a647af974c73f1a46b2e9b",
            "1f158bf4670748a6adde7f411313cc28",
            "09e1d42eb4a94f94a257419b0e703705",
            "88c4fc717c0a498b8d8ac834cf939a36",
            "cda1a3de2ce34a848ae471c745f52882",
            "63532e16c74f4f06aa6a58bef2b88bbb",
            "f0ad81cc5faa45da95e96f396d35fefb",
            "cc51e324b4ee43f4a42431ace02a72b1",
            "741cf0212dbe42bca843a65e2746dad6",
            "93fe71d413284b0d94ed106ff262298f",
            "0668f1b075ca4d6989ce046777045740",
            "8072b43890894a3982acf4e057d38a5d",
            "708d352fc55b4bb8bd1a5a35a6a52a6d",
            "036aa10422554a08b0a4d7865a92eb3a",
            "c9e8b3b7780047869a36ac5a440e728f",
            "21586c0ad1304a96a5dd82cda403e9a9",
            "d4243f17324f47ef89642135fbad0c96",
            "8224de59fba14df2b9550aef7b4486d6",
            "5dcb943ee8294b83898de119492fcb98",
            "e10a2a9cc2d74bf08645e8c1c5c414c9",
            "6526ca103bdc41b6b5be2298e1869cf1",
            "ede9f78f27e245a7a8fcba7e6767e713",
            "7987f1241df64f269f58e6d57d10c362",
            "6359983f8e634379ba8c89051f6e43ad",
            "1226d76dfa92499caf64df3345b5cb29",
            "ab3551216d24421e9352c1046384b521",
            "e9a4a2da80234bbb92d7c4553dfc797a",
            "8c2cca7270c946048c6c0deec074ba6d",
            "1cf27f3a012247a5b2ba90ce57cd5409",
            "4d9b3eda0ef34831a005220649d6a948",
            "7189c430d9a4484db857bb2fd9752de3",
            "f3d7baefb7864b6ebf070664850d5a06",
            "9c89d0f028674b8583eed2c0467085d4",
            "40139fc3ee12433fae8f2acd5665adfc",
            "01f39be7590041d6846aff449d642494",
            "f0ac8b16a97c4166860ba8cf22162816",
            "e16b4cc6b5ea4452ac7d40ee299dc8c8",
            "c48b6a4b1660402c878a2aba68e93f8c",
            "89359343061c4a6ea69c6c3983ff860b",
            "a35617dd0d6447328510d6aefa4b63d6",
            "5a12d980a0884fe08db3960c152be566",
            "f2291c9003934f73b585ce846b3c1ae9",
            "b411d70e052346b28beb82f6b445a222",
            "42e52c5f2a10452bb6d52992aeca920f",
            "dbe142c54e744fe5aaee4ae0af5f5f0d",
            "d0e65e9575434127af1e2c1bfe15bc93",
            "10f49286c50d45718ec8b51f493285c8",
            "1b53dfbd161c41058eef1c24bcc28775",
            "25c6c8c6592d4b6881b33e615832487f",
            "4e629a77b5054c7da3e078cdac319077",
            "08e72929b5604093b9aa1ddf483b9170",
            "08c1e6f66aa449d4a3d26b34739a80ad",
            "612238f94a874cbc92cc8bef80aad62f",
            "e4f69c4d01694cb09f43f53f34076db9",
            "31b4d42253fc481cba08a5751ec365e6",
            "6012f361c70044a7ad978f5c991eea54",
            "c250a844cac948f9979f9544ee396755",
            "c308b850409c4635a88c0d418c925388",
            "16a1120980254f90a2c8899bc39d15d5",
            "eacd0b033c3749c5a6b11b8c7aeb52c1",
            "44bce4c5033243c4ab19a32e4781a98c",
            "3614f4755970465fa56ac2edf171461a",
            "2a8214b834c74431933f8c2c136abd76",
            "685c0162c9c046d8860ff9acd567ac27",
            "281c6ab764cf449a8903c2e59f2d5252",
            "1990bd03a2e54583ae3dfef4e4343079",
            "a24e6a993bf1432e83d5abfe0ea89ae6",
            "b51c186b499f470e9080a801ff9e7350",
            "540ba5ede0824d4d99e1a9a1351a6c87",
            "9df96efe09bb4622af827fce5f5ec40b",
            "39d99cc21d45441da1c725655dfde877",
            "c302d9214eb84fe3a3657eea14db8a0b",
            "a269ededd8894027b973bd64f5ae668c",
            "3c76d3051a08452387a8c894ba44afdd",
            "2acacad7c2e842849e27cc3c62fc0bc9",
            "5b4c145f332142c2b838d50a56512b81",
            "b89177f560164a4d8e830a47d11e522f",
            "5f1124a327d84d9ea343a13f8b9d3974",
            "854c0eff8d7846c28166bd8349de7d05",
            "1e38198ea10e4d9d97e95dba7a8b0e5d",
            "225cd245c73f4e5b9439a9817c7b8bec",
            "1ceb8683b948427a8a6c21f57e879ddc",
            "7737087294db4ec18f1ba25a56f81067",
            "ba96de64a2ee450aa0fbd7df89f2ccc8",
            "005965452af2440da941e5c64313d481",
            "0defe4226ebc436c93d7e397571da130",
            "a3807cf03df4460fb06a44ad6c7ef252",
            "2510d4b3794e42da87d7ca85fa76d925",
            "4fc78e8814074479913d78dbc7c41c03",
            "f07cd3ac8c49448f9ef9d589ce7bb5dc",
            "40fd0cf60bae4f658bc5d9f5bd4f94d8",
            "424c39d949394d63b93a225994ea53bf",
            "a8f37319a9f746e0b6e2732a64d02574",
            "755f766a7f91493bbe527539774a344b",
            "57bf0590af0a4a488d317a93b70d44cc",
            "241c353fb88c421ba2eb72d8bd8f5c61",
            "536102f16b764c0f862ac7d4c5159a38",
            "1a4da00c19d949adaa35021e3f5746aa",
            "66a9c0304cbe4fbe93aaf415daf42e79",
            "118de0bd41574c7dbcdc94756a1f3998",
            "329403125ee04dbbab0edef5d1149c00",
            "d53fe16847ae4c6dbb3687875f442556",
            "2863a4abe3784822bb59b06f3b7f7796",
            "de350ba099274a9c8a3c43883925759d",
            "9dd70bb19c6c4f0bafeba635875f680e",
            "754a37805f4d460ea6ee52514ffde630",
            "bd4c45d064d14211a5840a6ffe85233e",
            "f50be48bf8e34b3b81af8b31bca5802e",
            "8c33bb53426e44a0bbf4d50632436aa0",
            "1d29a29c2b734f16b88cbcbe371445ac",
            "75aa8204cc77457f88f882ded5e2028d",
            "13c57c37f00b44658b83064824401417",
            "ee5b736836e3492392cfa9dafeb0a16b",
            "54f726178db44f66a638d3d7d24f573d",
            "59aa1b83478240bfb3e778303709c1d8",
            "65ddad8b4bc74460895b4876d8135617",
            "5ea1fed5d8cf4db98579e27feb97d041",
            "01b699232aa34fa0844e0542d8601b72",
            "12dc3cbed2614ce79ffccb2897088e04",
            "4447186a8b474722a9e3fbe9c2d57f68",
            "2ee689bb4dcb4ffb85fa908634dbbfcf",
            "8d25ee1593d54d9aaa972c39b3dbe456",
            "db08259e39664bb987f840431e396588",
            "4f45a93148bd4b6287e7acef2b0c07c1",
            "eebd42970fda40b4b52ed9a15347726a",
            "ab0000fd573f4111a1b606e8d5893282",
            "bf20d97e62504ba28bba9398ddcd415f",
            "c5806172fd12416a9e34096b6e3c56b0",
            "12d8dac047a840129b6d989f74041b65",
            "c7a6188b2c3b457c8f8f619acbf4155a",
            "cf7b54643ba348efa9f9c7c4dd9d1198",
            "9b4df340fff84d9fa6aed26aeaab2892",
            "a7395de3ed9d4976ab687ba83db95020",
            "48ed5ebaa3f744b985a3bff68d9d882a",
            "3aaf797618514d5f953bc7270e1015e1",
            "aa1ffea3ce0d4a4ca6a3bdf34c2c88b7",
            "7f3c371279d645d68094059523988a4a",
            "a2e934f3c254494f82bb1588a0b43989",
            "b6643f91e7ed470cbda87d7708dd41b5",
            "141a6cbb581e4015b4b1a3f4c2eaea7c",
            "0f3326fb14174ec0938915d61b3bb614",
            "6a30a365642f4f17958734609f68957d",
            "985cbdc8d3d34cc6888d9cacb712c5cf",
            "975c4ce4e92649f6aedcad6cbad7a1fe",
            "f8a996b75c034f73a27a460d4269797d",
            "f75ad3223f93441398dd6ae9e7ec5a66",
            "469cffd8168744ca93198de0dd3a8e10",
            "70adc177fb5d46c09e2540e92fe42cba",
            "aae4374248394acd956fd689d276a8ad",
            "1c58611492874adb9969a9a24e1460ff",
            "5b6240c4993d47a283d2d1d9465c4e81",
            "2470d6e253b0488bb997962301f770d6",
            "02403cb22b624a4298fcb8c506686f22",
            "3d95694c58a54a30ae57dbf63c17f6bc",
            "cdaeb7f67775404aaaef95bc9feedcd5",
            "c89e9d836ecc4656825b9a9fa2f3aa31",
            "334b93738e9b4256bb83c2f44eeccf7a",
            "272293b9d64048bd967810bcc60d2703",
            "7f193239d37a477693590fe76191e999",
            "a1af865c3b234a32b944ecd7be1d7080",
            "afe6333ef33c4bf39c27f25e07f374ae",
            "e366a3d9fcfe4e64ac6c9b46cb9f48f9",
            "8064e1839723459882074ec137c5c7fb",
            "0b2716d5e20c47c9aa9256137f1ebda4",
            "8d0981471d3048ca8be2f809474694d0",
            "a1660a2ab4b64a8d8c299499913f5fbd",
            "7c9b19674e894225841978e2f43dda60",
            "6ffb7f874ca6406980570303137ef083",
            "63185bc23c7c44ce8b49fdb686ec129f",
            "56c7f6cbe1054630bb0a983b6a49b12d",
            "694d972b929e475bb7a5b3bd74fa33c0",
            "9a546129069543c7b5a5b1230a835ff6",
            "0629242246894e67ba8cab1efb9c4fa0",
            "2d8835f1da6f4e27886eb231c492c12a",
            "4782d79d1a2b4240ab7b72361dbb49f3",
            "8cc188ffc1834655b72c075d076077fb",
            "2e2875dd06bd42358902f36b54531b85",
            "c07467c902284c3fa3fc1477bcd54f31",
            "30f6ee4f4ea14ccba755c144b5306c5c",
            "1e37a5e0f227422c9821d9ed58fe3532",
            "a0e73c999e884ec9a7660d68dcf80301",
            "b8fe7cdffd9e494ba456172c1383fcf8",
            "08153bdbbbe74bae9804c92fe268b3fd",
            "b79504f6311c4cb9bcc83ced4f34bed3",
            "826bb9a9596d4c909bf1e6a8b14cc342",
            "2e9d1b96452a403da90497f7f224fedc",
            "47306887e9ee4d6fad5558da9e4d7bab",
            "5da35cb492134b4899517a2c91f99cd8",
            "9986da2354b1471a8a141423182d943e",
            "e144bce8f88141cbb75f6944d250acdf",
            "c58ba93e940e436eb921bacec1827368",
            "cbf50fd38506476c9b7783ca565ec9cd",
            "e5c626a3a18b4e32897516983917fdfb",
            "e1910215dfb84e3491811f6b1eff8e30",
            "294369de97084ebaa3e78ed123c3c873",
            "522d475901904fc088a92285a5dc1958",
            "25a88fffcc0f405bb6702ecada7194cd",
            "c2dfcaec41bf4fdc9b7139215852519f",
            "3145a3e838314e5dbde11be148bffc89",
            "1f976c4200fe451d92d9130d1bbb0e0e",
            "af1dd1aea7de49c8b981fb0150d00617",
            "58d3f178cd2a40109690be5de1230e10",
            "30586ee929ec4ca398d106691bd911ed",
            "68182421bfa04995a3667e59aa2cd5c0",
            "62ea1a0f97bd45e3952558dad4d94310",
            "550d312a88374acd8c9595e4c2679b9f",
            "9f985b0a17ef4e0d8b948d9dd3c71314",
            "8f959212e1fa4c7ab64ff367244feb36",
            "3ac9c4624b184b3cb46ae30e566ebc03",
            "2783e06d3e244522893e448032b89986",
            "6f89ebf6700f4da8a9ff718e0002614d",
            "3354a3bd8349493cac54e001539d3b3f",
            "59cae90dedbe4d8f839777dff39f327c",
            "bfafebf223744a8da4b4a26d3cd7ad1e",
            "feece70ea88640bc8262c0383b339c4f",
            "c43dc9c7eba141c2b109f4aa2b59b255",
            "125a5c0c37054428a0a0d55e704d8bef",
            "433980ccb9f9411b8139c150c349f216",
            "e745d6c1d8f44b1f98a4d94d707b5ea6",
            "e0034b81586646028b27a821c6f8a6b1",
            "a67d3b4f3f004a8181745c1385afebf5",
            "6e671980dcf0457795276fdbc490bdf5",
            "e68738f6e6a0497396bca546492e8af0",
            "2a55cf91613d40fcbc87d572e3af9da7",
            "508089606899401cb72bb1c400550fec",
            "859a54cccf0245f09f4a76c7b4b85699",
            "b59345259d5e4308a91851f9e774a0c0",
            "89792f2b0d7c4f11b7b1eee385c72fed",
            "92bb1b757733448997f3d86ea61f324a",
            "a2d983ed4d6f4d48ab5e33a9e0f58163",
            "03eb929c97964e388ce29d9146cbcbfb",
            "5ecbf26102784d729a9c1e5c1a5fdd27",
            "3fd7d45e57214e3f8ed87200801951ee",
            "c9f465fb60ed41c89bef6601a50c2aa0",
            "a744ede276a34d1c8b838729f69f3bc1",
            "adfcf42319b6428eb921a8b73953e6bc",
            "8a1de98396c74d2bba6e370822c8a532",
            "4426f29d483b469a87854033b4fa16d6",
            "831e3e3aef7042538d3af92e5be78df5",
            "2fde489ab4844001bb19e1fe9300c535",
            "ba4e3868f1244d1e8b324113e5297f7f",
            "f57af187d23345a8b2b5df23595fd1fa",
            "888d7aad34464f359f5a67401f5e1cdc",
            "ee10dda7e7f8446fac866d6359a0b78a",
            "6441d4716a43469fa745ef6472a07bf0",
            "1ec6a2218f654312a6f796a9535a4e94",
            "efbb092a4a324cc083788f2517b9eeb7",
            "0009d6277c7145dbac7c7e9ef346ffc2",
            "c3933eb4b56e45c3bf793ba76bf3eb95",
            "bb619c304961425f967380ae0e477941",
            "a6ac8a00069243daaf020c26b26b7711",
            "8e224a85e68d4da6936008e27818ba0f",
            "ea8adeeb3dc64513844ff8b33235e1c4",
            "5927dcb6069b4b90b714c8804ca94314",
            "d0ee6f50206e421494a381736b7c1c5c",
            "f3e79480d0c84ca282ca84e2d409af76",
            "e05a1a2437d34613a451445397fba246",
            "966fc1b8ddf6433eb17aa1f8630e9513",
            "e4d7565effcb40f1ae29ade991b1b49e",
            "c47d98c25d834d17b7d52b447793579b",
            "47ebd5178b5b4db5af947b888fb90084",
            "27e331c413c94e11b1dd02923173fdfe",
            "997f384c071d466cb4e577d382fda0ed",
            "887fda682d76410885f8a785f86ac835",
            "e63f3e08873c4aef8f2a0ecae7de1dd7",
            "463f7fdb41c4430a9afe2a9725d3ce8e",
            "12992afbfd9b495fae074e7faab7c6f4",
            "73894a254ab2449cb0a2fde9840aa849",
            "c06b4d7289de40aeb3c16155d0701f21",
            "f53a858ea93d47c38d28f6cbe30db127",
            "a6c5dbdec9c8485da8dff521252ce825",
            "f5d35a145548471191d48b0af1376d98",
            "5ed0c07dc9d64a0e9822d3b291548d4a",
            "612aec0f4cc547f5a0c77cf2b8127ed6",
            "9ef131612110427bbc78cc8c0bcce5fa",
            "be909b0677034e4fa2ab162b3bb1279f",
            "e781c9b04792423781cf463882493b9e",
            "5cae2b730733470ba1d0414d7c685b64",
            "f7968192504240c0b9bdb175701d99d6",
            "8008f14532c445c386e572b7f581713d",
            "4cadd3f05c5846018ee9b5fdbd98917a",
            "f3e01902dbc34d5abaf8edcf8b257a41",
            "89cc25fd844b41f8bcba557615ed3dc0",
            "268d200533d94aaeae5a17abb2ded8e6",
            "936f86e864ae4d2cb52bcced7855b861",
            "68a92a770b6b4cd5ac755a993c273aba",
            "7e39a3f211bb4894ab8a3e96e592819b",
            "e57f9c1bb5ec462ea4e9b383df7b31dc",
            "1fac2696748c491b936fc31709d899d0",
            "dd10a1bd43ff413d9850044c5b2ced2e",
            "525509d9bfb949a98883101512db5eef",
            "5541c71f08fe4f30ad46d23c315779d4",
            "c395e9dfa8fd4926826e711302457787",
            "0d132c6e1e3e4740b9611ccb1cc01a7b",
            "86afab49e1b944869140f14c135baf98",
            "8a28aea0ba634108a00bf80e42da82f9",
            "669507054ca04f9eb4d5a1ae2c145ff6",
            "c448841afe9940738e59e8bfb88ec546",
            "ffb13990c772478282a5e223140d457d",
            "eabe9c9a87b24645b8c44aad609489bd",
            "30f3ac6649dc431590342bde22bb64bb",
            "a6851f19ab0147a4973f92b9625f0e29",
            "214b9954abe54a2b8277d1ac70ae7925",
            "02218c0e7b9e4e28b053aa6da4e8e13c",
            "78f40eb076c741459d1bb7193d99eca5",
            "8f460d9c8e03444f9dda44972881bbfe",
            "9c83262778784d17a07ef347fbc5e79b",
            "ccec4d57cf5749ce8d6952c9f633e786",
            "00af9642bf34430493f3102e01f88b61",
            "866f8e0ea6054f19aa3ccd3cdd586af2",
            "9f7757012a804b30ab9bcdbead9d16a4",
            "3161fb29364340ceb59ec7c7e43cafac",
            "fd7f8d15f46a48cf8bcd686999b34648",
            "2e36b1bf35194d3faf82f6c573193170",
            "757750c9264b4bb3a7c8b3628cba34d0",
            "6863bc22f29045bd869527164d3341dc",
            "331ad270c2374497b01028bde68a5ec5",
            "889391d0c21f4f7897221ea61f8e3708",
            "6c8c588bcb3448dc964f8edacf3cf5c9",
            "df4279ea4a654b7994d9e1f745c11df7",
            "4a525509e94d45788d35e31e7adc4784",
            "c3598c63195147689199ac4ed08662a2",
            "c7974c0de9314f17a56fe90c0a97e675",
            "e9b505bcf9e943d5ab03be919999fe8c",
            "24109bfe63664b45a84b6fde8df617ba",
            "18cd9ebf56b44656a13ae10e275afd24",
            "2a9d28a730084c2985c9744ad9897233",
            "2193a100dd7d4d3b850c9f3135729447",
            "c89cb9c187ee41e8a3a9dbd8813b441d",
            "f26f7bb9b3a24617927b6db5c79ec0cc",
            "5bc72886b24e4ab3a2ed28768bd58b29",
            "4ea686b6846b4d56b926a884d6808cb2",
            "72b6c70ce4cf452996caf7dc5ff0503b",
            "9190b2ca183648bfa012705fd452d7bc",
            "159a07bd4fa84e0082c21736ab9cb114",
            "4c54c3294eb9458681ded347465a09df",
            "bc681af6024745acb6fa33edd5622ad4",
            "e713b54e58124d37a76569a1468aadec",
            "2235e884e99b4d889f5fdfbe8fe8b6dc",
            "6161f0930d3b4f368db5995bbd087285",
            "38283d0bfcc9458fb6b275fdbbcde29c",
            "487e39328218429dadec1ba38a511757",
            "f32e4fb16e1a41fe9fd872cfbf51ecd7",
            "9343c4240f4c4e1e928a388ef7e16317",
            "c8f36a2208d2413092c36039091edb8f",
            "3f7cbce90c3b43efb0b647bfb2b81a40",
            "9bea00d155f843638545a08fa8b95422",
            "2a383efea4604f2ea719db5917d77d11",
            "392983f2e6744518a2ebedf7d2ad1499",
            "783fcec4a70b40b2b27a8d26f36fb99c",
            "f55864f9edba4acd80724e01ef3b96ad",
            "e0310e2d14c547b6883c0b73bdbf113e",
            "a809fb13118f4b99a50b5f9605eb24af",
            "2b235c146fd54539841092dcfb6f86c8",
            "2205a09d858b46f0a00cc9a75aa5bac0",
            "300e54ad15bf4843a1ca8a8a6f6a9f32",
            "8e529c8582b74ba7ac88a94f33e6dba7",
            "853920c6dfbb452ba9ed5e01cba1f3f3",
            "a80a9fd51c244195afde7dc458e0e2e3",
            "2d04945539e94ed6996c9597e4622e78",
            "6ebda704c3a9454cbcf820f227bc2f0f",
            "e3eba5849723400b826b75e2df833649",
            "e4e3501301e5450988a531129a842fc5",
            "5b7ba5a13ba64adea7c8c1637369341c",
            "d27b1f7091d14cada23a944dad36eab5",
            "20c27790a9bf4f8cb84e32c52b091aba",
            "4ecd744768fa4690834586354592d76b",
            "489b83ab3ca642dfb177b34c5eb9f278",
            "87568585c26a440e8c01d222c0521f2b",
            "208e5e179cab4e7dbb1189a118053221",
            "8be07981431f43b5b5e7364585e28f3f",
            "02176082e71a4fd38bd5e6d92cbbd2ea",
            "732bc563d9ca4fdba44498b540593a3b",
            "a923dfb55dc845469eefe68767e6031b",
            "eb0657e458fd4abe82bfac957d890113",
            "9fc6ca3ad38c4e2d83688193a0e41fd7",
            "dd6b3d05abb24784817f3c3c62110eed",
            "8622627fcf2149d0afe85c15a4ad3962",
            "832f1aca546e421b87f090eaab1cf409",
            "9b7d2bdf4fb84a58b483bd9edce20df0",
            "e052021043624f90900cd6e9743c2174",
            "5630815dff7842f6b08afee8cb9e5e3a",
            "58cb980935a64ce08e281178122946f7",
            "8d6ed46b3c0d46e9982fec6fd3da61d8",
            "f1f6aad0983c4406b760719eda94b410",
            "6440233294bb4c09b2a594744d992865",
            "b4e41418291644189cd296440811ab17",
            "998d5667411c4c0b9dc305e364299397",
            "315c9e1baa2e43e2beda9e885af41b3b",
            "26cc0962b02e481dbcc2242c1f4f487f",
            "945ad7bc21d94ba4b44e24948c58dc24",
            "87ba61bc3aaf4e7186d9392dd7be14b9",
            "d4f7636215cf4f3599ae9a4044baa725",
            "a12f90b97ece48fe9acbbd72eaff905d",
            "983bd4545eda4ad7a214e8404fdd58d4",
            "78d3a54fd71944eeacbfc90b08b63db2",
            "cedb4e37f1e24eb19373f6abe032e1c6",
            "4e2203af21b64d7284ad078e2c7a6587",
            "84424f596423419b8407032a602f3a24",
            "d0d84d07dd4a467da9231852ce410f76",
            "9f81e0c7e8844e959ff576d12b0d72e9",
            "072aa746278f40188c5c50c05965f4b9",
            "7bc2708da9f3458884f04b1401f89c14",
            "3778df7924174d7db4f38029fbf3cc66",
            "6ff88f0c326d463b9e6818e32ebca1f9",
            "061be099995b49f6bf3787bc97c4ac72",
            "a67cb2960a8d436eb86952440ba0ec4c",
            "19cd5e1da4054e9c946beba512fee74a",
            "72a9c307029648408e57d67a4aeb1f40",
            "22251c09fe12408781da982eb2e64b78",
            "b2b89ca849ac43ca8637770e40b1ff89",
            "2cf80ad34266461a96ff921a167a7f49",
            "fceec8c3abc246988a58bb42ad77dba2",
            "467ad3e12fc74790b5ff29a1f443ba96",
            "92ae73151a9f41688db5f049af0e1239",
            "d70d67ec9750433d8d8f08975b8fc076",
            "5499e26fb45c4fc5956bb7972cf53efc",
            "3998e23015f84902a3958050a9a02fa5",
            "d4bc95f920e7475484fff3c6ddd726fc",
            "232cf712d33046aea5bcf5a7faa59864",
            "5d76668daf8748229a7be1efd059224a",
            "88891ca413f348b681ffb3d9fc7e0ad8",
            "b9537c14695647038907bddf73074c65",
            "b5cd962026844a60ab9b024f91f7a072",
            "fcc8c33c9cdb488cb5b4a1d665e8a1b4",
            "f4c720cf0b7b420d8f35bd7ceae0c85c",
            "d7cf273dfc9b4acd8719132eff6636b0",
            "badb7796a7a6403389ae72f3ab785d7c",
            "fd1f4d5ec63f4ff38f054cc26ce79d6a",
            "3503a53f96134a9fa5e6658452539d30",
            "4ff8c651111b4b778d497fc52213d43c",
            "15aa470f7eca42458524c3c18ea7d8a4",
            "5ed1ae88cc6746e291dec2c6441cbbb3",
            "0cba18754f5443b3bbd58006ad3829de",
            "45d57bb82e754cc0b547cd5008116e3a",
            "e18da7a5dec542b2b6c0e64e7fa50ba0",
            "5ae2132a6c5342df8bf9c71be71f7b1e",
            "7dc6711f319a4d568486abacb373351c",
            "e67ca4e4f32b40bc8cd69576214b94e4",
            "892af47c0aa2487f955aba36113bd1d9",
            "5f73954e86a44d1ba683330bd4794cf2",
            "dcf55d230c91491bac42f70aaee88a95",
            "d72ad379c81f4fa8ae9f7ae3080b4098",
            "c4cbcec8a7b04fd4ad172c8a9fcb2d3b",
            "aa9a4c96683944af880f80ef85097e43",
            "39df7acbb57b4a2093805cf58282e7cb",
            "f4eb587c7fe84a739ad42fe9ffc708ac",
            "e8e83c6f20e74d7db3a313ba901651b3",
            "5865be4f90c8455eb9d29a318795f1ba",
            "285ab82aa37148018a7aa86bc33b0b0a",
            "839fabcddac9474dbc69a754c20e384a",
            "f2c685069e424bf3a5a840ff3d2e2fc0",
            "f14164a6a17f4539837a2bc3d018501f",
            "d0daac2794234aa1b5944d84a0e7aeb0",
            "78a6dbfa49444c8c9c6ef93f7f9af77c",
            "83ce0665c0c34322a1ca0159aba7bdf3",
            "8c3b0b2711fd4e6a9decc556865d730f",
            "6b0c58788e3d4316987cd405a836fc20",
            "e825495d65b14f34b115459d4fe51be8",
            "b35991df2ecf46f3bfc568486b49f4c5",
            "d9e22d4d31ca43caa4c9d55370f95d2e",
            "5390685435f5434886d44015eb515544",
            "854a20384764495ba49a88f920d4cade",
            "a2590ef0001f45bcacb131040d3fc5b0",
            "351c5891b96a4ff9906a98fc93a511c8",
            "08577b2172b3428190be6ddfc7cbde14",
            "1a1c02508dc040519a4620e2b1902530",
            "42fb6c20665644ec858212ab02756068",
            "b5d18132ec4746c087a0b4b5ac35e8f0",
            "14e109b1774043bd80acf9daef1ccd3f",
            "6f7dea0905ac49e1a1d1669217f72593",
            "c98b86eeb14e453e984fcffb3cd2bb7b",
            "0044fe994ef34b77b04111bf57a89907",
            "736f0d9fce394ad8b0ff7937572d231a",
            "6a06c4571558479090f05d380f41857f",
            "8bb23e4807be4e4185e47cc1b277909b",
            "a7fff3b6c1614c2a980ece105cd2badd",
            "5578059c2b8b4f3eaff6a8e01d0c08d3",
            "aa6c36ec36674c33be4aa9af0b50e7a7",
            "3a47ab59596d4a73a8c2e6b127854f83",
            "c1e6d8cb65e64b0284efc75801efc8e3",
            "958b506e3a224907adb6ec7fc13d0ce6",
            "392f13f594154d6fb38602af1ea13e31",
            "4348c3b542d542159be18354e6812270",
            "c2ee4f1b003149f2b4be67d64a7a85e7",
            "4c0035a375fa410ab29d1c4c811548e1",
            "6fefa2235e9d416985d49d66e83dcaf2",
            "1b17a7dfc691437a8edd0591311bb965",
            "ba0df43b24db4fe781563d31b7d74351",
            "fdccca8bd7984259b245f7e4c5a67eb9",
            "181029e1c7194c7e91e408c4ad8b7f21",
            "5f0c1eeae4464f8a9df4c12dcba2a561",
            "44587a8c4c3f4ff193fda8bffb640169",
            "346fefef04fe4f75a2c1f7e8075a118c",
            "3254aae2c9764afcb9ca234f12a4fa09",
            "f9af3f804ca149f19a1e71133489a3b8",
            "567a333c7ae942c1b5497ff8130443ff",
            "98848b13d935467282156601da7352ad",
            "b5602511a18a4da7a84c0262ef76db15",
            "cff955740974450781bcea7f393d95be",
            "56b65ac9eed245af98618dde67b05e4d",
            "c5bf07bec2364919b57162ad794f4ee1",
            "16743bf635a0480391c3cb1666c3a904",
            "f685c7cb0d634de399b86583dcd8018f",
            "9b52293c4f8b407c88aa8d58b31742e2",
            "1d4b22ca61324437a0f6b2649dcfc93f",
            "24a4f9ef2fae445ea8af00154c6387f6",
            "7594fdb2e8774f7ca78e2485691a85ca",
            "3a03a772f9fd4c28ba6967fed252b4d7",
            "be8e0bdab0c34eab86a90d8fcb99b2cd",
            "d80e5c3ab7f04d6ea725f31681d119e4",
            "97ee7ea1f3a049a5ae12294ce45b4157",
            "e6c1fb5aba8c4a9181ce20f7b2c10ee3",
            "e8d5292321b6451db3092a02911244d7",
            "f2b554e6fb17488bb0dc3861526c1f44",
            "ef39a44b0c0b4158bc36bd2bbdfdc29d",
            "6b76dcce96a44332a4ef6bc83c9dad27",
            "ce5e27177e854bccaac99d10c795254a",
            "0a8d502a313e44749d161dba54fd96e7",
            "a5ecd190a78940e7bcd08af74ddd989c",
            "837c9cada4f44752af5b689fa0fb15ad",
            "3a7e16e40daf4b4986c5eb3a4642ebf4",
            "9d3be28d031549d9ada88a0e58d62b17",
            "12b4153aad764617bbbeacd052521cd9",
            "a16a947419c841bdb83bfbdb74d0c3e6",
            "f4751c1338714e23b20b667328797515",
            "5ed1a2b5a5624b3b9c7c72ea2b91c53c",
            "9b4954240efc4c0fb03974ff1017d540",
            "a5c86fe3376b427baacaf40a98e1f0ac",
            "0c14668998fc4b65adfb7bb59577527c",
            "e73c0d23e65146a09e0469fc2714dd72",
            "492f581a77ca4b9bb6a2bc2b55e5826d",
            "5c89bee61dc043cf865c4b1001ef5aca",
            "e15aab25fd494b269b98e2690cc49997",
            "af52d387b13a40339ba2ff38e743f5b4",
            "519660b7c4e64242a66655dc50881ee9",
            "3fa4c901911c41f5b43764a453de6545",
            "3a9ccedd2e094461b3d775ca569e23d1",
            "cdb7b98d4a844eb0bd0025c13a629842",
            "90a595b116f840349352abcf4a3b8d54",
            "d1a14aac667a4546830157c5aa3abca9",
            "42f3b738cbd04b66aebf53d17a0b389d",
            "12a1802050a84049b2885855fa010a27",
            "c641a07f64c44603b46d2d7c3cbf61f5",
            "08eb3535da0e44ec8aaae5f5e7cbf5c4",
            "2a6359bb3ff0421b95743112d587c58f",
            "343af40ffcce4b4d9e8e27cef85030fb",
            "e1c3bae1303c407d8c33735c6f82f123",
            "58eeaf9b5b824f1794d095024d4b45d7",
            "08e0baf830544b4a8b4f36022df9d3cf",
            "cdc3740168a047fcb862bc81b86bb32a",
            "047bd2c822524485abf37ba3ac6fa01d",
            "d3ee4df766ce4e048be519cadd4d06ca",
            "8aee80a6e387482aac9b2b451e68d1a5",
            "34539188d4ca41afb38d7f59d7ac237e",
            "54a7d22c4b914aac95efdadde7018f29",
            "81426ea63a1f44288cf6c90f1233c3a5",
            "7e5a94c0146348ec9c735fceed911245",
            "b8303c09e124456784829a34f2b9ba62",
            "5376137e7b634d908c7fe27771f8ffaf",
            "166aba73059646abbe6b13002bc31b59",
            "d0e89ee5d1b24cfdaf7799c9249680f7",
            "0f101c5a27df4239bb0720a1488eb3ce",
            "59d64c707fb441c9b3311ac214cd3bfa",
            "29cae373d88641f9aa9145ff080015a3",
            "ab50c7555409498a8c64c082a0d5eeda",
            "7ff9ed2f723f49359d04f09e8678e816",
            "f280a607fb3641b490b80be67e1ac5e5",
            "7b04a09d27d444d784ba4be3c9dfc014",
            "4a9d070c31414a4d8632326a8ec208fd",
            "0708629d16704bad98c51785c135332c",
            "4815b741836d48b981e14db262dbc4c8",
            "8de5e4236a0c4d7293f0451468d0881a",
            "ff9ec5d1f7cf4c4584c2ca1208ba0a7f",
            "5d544a252b954faf833de26c4a1e3140",
            "1c011032a8f04444b83264f9f737c5d6",
            "75475be73c854c839bedd539310942bf",
            "14e3943a79bf4ccd904b6d6fb1f6374b",
            "d4a5360fdcf24061a7e22dd43e3f6bd9",
            "7b1dc34b137a4538bc194c0bc6584b3b",
            "a6b84e32507741ceb1cf02d715d10075",
            "113876f380574ad1bd526282bdab3a42",
            "f084d34ae7dd4491b065a97e58a6897d",
            "979539fbd2fb449ba8583c758c8cc8c4",
            "205b1e75f2794815bc158f9b7ac25812",
            "3d3c764ca03f4fd1866c5249c30242bc",
            "ce53d1258bc34c8294247f53a5c15774",
            "48e03160398447939e544116ddc84605",
            "ecd2ba36092245beaf3300fe0c62e990",
            "c4c12572a68843278735db6256897a10",
            "409396ed87474b6db6c54fd39aaceeab",
            "e638fa80505c4dc1a0eddb6d11b794fa",
            "ece7049c2ebb4443ab89e2b79ae8cfdc",
            "05879b5b324f45fab4c4fe97aa49a81c",
            "1d4dc8d415b54f749d2696ff9ec1ded9",
            "c2a037233283436fa4ebadd44cbd2a00",
            "f64c8e06737042f5b3c87ee682334c73",
            "5f3f3f6394cc4e43b72aa919a980a206",
            "1514564dc1b84d9cbd0117fce63bd8cb",
            "260cb67695064608acc227fd1315712f",
            "76b8b336556c4f7c897cc07434db4c91",
            "17232ed2779c48bbbec8de9c9b7bcf94",
            "aa6c92ebfb364be59b614b7ff8636b31",
            "6756f495885f49b2a504ff4ffb76ae0d",
            "1986f0106c584ddd8cee3aa51a335a8a",
            "eddff356847248089e700d3f7ac0eb87",
            "abf8a760969a4a6c9293afda77d302ef",
            "d3f3c6c8a1c54619a9593a591f0b67ed",
            "a66d5746a05d48ae98c6f48cd62599f7",
            "d0c9cd2fa3c44d6f9006e7abed958e3f",
            "bd57ca020eae4e3ea51add9c47a2377a",
            "05f1253d047c4d26b469a2039b983e30",
            "290d012d247e4995ad00f9ac2324aa14",
            "2170eb395bf24794ad7a8876be8ce51d",
            "7b56508f933146f8a4cdfe78b673e3ec",
            "4708e1bb63534297ab83f1478b90a53d",
            "c3d802a1777f4cd4a725f16266cbd658",
            "e59fd9362e41483fad330cc51105fd4d",
            "73d1563fe65042c5af9994f87d32d800",
            "edb5d38888a84e49a2390bac5689ff45",
            "5214f73a32cd43d49e7ffdd3cbe84240",
            "9a2b091fa6734f9f8c270a57f04b673c",
            "ce43efd3a0b8496b8395ebd34b1ac15b",
            "885e3cfca7354f2aa98bb864e542cad5",
            "12997070205548ad962358f2bb3e214e",
            "5a96495079e844c78bc4c01acc6b7d15",
            "e90ba6faf2b749eca3826fb09bf4125c",
            "11a213cd2d774186ab4d4b19e83997aa",
            "d16286d08dad4c428ad4a59f4f4446a9",
            "4e26a6bc8c974bb4af494a509c656a3e",
            "3a46973e54d44987bd7a86a482f33a96",
            "f8aee4f3c8d04cbd9e564798807b60b6",
            "427fab8501cc4be28212fe566fe1cd99",
            "d414952e913a4314be17f3e6e63b8474",
            "0a255396bcdc4b9c89d25247d83df59a",
            "54bbcc36b4ab4914af408454092abad9",
            "4f3052f952e54c48825d07518387a1a2",
            "8ac30ace6de34474a43d21f0028175af",
            "8ee595f23c9b4b9ea6531a71c8197063",
            "b271642e90974c059e9e22ed8bad1400",
            "7d7cb8dec8e648769f59c4370c4f6c18",
            "fe6ae1e6694443409a74eb91a55c8fa8",
            "d5200cc21ee84a2c8ccdd8ad42eb7005",
            "40b31626d65f45ea870c21b8c9a28e92",
            "72f725d638c144a087432c8e59edeef6",
            "ee5287adcc5f4ef0ad397f7fd2ebd722",
            "dcd0872d3a1e44ee847e53d1d2fc3939",
            "9de8a53e72104cbc899353a6ea04cd01",
            "ccdf955964274b3d8d8a4d9214fdebeb",
            "9fdd690f7654433688d0cc633485f97b",
            "cf2ca55abcaa41adbd72fc1cc296bbc1",
            "8b26c84fbcda42f18ba6ce41c071b511",
            "811b20c6209441eb8e6f6c3b64307f03",
            "b39d94e92de2453685c822bbecc2215d",
            "6b00b11e8d3443cab5cc5a8c91fa9201",
            "800399fd77fc460c8838e63deb3a5229",
            "da178e26fb824145b3f080b732221c6c",
            "330a3d4a4c084b578cd462ab214d9f0e",
            "6e43d76dfe3048fe940443bf2b4595d2",
            "09d148deee054901b0a43657e29683fc",
            "861b2e208daa426f9f53206f83c926f0",
            "0859d42eab644ab3a2929862167f344c",
            "1150d806c1ae4a139004b41fcab6bc45",
            "e1900b5a00f04d01af21799b11eb77cf",
            "9c737391f5fa4d02a6e8115215e99a94",
            "1fb280814e88403da561798bd2ceb6c4",
            "0745a510ff534b259dcbe83cce58d539",
            "bb3fea502d534367b4b77f35dd0d2b7f",
            "a6435de3ff7844c7a74a264ebca8b5f6",
            "214023d63aed4aa7bcebbae2b22f7237",
            "60aeb64080974f2f8288b43c4df15bcf",
            "d04dc12455b64e42b943f7407033c92e",
            "bf8a1e92b73a48bdb61df6257d5fbf5c",
            "030a6306728a4502ad2e1f7cf03c551e",
            "ccdcde96666d449eafdbdcbe01c338ea",
            "ef7be7a32c1840ca9796b0d15a9b108b",
            "295a5248c4474251a6f9db9f1394291d",
            "2d9d7b04518645aca54b66411db824c2",
            "4f28d0efcd9b477e9bfc41ff58dce293",
            "af024c74352d4f05873b4fcecfb970cf",
            "8828ce65c40f4920b855dcc4d789d037",
            "fb7e1e38459d48ac97f7184612c2725e",
            "49596baa21df4a5b993981b5c4006579",
            "123349f79a6a45e28e0d818638fa56d4",
            "b29a73870d3249f4a281eccc205c4b51",
            "d58f06b594b04497bb46590b011fca91",
            "1b8132e4f68a4b2b948e78bd2f5ef6ea",
            "e0d2a9f1bfe9431c98d19de4bc873d8f",
            "a467a01fd6934ddfb23d5941ca2a6368",
            "e229c678fb3a47c69d354c180d7d61d1",
            "dadeb7010559430fb0c4808e83d9c9ee",
            "f921e06d8643494089f74d6d3c33ff78",
            "a01e096553f84ebea55836ea4dee161a",
            "9dade086395645ed8a611d71981379b0",
            "85d5ce23881b4570aee6adbd6b700082",
            "f09bd5786de84cd89372e170d5d5cb58",
            "c5a8e0bf38e34ad9bc9e73986c8fa0d5",
            "745ae1f885584444b988dc5c708810af",
            "d4462e790e6c42b193ea8bf1b520186c",
            "7a5e799e8f044964a3eba6ac8c54b692",
            "740bd55255f746bc920c2938fa2dc76d",
            "01ed3a61b6e74252a50926fdb07f55ee",
            "43e3778422c64d04ae9b74fdf325b3f4",
            "3d24aaef8e724af8b7f5537df3095ecf",
            "0bb07b28ffe540da8dcf23672adc339b",
            "3124801131f04eacbba8c033784c6e27",
            "b1ca098695b8429d9d989c06ee83b32e",
            "2f8487b792ff40a3a86f4188ce2e162f",
            "21262efbe86945ebbd738f430d056679",
            "f569aae519bf4ab8ae66349a7e64cea7",
            "ac2950af27144227b549117a96602636",
            "de941657672242599c51af9334998e79",
            "68cade3e37864814a2f4bb6b9c1df04f",
            "7b1be791bf4d41b59a9acb576aab6c13",
            "1bd0d0c204d1436f8cf1063fa0aafb2f",
            "11a051512ea34039ae897031551a64f8",
            "89314b31cd9446ddbe9b6ea7dea9f244",
            "70158ee9af254157958c15c2dd3ca29a",
            "bfc70e9de12947f0966a76dbcc99b7e7",
            "58b5e51dd78a4c1c9ee81230f4385335",
            "d675777c6192410eb828463627c64a80",
            "6f4ab9b78ffb4ffc8508c34e084d61d9",
            "646f149b54444dcfb631f95aa93e21a0",
            "0858996104174692b4a4b7c816a93f0b",
            "1715bdb12e0a43d7a60cbf762b45d35d",
            "5f8c64a47c44437e9b2383b0b5772838",
            "8d7956bd7f0c4b2099b377429e3fea25",
            "b34cb069167e4188be65d5d635e5f3f3",
            "cf9062bfbef3444187ff55db399a73b1",
            "4f438da2059a4496919d82784d92e6ab",
            "1ba0593fa4da48a0b74616ac63ac6ccf",
            "0971783d4c934084b526b91c7781f0ef",
            "a257083414ca46c49f8bebdf24869bff",
            "3308077915314b7ea92c220e5ded2997",
            "ca208f710b544a53bc9c1d0fcb76f6de",
            "cd2f8d87697d40cc85b4195efbf2aca8",
            "89114e82af914cb1acf4ecc6529b3f0d",
            "cfcc6db8bf2043fc9de9960b3bb0a0d1",
            "33e7e8636d3c4a0599ed8ceae44047e6",
            "94fcb135ff5a4737a18e000e3c4cdc32",
            "b492b16f1d334766a82c5aabd0e9ef84",
            "155e2e846de64918a33268a292c0f20b",
            "01086b97473c482fb17318fc51e74b35",
            "434e305220ef4fa2ad88b3b237cc35dc",
            "9e4a46530d3b4e1ab55d6a9a032c846c",
            "4deeea22b36d4208b9be235340ece8be",
            "0c50f077055a48f0a48be40d2777a8d1",
            "a8e6e01e512a42559b7378676007f3a8",
            "e131a6d0cfe14747a243562a76be0122",
            "b00a15502ca94321ab19aadbb5885537",
            "42429d400e5a437a8303af78a22867ed",
            "8e93a9925fe74d0d9e39257df46b6906",
            "b3863237605e49f091355b3acedeb870",
            "05c66bb6f439465986f3612b46e41903",
            "0bf496b512914179b1273eb85f9edeab",
            "e92747037626460a89dd7c42dc15a2ea",
            "5e19882f770b4ad789f4f7a6fa7d0fe6",
            "413f6fc754d04cfbb9c03bc8a98ca1d4",
            "e19a8012bccb4f08bb36eb2c6b61e9b4",
            "cc2cad2dad54488b9225371acca0f8c3",
            "a8749ec87777465bb91ef5287cba3b5e",
            "d941ebb5dd724be6bcfee84d00132b17",
            "2c4b9920d07142c7a0e6ea3a996cbfd7",
            "f175d73af2eb45a5a11cd3fb04606be3",
            "53c377fe3d5341df9d0f0583bb48fbe2",
            "9462cd3bd64c4a5ebfc26524307d8c4a",
            "81d76da63bfd44789fb6d246c6bd6dee",
            "0edc02445c2449a984a67eda18894367",
            "6a1ba2929f0749c8942f9c91218d525c",
            "b041cbc957e24b7ebff4560313496aaf",
            "fae3a132672642e9af1c3ddf87715049",
            "82afa374a15742db94b0b615ba9da3b3",
            "a3c308f74afc4dd4bc34352d7696d211",
            "ba30ac8482974c338781b7674905176f",
            "77ce0ee79431422581564676dbe5e94c",
            "ad98fa7b3f7a4ce283b307dc0513bc3a",
            "828a4bd6e6b9438f80212a557db0f4fe",
            "131eec0932144f2ea87aefc1e157de3e",
            "bfb1211e161b4405871d0300553c6ba1",
            "f1edfbbd329b45d683bdda33c631b12e",
            "1d2ad3db45104dcdaf5366a58bfd3629",
            "fcae0f24241848f08b121ae16d215c16",
            "f58e145500d943238fb51830298f772e",
            "e8e3c037464b4d5aaf5d80b3ed40a714",
            "24dc4bca12324ad99a87fa4f2a1f6da7",
            "91b89b7eec144c99b8994c1934ba7bbd",
            "68bbde31e9224f859a8d8d043d3bd8f4",
            "7bb61be8cf814c3e9dc82f815873a5d8",
            "d49b0cb519b544cda1fdf131ecf5d940",
            "ba87ac6447c0449080b01d0d02b0ca32",
            "3fd364f38472486f89b55d96594b3d0d",
            "44be7cf1689f417180069d6bee97226c",
            "e9a884e4b2bf47409d090bf6140d4e4f",
            "d27844b4fcc348c8bcf7a4c89fa939a7",
            "21bbfe1ab3ca4c05a43efb04fb050839",
            "b46d89dd76a243c78842ffa2a3dfaf20",
            "49c7c6d4a1af40c89111cc2311272ff7",
            "97c403b1cece4d208ecef7eaa46d00f6",
            "b226eff1fbaf44caa61835243ab89f48",
            "1f74b44d9d934ed5a75deb8fd39ffb3f",
            "82d505b90a50418285359a3615bda690",
            "285c4f20700340e7b74591b3e57cab7c",
            "b56559fc7a5d485d9f20cd0f2db554c6",
            "d617f03dac0745ae95be594890a867b8",
            "215b42fb4b394212adae7091df697865",
            "cd86ec6dae9b4a319a448134e8d7d56d",
            "babe379225b44c2eba874e05244fecbe",
            "f62b17f0078e4ec182089b4a5176b832",
            "91134f9a995e441bb55e7d1f68e3cb98",
            "15292fd589c646759c798b6d24b3d6f0",
            "ccfbd8c201e04b38b48665c223589b79",
            "e36680cc54ab46feab0570a664d22ba7",
            "fb8aba235eac4ff8b2f1b21a1e209ac3",
            "891c588c6d854f71957d0fc7f5278217",
            "cbe5cca6eb584a8b84dc7ce24211a6c5",
            "f894b87906334ae1bbfbfb09a7218863",
            "e642e8fa09984f20a48b5820b77a8036",
            "9f0cd0805ba946028408497e3cd54484",
            "52e3f564df654aedb4e99e07b19229e6",
            "40b712c913364655a935ce9a05578df7",
            "ba10095e19654015a2d3690dc9016477",
            "dd452c93c9014de29fa38386b5f38e2e",
            "33d0b7078dc94b1eadd0308702548aa3",
            "f2effc9828724a31880bdba728fd6b94",
            "acf74163a8334448ae483941f91d66e7",
            "c23836ad880540c3a17c54caa20ed843",
            "73b1d1da2b54407b9217dc9f5f9e9503",
            "9e7a0b46b03a4cc78586bb94aab71dde",
            "8b320e1b335f4f1a97f601ac56d85aa9",
            "5fa75b2cb6c24c7491e90750ac8f2d1a",
            "6f28c6d04f114995b1c74de7dd5dd5b7",
            "bff9715117df4783b5cf7aaca8d6f32d",
            "82ac518ee18643729bb431ea6c19205d",
            "b72cfed5569a49a2ba5d54febe7faff0",
            "f0691ff756cf4d13911d9296e4ad5b5e",
            "0c9d7fcf48b749289892eac7779f394d",
            "cfc189771f464941ac1b7efaed43bdda",
            "62933fc0a2e44326a63e86cfc0e76b86",
            "99bce208d21849cfa80eae28d84e22c9",
            "b8cfdec010bd42269554faf0982e3cab",
            "30e9838ad0bd40dbae70b7df55b05dfd",
            "b7b04a6989d54fe1a0505962313f19f6",
            "1cbd9d3a52904fd6b5d891eccc64920e",
            "04303a5486324c54a939aa0fc7047c4b",
            "7fd9e1677fd04f7ab3e01c8ce6a424f8",
            "657873a9085642689fac0105af5212a9",
            "2aa9c6a9616449858e272724f4f8f600",
            "9dfab34767c84708ba3a8e7fbe289f3d",
            "58d48172adc4474b8c5629ae9dce41af",
            "a130ac96d5bf43afa43e16cd2a2d7e37",
            "1ec307bf68a44e06b41e305426b712b3",
            "01090f21119e4973aa5b7a4bf98fce8e",
            "79ac232c4e624629808e52100cb95edc",
            "311761d392724e24bfb48797d1753e75",
            "20f621591054425fb00df6e0bf95eccd",
            "0c60d4fb5da2442dace52298ee2a20a5",
            "606ad310ce104a648270566fe09bb261",
            "38cfa447b1c5495ea9d377d66fc4ee42",
            "4c25eb364a8942d9ba9f7eaebc21ab5a",
            "ccddee18671240a6b2483aa320d4f644",
            "ae82125385074688935d16be169987f6",
            "e5dd63373eaa41fb8fa6c7c4b91899d1",
            "7e996ba0b6684648b02d0e596a9b1d00",
            "8e8b8b2c4faa4d34991b8e532f51b1c7",
            "5e535c8b5776400d942fb947a7169d42",
            "cfbf31131e8540acbfa3ade42107189e",
            "43fc8decda664795a97fff5bdd6402c4",
            "88b4cd0af391416988169f0eacceb942",
            "35b9b5d13a68450cb5ce6a6143e7828c",
            "6d1a766dfae04df7b54529414a79876d",
            "45031f62a7bc418caf812e0c5ca28505",
            "79f18e34e0db4836a1d57effc96ea543",
            "0b66cd5d83fb4ab89fa9b2c8297eac35",
            "0ef25122be994722b08ff4a1d7ad4bbc",
            "89009056f7f54d6ab2e8ce1d26c199ec",
            "292f16c1eedb48789ba5922b3386f3ba",
            "9db8e18c46974d7982a8a4f1a456cfc9",
            "c3f0a2b693774a2eaa82e934bba75c87",
            "8ef6686722b04d7f8eeb54ac7c3e91ad",
            "7dd4e3fb1a714d68b2df2aa0cea93c90",
            "1ed08c18485e4135b9b29a329f0477e8",
            "704a7ca2cbc6483f9da85b8c7c830e6c",
            "25aaec0d12244d888d7f3795f0063557",
            "76ae56c22e4c4f59aad1611ddd280762",
            "6da8659a0da545b187a32c95947469f9",
            "28a63f805c824091bd536722e9a94f90",
            "9f166aa6f4e14ee2b5c636e19d16e589",
            "c24a4357c5f54bbbb1e6c1e43b0f27d8",
            "2a4a0c53cec9413fa23cc520b2eab950",
            "ef27243ce5244f2eb9061d8f5ea25d95",
            "435970b2e7ba4471a179454755ad36e0",
            "69ae3d4e6199454caecfa7c624b69ddc",
            "38c62f54a7764e6a80fe3a34303b9443",
            "f252bec158ec47c4930942d20a3e3364",
            "e330545dfa6b4bc582dd7348ad03a7ea",
            "d1ce13c399284a24a19c2c23097aad7d",
            "fa33cba5115b427b99f27aac632582bd",
            "8818cfccd56443b88ef8cf17457342e0",
            "92e763c8785045e080850884e0fd48de",
            "dccd77b32b0942cdac0e53a8305ca4f0",
            "f4fc8fe92ab842c4aaa6626a774b9373",
            "356377b70f6040d5a8329ca4f375a123",
            "dd3a1222a4a14a7d8a967998ca9674f1",
            "c05b598cba9d4d5d82af0b02d173c530",
            "3957264b700f421690a03fc3728e1993",
            "cb1d077295464febb41487778c3a5830",
            "32597ea123e14419b92b4b96ff169585",
            "a1173ff4b6124092a79473ffcbcbf46d",
            "402d58f561004633bc0193ffadd216e3",
            "f7e1fc53b4ce47b8b6aec47538360452",
            "15c6ee26377d416d8c00db9f974d6089",
            "0f0d62e974bc44a9a0f3dc16f714b902",
            "e8e73029fba34f29aca63a8ff2444698",
            "34db3fa4949a484888ab7b68a6c155f4",
            "a6516939c0e2432daee2d1c6fedbf2c1",
            "8ea8ae377e794fcc8f7f7a63573211a4",
            "9ab3c6d89ede4729a012e4f7f4cdd447",
            "6e3b3d4fea8c4071965594037b18522b",
            "aefb902f52554295a4077473416b3610",
            "bc237b82983e42b1b520eaf0f019cb50",
            "d3cd1d4801504155bb64f3ee48e8f90c",
            "d1f016a293634ae7a26841d66a93945c",
            "65425b5199aa40e6aa04e0b9b8363838",
            "f44d00883e894c45aa5cbe58e594983d",
            "4cf8e676061f4bbaba80414c6e64a882",
            "57b4a68bc31a4a529372e964ebde14bc",
            "40fd8070d1ae48f1a3c94de8a0eceb47",
            "1d7e4c2366f14da58d0de58af221cc4d",
            "dce4b243b09442178fd97b8520115a79",
            "ec13f41becf943de99c3870753bdfb0c",
            "4b417024d6d54d8d99751aba501791b3",
            "ce54be1e66a04881afbcf6aed7172160",
            "d1123e6dbe184c989352e24183214abe",
            "10ebd3fdf83245b383ecf229e09064f4",
            "112b2071d98e46ac8a5358a2dc09e18b",
            "96b16e8f8181404cb5d56fe412943890",
            "967d549cd9d646f892924190b3df1431",
            "bafd32fb1dec4659b6d73327eeedf7cd",
            "3ef92af52e7e4f4397c7d0b429457858",
            "7072b6aa0bfe443f9666ff3ab0db9277",
            "f1801563f0704d0eb384099c4df6f3c4",
            "0b1ca975346d43f898f02843fc45b5ac",
            "cfb4298eca044e55a4f25d981e33c1ac",
            "bf6adc9fa0434b0b84dd5c4d8f32b723",
            "4f02e7025a394315a56b62775f0684a4",
            "83652a4cd36c43d1bac9b84c15fd2076",
            "688e2efbf43649c4937d8d435b07e2af",
            "26411f410e0241ab9388061882d3aa27",
            "43e2adc728db493bb0b158d51b9f3916",
            "afdeb552ec2349529c59380a1f6327ea",
            "81177ec12e724e23958d716bef3fda02",
            "9391bc484f4a4ceaaa0de2b75ec881d8",
            "b6d7c128302a4fb895df6637f5fb4b38",
            "c93329f0e37944579040e9e2dc607b66",
            "9453092b89e8449eb0eadc752e713972",
            "f2956ad11ad645dd853a4284663a431e",
            "a6af389c038a4a8faa0f04527a990998",
            "ca9895ce4bf24fd9a6c1a3f7a6f9a77e",
            "f6a59e9f5fab4acdb691b8cb3f918eef",
            "ab2c11c657bb4c9eabe89d774cffad1d",
            "28b56b120e59468781eec44b37f6981d",
            "7f250440b14342848825163e783dd567",
            "85426d6f9704489495515352232621d4",
            "0e9218f6838f4b31aac835d00e879df5",
            "1ea9710a6a16438291de65b60e0bd133",
            "cf6b04e3bf1b44ed847ac5a61743f85f",
            "e051b17373004f92bca8e2c5becec1fa",
            "6a235910ab594138b11a31e32c988542",
            "3c88f652d2e14812b37367899c17b142",
            "76145c847eab474ba0245391f8a87a62",
            "ee76f19dedc9474f8d730c4b29371e53",
            "aa786079b08c49c18913168988083176",
            "9f1f98e334a44dda9cbd1fe73c6e6349",
            "bc561b313d1f483d93fdd2d77dd67e6b",
            "15039af79f7d416e89c3c9dcb05df795",
            "812fa9741a554b6f8609dcecdb8ad4f7",
            "356ffe471fd6484b963aba85380cd624",
            "fd63e65da7b243888a63da95267a7f65",
            "84447a142dae410dae4a9f1b07e1f3e7",
            "aa584baf48be4eb985f6bb1acdcb3123",
            "abd8fe3d31bb4198bedf7a311be116bd",
            "7014a50623ea43998304043767fa0571",
            "d64289efb0b14c9da2b953dc3affc09a",
            "a995335ff6cc40f7afe2b83f91f750ef",
            "7b324863bbaf4ab586653406fe7d274c",
            "3605eedd5f394fa39bb865c71cbf1cd4",
            "786d006385fe43cba6be960d2339d68d",
            "c8ea0bef006f4f65bd7c6bb945e7219b",
            "a3923d0755714df7845bb3e6316ccfd9",
            "77295f7d47b0482590c5dc7098d2e2a0",
            "bf974841df4c46a39043150da7f370d9",
            "bcc55fe89be14a678f1d1128e208aacc",
            "3756e23505cc4483a02e9861e65357ea",
            "74203c1b032a409ea43acb457264d43d",
            "948d1832cbd447f098b87d64c3f25508",
            "46922d85cdd34794967ee496823e49f6",
            "a757e4b155a94083b194104799969954",
            "53cb4d3c0bd04fbf895649f4edc040b9",
            "c9cce2bb19cc427881cb31b2fd86f4af",
            "92e18110fa1d46eb889a5612fc5a87ff",
            "3b030cfaaf474cf68b2a0d9df46c41be",
            "a4b3e8311e454f22a3a244c6b512a390",
            "36a074f81183403799cfe27603f90f34",
            "abbdbfb1250048dbbb9fc6be751a19b0",
            "5dc3ae124daf4b9794a4ba81eeb3cf26",
            "0b88d59f19cb43f297d801d45851ba9e",
            "b9818826d69249eeb9d0ec5a478e6b89",
            "c9929d5e08c54bf1b7544d22369d29e2",
            "fbc0f5e88cfe4718bb3231182aa93460",
            "f9921240e8d34fc0bb9238997c7da4e9",
            "d37e1d7c1d944061bf2acf963888b26c",
            "297559975ed94a0bb3bf25591bb5e07a",
            "128b229528d24b7bb4fd21002785a169",
            "ab0b4b448be346288d5dccffc713f0d2",
            "4c976e29e0d043eda52fc79620215eec",
            "253dd8c091484bc8baf495c788e2b3df",
            "445d244cd6434bfa804c194247907054",
            "1e3f2454864f41d4b48115f0c06ce10c",
            "99f85ca6dbb94ebc864388ce5d992808",
            "a7630345c02f42f0a53ace846e064807",
            "ea4700b24efd49678e67fcd2451570c2",
            "333a2f48d9c14d92807fc753df166e68",
            "c93d7fde7c1143d79e42d0ea55201e91",
            "e29d3f167b494eb2b17a999815f92d84",
            "8208992d0cfe4dd98f7ca29fe356422c",
            "a975cb7a2df844a38656558bea158652",
            "249de99306f24dd3a19d886b2e901488",
            "7f02f607e0aa4510b9cbd5efed9e9541",
            "7bbffc1ee54e430bb959091bae6b693b",
            "83f330567de841abae8e8edd22f5857d",
            "1f7d961e688f4d3ead89bba4379a8169",
            "2c728701aa714495a59aa3d51c3c8f45",
            "c557eee31d9a4402828a5fbd7a63952d",
            "713b4496c058420a9fe86ba3f7873cbd",
            "7895c41a3fe840e993dfcea839a958d2",
            "0c6cb993853f4a0eb8fd8ab46c5ef150",
            "67c96c5272004ac8ac8891fb8127245f",
            "6564739e99744cd8bc300a67819685e7",
            "f6a306370ac94254b3d3679fb19f50df",
            "b5912981540246eb9b2d836775250272",
            "04e9c53e78e84351acd326daff953517",
            "b7674a06416947b0afc2fa3c4b378b0e",
            "38d6eefa8a6546cab64c591df22d49e4",
            "4842e4ed82f946a2aef3dc1b561cfde9",
            "bdec66d6f9d04b03a1091b4928dca835",
            "3fc72c54d4e043ffb35a31db9ed8c2e9",
            "164ae6226c864d7e8a536cafc9deb1bf",
            "8dd62b9db28c4168877780cdad359838",
            "be153b6defae474f9e709e2774b30ed8",
            "83c3ce8a393840deb34a3b21d635fbaf",
            "34d71959cca44fad889a824cc229b0f3",
            "841eaaee194147ae8ed122a672e2db02",
            "7a5b8e4ebe4947388de50736c3266e20",
            "730ae50e479f4743969d15d6e8d4de4f",
            "34a92c43ed374ea29a76aac16f66362d",
            "f3245d203b214f9d854fc412024112eb",
            "f80a163cee614110b1df83a57c46f199",
            "5677361e1ae349e79afd51556c0adb48",
            "956b1da06b7844e28406f5c2efa4c054",
            "0461e1c1c3cf4b39bca7b94fde8c77f7",
            "47ce5eee5e474381b9ea690a1b167429",
            "a80b0f77df8044ce97c4bd104a8bb731",
            "ce133e6664de401ea6f14b58368dd96d",
            "4a51c1f66d8c4c31abcae33d2d48b306",
            "0257d6c0de95480e8899caf40ec965eb",
            "18deeaa139e64fb6852a168d5b16118d",
            "faa3f5ebcefd4160a9ea62d211c043f5",
            "58c7cb0baf1d4e5ea9c97a1f973b0a8a",
            "c499253712344901b377975f73cb162b",
            "a91613009fb94835aa2f7528c4248a06",
            "38b17328d06c4901a721bd8a0c484df1",
            "fdfa6f1f9a554226a4a70f0efad52a76",
            "8c3bbda2263a4413bbd465e29c9ac3c2",
            "14b79616d84642a59cbac675df24f691",
            "e066410d6e5343b199e5131e9b46d594",
            "9df885b7a652421fbd44d635d1eb2ba8",
            "f6b868ec72f04e4b84a6a8c485b90999",
            "ea21e0e207234e4ba6655572e8b074c3",
            "52495f6056914326b463804fc0699c9d",
            "14e06543fbd64803b8f95e3c711d3a2f",
            "ea533f7d60a647bcbe8743c7632cac51",
            "e79e35bcc9b745e18c87d4c0b5eb2a24",
            "823bae577f524861996a31b527d5cf67",
            "422c8233903e436e883ce8b4b068b7a8",
            "5e85c497d9ca4009b85041f5f820fba7",
            "257d5f48727e45c8b7ca0f4714d5dfcc",
            "73dcda45ebaf4226817eb209917ccf38",
            "dd73919cf6cd44489b2b083ef4c4599c",
            "bb16261252924910839d5897a71e8306",
            "94ae714a501a48a88d0a5d7908c9e7e1",
            "903a55132d104070a75b84f41b6015cc",
            "d8462582c9214377a06a11b7f8c1798e",
            "523094fa06fb4cb088d83c3f7ca88dd3",
            "07b24b5ae42442ba8b0e45edf120484e",
            "c3a36255116347a7a884aec40753a403",
            "ce980c5e46b34534a2871c49dc05ef19",
            "d9bb04f3b2b5441bb32b1a583ef0f3d1",
            "aab0497ceb99499ea3211f0af514de76",
            "dd5b2068628f4819970beddabdeb0ec4",
            "ea52e61f37cb4b4fbe375f5e6b89020a",
            "c303b52387834be4bb34fabcc7376df3",
            "b2fb6856385047d5a181bdf38cd63034",
            "692b413279784d9091cbc04f2b85c3ea",
            "4497c3020c9d4d4cb2404bb2352aecac",
            "c422cf04e6374d02958886c0d66df70b",
            "9724ba0361c1473ba9f1a346dcbb27e9",
            "99a9ca8afb8f4cfa85d42b7d5a67217d",
            "4761ec753b0b4ac1bd66dc1a221bdb96",
            "82f484d0e2fb43eda53ad11447b973fe",
            "39743ac20ed64fcabd39fdae975dcea6",
            "4ac654e745a94311b9519c51ec7acdc8",
            "ad971a6466374c4b984d982a1365df48",
            "e7f5c6ee171a42b5853aaa141b8a5ed6",
            "8d22e4ff38a54cc2af81e01148dba6f9",
            "6da90ad7ad814b399377f6b29ad315ff",
            "8855935d697a43d2b2d12f14bd9be94f",
            "59fcad6f28d44328bf036bd5bb4ef8c5",
            "e00627de73164157b5bf2ace4a922028",
            "6a87539f3add47e5a0286f642643abea",
            "4d665d2267fd49b785caef99b0946277",
            "cc2dd0555732417c8689457f4afaad65",
            "10af34ab5dd44c3086e23ff93151542b",
            "6c22b74081444642842fcab900aec430",
            "8c0d325c6f2c49c38e0c4d198ae30bb7",
            "42fc7399f4b845bf82975bf15c530303",
            "dd2d41e55d044bc28103d569fbeb18f8",
            "59ff9acc62124325983d9f17f2b92430",
            "7c7af997fab240aea0c10fe2b8a211ae",
            "0381bfa3752a409ab20a0f36428073f5",
            "4328168127ec40b6aa200fb6ac0c27e9",
            "fa5da4a2f6d0405699a1c905871f4071",
            "64b75fee1f3c40fb80ee3e7e7613b31f",
            "a5953b1c22fc44f2891161bc3f25edfc",
            "df5648cce2bf4c95acdd6c6e2394268f",
            "de90b77a4fec4d94ab9370274097ce8c",
            "801740dd8b8c4ac9af5bbb2fca005a58",
            "2d04ce415ef24a46977cfb30532743cf",
            "525021060f954fcc97c20c7604bba148",
            "c550237fc4fc46ab910bf91fba39605c",
            "cbecf8a5f2294ffa80810f0aeb112a5c",
            "5922a1e3721b4ae5bce09bcfeb7f64f0",
            "431327fef68342819cdfb4f563159658",
            "b183e2c5685b433cbd08c84598d3b276",
            "14521719ad2a46e5821b6a9a848ce067",
            "c29e27c4a05f464da5c0a1b0405296a8",
            "204eb2700af1436687998e7d2ad2df66",
            "4e1d744ff60042d8a4236c92b081c7a6",
            "ba89feaa9f2b4a1db2d187a52e8f20af",
            "24ab83a679704320b01c0df54799d3e6",
            "f464f4de2bf0409d93f72ad8c3ccc469",
            "8cfff8108fec4536a4b47fe8c22d1150",
            "2d8657a0565143efb2fe37dc4775f928",
            "9f197e0c48f6454cac9e82f0059e9d9d",
            "45d3ab2c3139432ea61816e024e80d1e",
            "2f62bcfee256450fa7e5fd9ac41a174f",
            "604f6ab9b913421fa858ddbf7a78eb18",
            "4127422f84ee4827a9ce243396d90d37",
            "cc46d9603ba74aaf817e17975c89d684",
            "902ff6c6dfd34efe8144655516938ba9",
            "f35f9b34828d464e8a9873229b154f76",
            "2ae6b569bbd04c249d274a153980d903",
            "7bd254fd3a8845b783bc083845d2c6d8",
            "cef07aac98c14f5db557475a5a080962",
            "8e8fd3c72e164af096bad1c7e41516ac",
            "40f14e8df370460dac194fd9ebddbcd6",
            "050f4118ad7b4f8391fb2f85a9d5455d",
            "7ee5b446eca649db81f2220fb2831b3d",
            "a9af1f574fbb4e2792270a7dabc3cd8f",
            "838897c7ce404fabaefc362c813de72f",
            "48188487070d42c1b8c47719fa2cd0e6",
            "5fedeec1108a47cab1be53d02944df80",
            "3ea24c449d434c3f9a59ff8a9af84cd5",
            "e5edefe704c64609b6f7e4861e4b1fa3",
            "7441ee955ff8458983183cb68506b54b",
            "dc340ff5328248e6a7b25a0fcc124523",
            "b6896fc4cbc540aa832cb3d45c5cb4c8",
            "559e03b2b31242698706282ded3c510b",
            "fdeb430a02214c6d8be8169471333888",
            "a880b5e7f1b34c0a83d64d4a14a25978",
            "ec861f98c2014f339836542dc9b5faf0",
            "959a318b63ac4b9aaa4762affe6d6cac",
            "259d0c9a6e9d4e2f9753d070971ec18a",
            "1ef7ccb62ea441e39083b82bcd2916cf",
            "d9ae14994309425295cf030de9fb4323",
            "ce16a8211c8244fb992a65f81501a4bd",
            "3a482ae58e17481eb4b6434c6b6b466e",
            "7af6911912d44b94bc4ff46565def9c3",
            "3fb48f2f408148c8bb5ac2142c126fee",
            "c739a41ff762463eab4bf9814c09f8eb",
            "47d0f4a7206a4e139c14bc5d17b45a2f",
            "6ea4572e6ab54b619c524d98492a992c",
            "1e254d2e848e4389801f041f01fc787b",
            "ccba360c6e7242c492bec3dfb5524719",
            "2ba532bc418343198b66caf04bf1cfa9",
            "63df3023e9504d8ca29f80bd4ad6366d",
            "3c833a23b9b44518bc8b782ea9d253fa",
            "61cd6a991528442f8d25959849d5a0ab",
            "fc40cf18aad146af866c8c593f3d7d61",
            "8c964b6f4db446b28a502f273e4cfaa8",
            "5029e1a1a8524e92bdbeae6f318efa67",
            "85b3499c3aeb4e5f85de5da76207f04b",
            "febc8e099ce2405fb8c6f9536a2ac223",
            "53d88a7f35ea4ede9548c7a0a341cd87",
            "7dffa803b4794ec6aeac5bed0a684766",
            "60d057dbebd249cfa2ffc2498f22ca43",
            "2edc94ec24724dc0b4346f564ba9b440",
            "9b0a5629098c493b8b3bdda46b973ec6",
            "801813dd60634786857ea310e63a5dc2",
            "7d0b8885a0d84e88a77b7073c9c01a94",
            "4a4f8b540b5342f7b301ab7028f2ef35",
            "6a7d965747ab466c87bdde33350ff324",
            "52876432631543168dc9b150a1eff206",
            "154bff09004146f6a8bb9625194f284e",
            "c22ec65d87d542709d8500161b9a42d3",
            "bda5282e215c4d4ca8ac221a004d3061",
            "87261d268fe04357bd36167bdf5a1bab",
            "1530da89ae294311989e165a01a1d78a",
            "4773943ddcd941d8a7095b68ff7f5a95",
            "813751d726494c53a862b9cbe3f3bb62",
            "82491e557c6648409065e1560afc3b12",
            "901e1c6f7a68476d99ba146b016eb7ca",
            "f6b602c6dbe849039ca6b0482d5c7e47",
            "ae18245824464c8299f672d9db94ee83",
            "aff6e2f013804d639921efb29d4f16a4",
            "c9bbceffe31b4cd0bfc7c6d7a4dce3fb",
            "c66d5816a76b4701af86a1d46905e714",
            "9b96fabdf8074635b888fa1a3ee6cfa7",
            "6d1234a1b5624bcab6a3c679246ab784",
            "7811ecb62d61467dbb2d6044f0ca8b35",
            "82c9daad01eb4408bafcb402dde384c5",
            "33e533f9c5c14e31a9b526bb1c2d16db",
            "f0b5c10648a54e4f989e671c9b9c98d2",
            "c39b62c019e142a8ae419ba368f8a2ad",
            "3e050a4bc5cb4e3da537acad6adbf3e4",
            "ec444b9235054eeb90f587ff2debd35e",
            "1912eaf6996348d4ac9b9d6df892de00",
            "9e714ed98edb45289f3cb72301e19f3f",
            "873ef5d2ad594f5582100499ebe6d415",
            "b614ce5498e2455f8a0742f8ead7fe06",
            "1d3be200caa4420c9c72da773219c31e",
            "5caf6fdd75ff40fda9729aa87cd0ecb8",
            "70e76416fe574a79a3a7a623ef5e5444",
            "7e1734a953bb442787b8de6edf19b056",
            "9df78417e1654cab81e1ca1652e6fb11",
            "1da9d53c94604c5cadf4f93624fccf38",
            "bbe8ff6256a4409c871fe485fcb3032d",
            "ddbceffb10e44e94af311841c455e16c",
            "47e0c1b6699f453780d8ebccf52efa6c",
            "aae217fb8ca94aa58f640b54ae64adfa",
            "40e2cefab0ce4a4984f54f7d0923d163",
            "cae3332a61484c2e9d65338c9e5e72a1",
            "c5f7c857536d47c7a6278adfca02f658",
            "ce0f5f80c48647aaaf5a2e36e4d17c3e",
            "eebb5e9d87c6441c9ec96725fdb9b409",
            "d44796311cfd46f09bbe36aa720596ab",
            "e926fd5d30a64c32989680318a944b4d",
            "00f38fc3147e41cd828110dfe2cf27f3",
            "491c4ef863174a9ea75b69bc196f87ac",
            "589911c3c0cd47228727416d9dcaddf2",
            "52b4a1edcfda43118be5bbc79bb0b34c",
            "403106fae90e4e6eb17d402d8275f8b4",
            "ad42416afb23494999e74bb24e976e6f",
            "8717c290c1d343fe907b019d43181236",
            "0e0936fbd563488b8f9920b9f92eb400",
            "dee810ca2b054f1e828343d17f003a35",
            "9cfc755ed341490a86beaa1699de826d",
            "b8d49f7f4ad94c9a986e67aac9c9a802",
            "f766cb1ca87b4e389776cfec40811047",
            "71d800bbf6d14d33991e7cac47dc0c78",
            "597e9937a7a34eab80671ccf97f8d8bb",
            "ada77e7ba238490d925721357b191940",
            "bcb9de25f14d4a23a25ba833c02c3389",
            "059ccf52a2dd4512af5ffa813a89f56a",
            "a5fa696141764695ab1029ad82dd99dd",
            "41682562587845d9a4320e1b4a33c00f",
            "1d48301537584a038d4106bfd631dd61",
            "e4523afb89c942fea5b39260f374cd63",
            "e0160c9c23bd48d4b15598bd92c97e19",
            "c01d6734b6b14227ad52956b1bd783df",
            "31259983e894498faa85aac3d064f347",
            "684342982621470dbb99d8c6c6770998",
            "852c71a6a91c4cef98163431650734b4",
            "26eabc1016644d82a2c6bc54aac41402",
            "369a5ef085964083b3bb216d699c5373",
            "39db3b249df2413891c386ba64f3b52b",
            "5a94f0e20bdc4c73b5ef62e540c9054b",
            "51c6d6f76577422c976be9d552023927",
            "6dcc133d952e4c48ae288051ddbd9100",
            "a450b1bb98cd4dc5844c4e5d91ad088f",
            "b9a9999e5ea04db39c43b8068886f3ee",
            "04ee53a663e8428dacb76da2dedb9b60",
            "20a6b004cfd74f0aab8001d2fdd4ba51",
            "912f860ed5d24f2fb8b70691108f0eda",
            "2aa0145f70444ca1b755d03bcfa2b508",
            "04f0be4437c64f42b27ea1672f7cd439",
            "c13420f96d3d4486912b4145b2071da0",
            "9bacb695c6c4442680945645efc894a7",
            "0cc9da8b4f514b51808d8397baebe381",
            "505c176a4b2345f79b394d1298493ff5",
            "e78346ca6e7f49c99f735ce761025110",
            "f61a14073e214bae87468ae20d756068",
            "278115d076cb4d61b4696dcfab84e710",
            "708329967e1d47d88719dfc571af546a",
            "70dd681e25e440408104f9f84c65a1e0",
            "82a2b597336247de911efcf08515793e",
            "fa3be0e3f3e14567be87075130cb2482",
            "abdf162c63b543da88ac12a92a22ad84",
            "4e98bc0c4cd243af9b42877396288b9a",
            "733f9758e2c14f03b1557245f9103dbc",
            "1ab647e687b047bfbe2b40372e47adb9",
            "203100576d35499bac291f33a29e9d64",
            "b298a1d2264045b8a98e2c055c47c849",
            "010bf178628245ba9490757cc1135499",
            "70b4ec1d9f4c442f9ceefadf7fbf1d70",
            "5decd442fcd34db490ef8dea583bd81a",
            "b8c69eca52e64f478b064f3b25849e02",
            "5d7f6fc3cbc248b7b3c4180aaa754ee0",
            "bcf91ad36e5146b2ae02d406fdb3d735",
            "043ff4a13d3f4244abee4a03e1d86c80",
            "176a2a3f16fe4cabac6f3bf8fcc6dc85",
            "18391ba2d747443d96c9c74861dec287",
            "1b16701ed4b6474c92b36198233aefe6",
            "c78d7c6741684a2ea7b132d88ad5de79",
            "69b0e2d669dd44ffadc3708fde78f3cf",
            "c9f326c3616745d28f928700835870fc",
            "d3d6940a40c04d4c8455f6f0d816dbcc",
            "c5a89c3a2a7b4597a7eaf89deb7106ef",
            "cf776a38af9845da958494193175c6c9",
            "5ba3538d1e8648d692aa250b3de8013e",
            "f78b03cd0d62439abfc2752273f15b82",
            "15db5e251c3b4ddaaeb5685cc4bfb87c",
            "8c644adafc9b4a8382d26fca45c8575f",
            "68b2bea4fcfa45eb8d8a6eb8cc7a181e",
            "2b430936139a4faca0487421ab64f471",
            "a6aba5f6818a481ca5062c28e1abebaf",
            "12c69d8eff6b46e5ba791fdae2b03e68",
            "618f5b6254a14de59a0df26a3688d5b0",
            "8e11c53b85ba462581b2868f63d96d7c",
            "4d65766847ee47dc88ec211893185550",
            "1dcfe57333d641d286c03af33ee85a0f",
            "d199fb9692224593a17527b87f1aa5f9",
            "dfbad81e418348cf8524d79be2962e0e",
            "8f1828c74ac34928a5545c05a9e32d0a",
            "c638be25bb3b415da933330e12894760",
            "1556d683a03e4f58b02af3aa71c5000e",
            "15d3d29a417747e98ad4b0874065727d",
            "5fc02e3b91614032bad867f50567a45b",
            "36caa125d2384c86803ed2523e1657c0",
            "5edb4987579548b4ab6bf9aabecd71ab",
            "317ea53bf94c4bac85b7ce5b2b6eb02c",
            "cb787b558d8e4b80aacf731fd9c6ddb8",
            "2bd18bb9cb234fa39bc88044e37d4d60",
            "9825b663aa7a40308bbce3b82c2e7c1f",
            "d1e7e1cfae264dd98bf1d215aba7a639",
            "d61dc4bc43604c178f755c7e72a06189",
            "3349725ef2804361965ad3ee7e0d36d0",
            "19f4de208e74419894bd98379414c36d",
            "900888248fe34610ba12e9f13075791e",
            "0691ef1d9de048e0b0237184c5b88a84",
            "6def727e72974124b3ec5a38fcc453d8",
            "703dd0a7d3ca43ffba8b94b0bf2edf97",
            "ad4fad7fd1dd45feb02949fa697cdbff",
            "dc35dc0adf454cfbb071a8500d2ca235",
            "eb4959b0eb304d63ba7ae97686bcbcfd",
            "b8ac3d6a4189435c8695f3971074ac6e",
            "e7c74da924a54aef88e8a32019ecb73d",
            "45c7c69eb8904ef39967d3784e769d6c"
          ]
        },
        "id": "gNwnjlSSCQfy",
        "outputId": "754838bd-3140-4970-c9d6-cc91c6dbc9b4"
      },
      "outputs": [
        {
          "name": "stdout",
          "output_type": "stream",
          "text": [
            "\u001b[?25l   \u001b[90m━━━━━━━━━━━━━━━━━━━━━━━━━━━━━━━━━━━━━━━━\u001b[0m \u001b[32m0.0/491.2 kB\u001b[0m \u001b[31m?\u001b[0m eta \u001b[36m-:--:--\u001b[0m\r",
            "\u001b[2K   \u001b[90m━━━━━━━━━━━━━━━━━━━━━━━━━━━━━━━━━━━━━━━━\u001b[0m \u001b[32m491.2/491.2 kB\u001b[0m \u001b[31m14.5 MB/s\u001b[0m eta \u001b[36m0:00:00\u001b[0m\n",
            "\u001b[?25h\u001b[?25l   \u001b[90m━━━━━━━━━━━━━━━━━━━━━━━━━━━━━━━━━━━━━━━━\u001b[0m \u001b[32m0.0/116.3 kB\u001b[0m \u001b[31m?\u001b[0m eta \u001b[36m-:--:--\u001b[0m\r",
            "\u001b[2K   \u001b[90m━━━━━━━━━━━━━━━━━━━━━━━━━━━━━━━━━━━━━━━━\u001b[0m \u001b[32m116.3/116.3 kB\u001b[0m \u001b[31m12.2 MB/s\u001b[0m eta \u001b[36m0:00:00\u001b[0m\n",
            "\u001b[?25h\u001b[?25l   \u001b[90m━━━━━━━━━━━━━━━━━━━━━━━━━━━━━━━━━━━━━━━━\u001b[0m \u001b[32m0.0/183.9 kB\u001b[0m \u001b[31m?\u001b[0m eta \u001b[36m-:--:--\u001b[0m\r",
            "\u001b[2K   \u001b[90m━━━━━━━━━━━━━━━━━━━━━━━━━━━━━━━━━━━━━━━━\u001b[0m \u001b[32m183.9/183.9 kB\u001b[0m \u001b[31m18.0 MB/s\u001b[0m eta \u001b[36m0:00:00\u001b[0m\n",
            "\u001b[?25h\u001b[?25l   \u001b[90m━━━━━━━━━━━━━━━━━━━━━━━━━━━━━━━━━━━━━━━━\u001b[0m \u001b[32m0.0/143.5 kB\u001b[0m \u001b[31m?\u001b[0m eta \u001b[36m-:--:--\u001b[0m\r",
            "\u001b[2K   \u001b[90m━━━━━━━━━━━━━━━━━━━━━━━━━━━━━━━━━━━━━━━━\u001b[0m \u001b[32m143.5/143.5 kB\u001b[0m \u001b[31m15.0 MB/s\u001b[0m eta \u001b[36m0:00:00\u001b[0m\n",
            "\u001b[?25h\u001b[?25l   \u001b[90m━━━━━━━━━━━━━━━━━━━━━━━━━━━━━━━━━━━━━━━━\u001b[0m \u001b[32m0.0/194.8 kB\u001b[0m \u001b[31m?\u001b[0m eta \u001b[36m-:--:--\u001b[0m\r",
            "\u001b[2K   \u001b[90m━━━━━━━━━━━━━━━━━━━━━━━━━━━━━━━━━━━━━━━━\u001b[0m \u001b[32m194.8/194.8 kB\u001b[0m \u001b[31m19.4 MB/s\u001b[0m eta \u001b[36m0:00:00\u001b[0m\n",
            "\u001b[?25h\u001b[31mERROR: pip's dependency resolver does not currently take into account all the packages that are installed. This behaviour is the source of the following dependency conflicts.\n",
            "torch 2.6.0+cu124 requires nvidia-cublas-cu12==12.4.5.8; platform_system == \"Linux\" and platform_machine == \"x86_64\", but you have nvidia-cublas-cu12 12.5.3.2 which is incompatible.\n",
            "torch 2.6.0+cu124 requires nvidia-cuda-cupti-cu12==12.4.127; platform_system == \"Linux\" and platform_machine == \"x86_64\", but you have nvidia-cuda-cupti-cu12 12.5.82 which is incompatible.\n",
            "torch 2.6.0+cu124 requires nvidia-cuda-nvrtc-cu12==12.4.127; platform_system == \"Linux\" and platform_machine == \"x86_64\", but you have nvidia-cuda-nvrtc-cu12 12.5.82 which is incompatible.\n",
            "torch 2.6.0+cu124 requires nvidia-cuda-runtime-cu12==12.4.127; platform_system == \"Linux\" and platform_machine == \"x86_64\", but you have nvidia-cuda-runtime-cu12 12.5.82 which is incompatible.\n",
            "torch 2.6.0+cu124 requires nvidia-cudnn-cu12==9.1.0.70; platform_system == \"Linux\" and platform_machine == \"x86_64\", but you have nvidia-cudnn-cu12 9.3.0.75 which is incompatible.\n",
            "torch 2.6.0+cu124 requires nvidia-cufft-cu12==11.2.1.3; platform_system == \"Linux\" and platform_machine == \"x86_64\", but you have nvidia-cufft-cu12 11.2.3.61 which is incompatible.\n",
            "torch 2.6.0+cu124 requires nvidia-curand-cu12==10.3.5.147; platform_system == \"Linux\" and platform_machine == \"x86_64\", but you have nvidia-curand-cu12 10.3.6.82 which is incompatible.\n",
            "torch 2.6.0+cu124 requires nvidia-cusolver-cu12==11.6.1.9; platform_system == \"Linux\" and platform_machine == \"x86_64\", but you have nvidia-cusolver-cu12 11.6.3.83 which is incompatible.\n",
            "torch 2.6.0+cu124 requires nvidia-cusparse-cu12==12.3.1.170; platform_system == \"Linux\" and platform_machine == \"x86_64\", but you have nvidia-cusparse-cu12 12.5.1.3 which is incompatible.\n",
            "torch 2.6.0+cu124 requires nvidia-nvjitlink-cu12==12.4.127; platform_system == \"Linux\" and platform_machine == \"x86_64\", but you have nvidia-nvjitlink-cu12 12.5.82 which is incompatible.\n",
            "gcsfs 2025.3.2 requires fsspec==2025.3.2, but you have fsspec 2024.12.0 which is incompatible.\u001b[0m\u001b[31m\n",
            "\u001b[0mMounted at /content/drive\n",
            "Created directory: /content/drive/MyDrive/new2\n",
            "Loading dataset: tweets_hate_speech_detection (split: train)\n"
          ]
        },
        {
          "name": "stderr",
          "output_type": "stream",
          "text": [
            "/usr/local/lib/python3.11/dist-packages/huggingface_hub/utils/_auth.py:94: UserWarning: \n",
            "The secret `HF_TOKEN` does not exist in your Colab secrets.\n",
            "To authenticate with the Hugging Face Hub, create a token in your settings tab (https://huggingface.co/settings/tokens), set it as secret in your Google Colab and restart your session.\n",
            "You will be able to reuse this secret in all of your notebooks.\n",
            "Please note that authentication is recommended but still optional to access public models or datasets.\n",
            "  warnings.warn(\n"
          ]
        },
        {
          "data": {
            "application/vnd.jupyter.widget-view+json": {
              "model_id": "05aada718eca440187fc33b92db103a5",
              "version_major": 2,
              "version_minor": 0
            },
            "text/plain": [
              "README.md:   0%|          | 0.00/5.58k [00:00<?, ?B/s]"
            ]
          },
          "metadata": {},
          "output_type": "display_data"
        },
        {
          "data": {
            "application/vnd.jupyter.widget-view+json": {
              "model_id": "ab3087f0645947339099c9f180db7470",
              "version_major": 2,
              "version_minor": 0
            },
            "text/plain": [
              "train-00000-of-00001.parquet:   0%|          | 0.00/2.07M [00:00<?, ?B/s]"
            ]
          },
          "metadata": {},
          "output_type": "display_data"
        },
        {
          "data": {
            "application/vnd.jupyter.widget-view+json": {
              "model_id": "44b685481eb44e7cb5917fd1d95cd295",
              "version_major": 2,
              "version_minor": 0
            },
            "text/plain": [
              "test-00000-of-00001.parquet:   0%|          | 0.00/1.11M [00:00<?, ?B/s]"
            ]
          },
          "metadata": {},
          "output_type": "display_data"
        },
        {
          "data": {
            "application/vnd.jupyter.widget-view+json": {
              "model_id": "1b06fc23ec304d9fb479378602bd78ae",
              "version_major": 2,
              "version_minor": 0
            },
            "text/plain": [
              "Generating train split:   0%|          | 0/31962 [00:00<?, ? examples/s]"
            ]
          },
          "metadata": {},
          "output_type": "display_data"
        },
        {
          "data": {
            "application/vnd.jupyter.widget-view+json": {
              "model_id": "34dd2f0401d144eba140d97f8c5d3cfa",
              "version_major": 2,
              "version_minor": 0
            },
            "text/plain": [
              "Generating test split:   0%|          | 0/17197 [00:00<?, ? examples/s]"
            ]
          },
          "metadata": {},
          "output_type": "display_data"
        },
        {
          "name": "stdout",
          "output_type": "stream",
          "text": [
            "Loading dataset: RafaM97/marketing_social_media (split: train)\n"
          ]
        },
        {
          "data": {
            "application/vnd.jupyter.widget-view+json": {
              "model_id": "3a713aa494d44696a8abbaa5d482cc6d",
              "version_major": 2,
              "version_minor": 0
            },
            "text/plain": [
              "README.md:   0%|          | 0.00/1.89k [00:00<?, ?B/s]"
            ]
          },
          "metadata": {},
          "output_type": "display_data"
        },
        {
          "data": {
            "application/vnd.jupyter.widget-view+json": {
              "model_id": "c53994b3c6e5499ea3e72bb4e95c387d",
              "version_major": 2,
              "version_minor": 0
            },
            "text/plain": [
              "marketing_social_media_dataset_v2.json:   0%|          | 0.00/499k [00:00<?, ?B/s]"
            ]
          },
          "metadata": {},
          "output_type": "display_data"
        },
        {
          "data": {
            "application/vnd.jupyter.widget-view+json": {
              "model_id": "7cab6725828b4c96b1b7499a84652ddb",
              "version_major": 2,
              "version_minor": 0
            },
            "text/plain": [
              "Generating train split:   0%|          | 0/689 [00:00<?, ? examples/s]"
            ]
          },
          "metadata": {},
          "output_type": "display_data"
        },
        {
          "name": "stdout",
          "output_type": "stream",
          "text": [
            "Loading dataset: Shekswess/social-media-instruction (split: train)\n"
          ]
        },
        {
          "data": {
            "application/vnd.jupyter.widget-view+json": {
              "model_id": "99cfb4339b344c8cbcd33b98f3075c19",
              "version_major": 2,
              "version_minor": 0
            },
            "text/plain": [
              "README.md:   0%|          | 0.00/1.72k [00:00<?, ?B/s]"
            ]
          },
          "metadata": {},
          "output_type": "display_data"
        },
        {
          "data": {
            "application/vnd.jupyter.widget-view+json": {
              "model_id": "6ae7869903e24bb596dee7f976d6a146",
              "version_major": 2,
              "version_minor": 0
            },
            "text/plain": [
              "train-00000-of-00001.parquet:   0%|          | 0.00/328k [00:00<?, ?B/s]"
            ]
          },
          "metadata": {},
          "output_type": "display_data"
        },
        {
          "data": {
            "application/vnd.jupyter.widget-view+json": {
              "model_id": "4f2551e29533474597141c03bd2bffe6",
              "version_major": 2,
              "version_minor": 0
            },
            "text/plain": [
              "Generating train split:   0%|          | 0/500 [00:00<?, ? examples/s]"
            ]
          },
          "metadata": {},
          "output_type": "display_data"
        },
        {
          "name": "stdout",
          "output_type": "stream",
          "text": [
            "Loading dataset: Exorde/exorde-social-media-december-2024-week1 (split: train)\n"
          ]
        },
        {
          "data": {
            "application/vnd.jupyter.widget-view+json": {
              "model_id": "63233814bbab4b2980ce0f89ac93a987",
              "version_major": 2,
              "version_minor": 0
            },
            "text/plain": [
              "README.md:   0%|          | 0.00/7.47k [00:00<?, ?B/s]"
            ]
          },
          "metadata": {},
          "output_type": "display_data"
        },
        {
          "data": {
            "application/vnd.jupyter.widget-view+json": {
              "model_id": "30c217acf28e4208a3002376438deb1d",
              "version_major": 2,
              "version_minor": 0
            },
            "text/plain": [
              "Resolving data files:   0%|          | 0/132 [00:00<?, ?it/s]"
            ]
          },
          "metadata": {},
          "output_type": "display_data"
        },
        {
          "data": {
            "application/vnd.jupyter.widget-view+json": {
              "model_id": "9d73f751db5042d0b2ade4995cff1aec",
              "version_major": 2,
              "version_minor": 0
            },
            "text/plain": [
              "Downloading data:   0%|          | 0/132 [00:00<?, ?files/s]"
            ]
          },
          "metadata": {},
          "output_type": "display_data"
        },
        {
          "data": {
            "application/vnd.jupyter.widget-view+json": {
              "model_id": "aa8cb6ddbaef421eac9970a1f5c27a2f",
              "version_major": 2,
              "version_minor": 0
            },
            "text/plain": [
              "processed_data_0.parquet:   0%|          | 0.00/101M [00:00<?, ?B/s]"
            ]
          },
          "metadata": {},
          "output_type": "display_data"
        },
        {
          "data": {
            "application/vnd.jupyter.widget-view+json": {
              "model_id": "d300134b5f1742c09aae3f4be6627847",
              "version_major": 2,
              "version_minor": 0
            },
            "text/plain": [
              "processed_data_1.parquet:   0%|          | 0.00/114M [00:00<?, ?B/s]"
            ]
          },
          "metadata": {},
          "output_type": "display_data"
        },
        {
          "data": {
            "application/vnd.jupyter.widget-view+json": {
              "model_id": "35dbe50dc7c44bc4b2e43e67fd4a2fda",
              "version_major": 2,
              "version_minor": 0
            },
            "text/plain": [
              "processed_data_10.parquet:   0%|          | 0.00/127M [00:00<?, ?B/s]"
            ]
          },
          "metadata": {},
          "output_type": "display_data"
        },
        {
          "data": {
            "application/vnd.jupyter.widget-view+json": {
              "model_id": "f3cf58bfd3b44a52844aee5a2216028c",
              "version_major": 2,
              "version_minor": 0
            },
            "text/plain": [
              "processed_data_100.parquet:   0%|          | 0.00/114M [00:00<?, ?B/s]"
            ]
          },
          "metadata": {},
          "output_type": "display_data"
        },
        {
          "data": {
            "application/vnd.jupyter.widget-view+json": {
              "model_id": "aa91b61493b94a8f9a9b681a1c1f1abd",
              "version_major": 2,
              "version_minor": 0
            },
            "text/plain": [
              "processed_data_101.parquet:   0%|          | 0.00/122M [00:00<?, ?B/s]"
            ]
          },
          "metadata": {},
          "output_type": "display_data"
        },
        {
          "data": {
            "application/vnd.jupyter.widget-view+json": {
              "model_id": "99119ac404034030aa9857b961a44426",
              "version_major": 2,
              "version_minor": 0
            },
            "text/plain": [
              "processed_data_102.parquet:   0%|          | 0.00/122M [00:00<?, ?B/s]"
            ]
          },
          "metadata": {},
          "output_type": "display_data"
        },
        {
          "data": {
            "application/vnd.jupyter.widget-view+json": {
              "model_id": "6572201c80d2483d9ddf4f0502974fc6",
              "version_major": 2,
              "version_minor": 0
            },
            "text/plain": [
              "processed_data_103.parquet:   0%|          | 0.00/124M [00:00<?, ?B/s]"
            ]
          },
          "metadata": {},
          "output_type": "display_data"
        },
        {
          "data": {
            "application/vnd.jupyter.widget-view+json": {
              "model_id": "a43c76c0eebb4fa8acbdc6ccd6f2a656",
              "version_major": 2,
              "version_minor": 0
            },
            "text/plain": [
              "processed_data_104.parquet:   0%|          | 0.00/124M [00:00<?, ?B/s]"
            ]
          },
          "metadata": {},
          "output_type": "display_data"
        },
        {
          "data": {
            "application/vnd.jupyter.widget-view+json": {
              "model_id": "540e704cdb084747840d4e4677eed4dd",
              "version_major": 2,
              "version_minor": 0
            },
            "text/plain": [
              "processed_data_105.parquet:   0%|          | 0.00/126M [00:00<?, ?B/s]"
            ]
          },
          "metadata": {},
          "output_type": "display_data"
        },
        {
          "data": {
            "application/vnd.jupyter.widget-view+json": {
              "model_id": "3f4563491c954f01bc896794d69df67a",
              "version_major": 2,
              "version_minor": 0
            },
            "text/plain": [
              "processed_data_106.parquet:   0%|          | 0.00/131M [00:00<?, ?B/s]"
            ]
          },
          "metadata": {},
          "output_type": "display_data"
        },
        {
          "data": {
            "application/vnd.jupyter.widget-view+json": {
              "model_id": "88c4fc717c0a498b8d8ac834cf939a36",
              "version_major": 2,
              "version_minor": 0
            },
            "text/plain": [
              "processed_data_107.parquet:   0%|          | 0.00/127M [00:00<?, ?B/s]"
            ]
          },
          "metadata": {},
          "output_type": "display_data"
        },
        {
          "data": {
            "application/vnd.jupyter.widget-view+json": {
              "model_id": "c9e8b3b7780047869a36ac5a440e728f",
              "version_major": 2,
              "version_minor": 0
            },
            "text/plain": [
              "processed_data_108.parquet:   0%|          | 0.00/129M [00:00<?, ?B/s]"
            ]
          },
          "metadata": {},
          "output_type": "display_data"
        },
        {
          "data": {
            "application/vnd.jupyter.widget-view+json": {
              "model_id": "ab3551216d24421e9352c1046384b521",
              "version_major": 2,
              "version_minor": 0
            },
            "text/plain": [
              "processed_data_109.parquet:   0%|          | 0.00/130M [00:00<?, ?B/s]"
            ]
          },
          "metadata": {},
          "output_type": "display_data"
        },
        {
          "data": {
            "application/vnd.jupyter.widget-view+json": {
              "model_id": "e16b4cc6b5ea4452ac7d40ee299dc8c8",
              "version_major": 2,
              "version_minor": 0
            },
            "text/plain": [
              "processed_data_11.parquet:   0%|          | 0.00/127M [00:00<?, ?B/s]"
            ]
          },
          "metadata": {},
          "output_type": "display_data"
        },
        {
          "data": {
            "application/vnd.jupyter.widget-view+json": {
              "model_id": "1b53dfbd161c41058eef1c24bcc28775",
              "version_major": 2,
              "version_minor": 0
            },
            "text/plain": [
              "processed_data_110.parquet:   0%|          | 0.00/128M [00:00<?, ?B/s]"
            ]
          },
          "metadata": {},
          "output_type": "display_data"
        },
        {
          "data": {
            "application/vnd.jupyter.widget-view+json": {
              "model_id": "16a1120980254f90a2c8899bc39d15d5",
              "version_major": 2,
              "version_minor": 0
            },
            "text/plain": [
              "processed_data_111.parquet:   0%|          | 0.00/126M [00:00<?, ?B/s]"
            ]
          },
          "metadata": {},
          "output_type": "display_data"
        },
        {
          "data": {
            "application/vnd.jupyter.widget-view+json": {
              "model_id": "9df96efe09bb4622af827fce5f5ec40b",
              "version_major": 2,
              "version_minor": 0
            },
            "text/plain": [
              "processed_data_112.parquet:   0%|          | 0.00/123M [00:00<?, ?B/s]"
            ]
          },
          "metadata": {},
          "output_type": "display_data"
        },
        {
          "data": {
            "application/vnd.jupyter.widget-view+json": {
              "model_id": "225cd245c73f4e5b9439a9817c7b8bec",
              "version_major": 2,
              "version_minor": 0
            },
            "text/plain": [
              "processed_data_113.parquet:   0%|          | 0.00/121M [00:00<?, ?B/s]"
            ]
          },
          "metadata": {},
          "output_type": "display_data"
        },
        {
          "data": {
            "application/vnd.jupyter.widget-view+json": {
              "model_id": "424c39d949394d63b93a225994ea53bf",
              "version_major": 2,
              "version_minor": 0
            },
            "text/plain": [
              "processed_data_114.parquet:   0%|          | 0.00/122M [00:00<?, ?B/s]"
            ]
          },
          "metadata": {},
          "output_type": "display_data"
        },
        {
          "data": {
            "application/vnd.jupyter.widget-view+json": {
              "model_id": "2863a4abe3784822bb59b06f3b7f7796",
              "version_major": 2,
              "version_minor": 0
            },
            "text/plain": [
              "processed_data_115.parquet:   0%|          | 0.00/119M [00:00<?, ?B/s]"
            ]
          },
          "metadata": {},
          "output_type": "display_data"
        },
        {
          "data": {
            "application/vnd.jupyter.widget-view+json": {
              "model_id": "54f726178db44f66a638d3d7d24f573d",
              "version_major": 2,
              "version_minor": 0
            },
            "text/plain": [
              "processed_data_116.parquet:   0%|          | 0.00/115M [00:00<?, ?B/s]"
            ]
          },
          "metadata": {},
          "output_type": "display_data"
        },
        {
          "data": {
            "application/vnd.jupyter.widget-view+json": {
              "model_id": "eebd42970fda40b4b52ed9a15347726a",
              "version_major": 2,
              "version_minor": 0
            },
            "text/plain": [
              "processed_data_117.parquet:   0%|          | 0.00/116M [00:00<?, ?B/s]"
            ]
          },
          "metadata": {},
          "output_type": "display_data"
        },
        {
          "data": {
            "application/vnd.jupyter.widget-view+json": {
              "model_id": "aa1ffea3ce0d4a4ca6a3bdf34c2c88b7",
              "version_major": 2,
              "version_minor": 0
            },
            "text/plain": [
              "processed_data_118.parquet:   0%|          | 0.00/114M [00:00<?, ?B/s]"
            ]
          },
          "metadata": {},
          "output_type": "display_data"
        },
        {
          "data": {
            "application/vnd.jupyter.widget-view+json": {
              "model_id": "469cffd8168744ca93198de0dd3a8e10",
              "version_major": 2,
              "version_minor": 0
            },
            "text/plain": [
              "processed_data_119.parquet:   0%|          | 0.00/116M [00:00<?, ?B/s]"
            ]
          },
          "metadata": {},
          "output_type": "display_data"
        },
        {
          "data": {
            "application/vnd.jupyter.widget-view+json": {
              "model_id": "272293b9d64048bd967810bcc60d2703",
              "version_major": 2,
              "version_minor": 0
            },
            "text/plain": [
              "processed_data_12.parquet:   0%|          | 0.00/124M [00:00<?, ?B/s]"
            ]
          },
          "metadata": {},
          "output_type": "display_data"
        },
        {
          "data": {
            "application/vnd.jupyter.widget-view+json": {
              "model_id": "63185bc23c7c44ce8b49fdb686ec129f",
              "version_major": 2,
              "version_minor": 0
            },
            "text/plain": [
              "processed_data_120.parquet:   0%|          | 0.00/115M [00:00<?, ?B/s]"
            ]
          },
          "metadata": {},
          "output_type": "display_data"
        },
        {
          "data": {
            "application/vnd.jupyter.widget-view+json": {
              "model_id": "1e37a5e0f227422c9821d9ed58fe3532",
              "version_major": 2,
              "version_minor": 0
            },
            "text/plain": [
              "processed_data_121.parquet:   0%|          | 0.00/118M [00:00<?, ?B/s]"
            ]
          },
          "metadata": {},
          "output_type": "display_data"
        },
        {
          "data": {
            "application/vnd.jupyter.widget-view+json": {
              "model_id": "c58ba93e940e436eb921bacec1827368",
              "version_major": 2,
              "version_minor": 0
            },
            "text/plain": [
              "processed_data_122.parquet:   0%|          | 0.00/119M [00:00<?, ?B/s]"
            ]
          },
          "metadata": {},
          "output_type": "display_data"
        },
        {
          "data": {
            "application/vnd.jupyter.widget-view+json": {
              "model_id": "58d3f178cd2a40109690be5de1230e10",
              "version_major": 2,
              "version_minor": 0
            },
            "text/plain": [
              "processed_data_123.parquet:   0%|          | 0.00/120M [00:00<?, ?B/s]"
            ]
          },
          "metadata": {},
          "output_type": "display_data"
        },
        {
          "data": {
            "application/vnd.jupyter.widget-view+json": {
              "model_id": "59cae90dedbe4d8f839777dff39f327c",
              "version_major": 2,
              "version_minor": 0
            },
            "text/plain": [
              "processed_data_124.parquet:   0%|          | 0.00/121M [00:00<?, ?B/s]"
            ]
          },
          "metadata": {},
          "output_type": "display_data"
        },
        {
          "data": {
            "application/vnd.jupyter.widget-view+json": {
              "model_id": "2a55cf91613d40fcbc87d572e3af9da7",
              "version_major": 2,
              "version_minor": 0
            },
            "text/plain": [
              "processed_data_125.parquet:   0%|          | 0.00/124M [00:00<?, ?B/s]"
            ]
          },
          "metadata": {},
          "output_type": "display_data"
        },
        {
          "data": {
            "application/vnd.jupyter.widget-view+json": {
              "model_id": "a744ede276a34d1c8b838729f69f3bc1",
              "version_major": 2,
              "version_minor": 0
            },
            "text/plain": [
              "processed_data_126.parquet:   0%|          | 0.00/123M [00:00<?, ?B/s]"
            ]
          },
          "metadata": {},
          "output_type": "display_data"
        },
        {
          "data": {
            "application/vnd.jupyter.widget-view+json": {
              "model_id": "1ec6a2218f654312a6f796a9535a4e94",
              "version_major": 2,
              "version_minor": 0
            },
            "text/plain": [
              "processed_data_127.parquet:   0%|          | 0.00/124M [00:00<?, ?B/s]"
            ]
          },
          "metadata": {},
          "output_type": "display_data"
        },
        {
          "data": {
            "application/vnd.jupyter.widget-view+json": {
              "model_id": "e05a1a2437d34613a451445397fba246",
              "version_major": 2,
              "version_minor": 0
            },
            "text/plain": [
              "processed_data_128.parquet:   0%|          | 0.00/126M [00:00<?, ?B/s]"
            ]
          },
          "metadata": {},
          "output_type": "display_data"
        },
        {
          "data": {
            "application/vnd.jupyter.widget-view+json": {
              "model_id": "73894a254ab2449cb0a2fde9840aa849",
              "version_major": 2,
              "version_minor": 0
            },
            "text/plain": [
              "processed_data_129.parquet:   0%|          | 0.00/127M [00:00<?, ?B/s]"
            ]
          },
          "metadata": {},
          "output_type": "display_data"
        },
        {
          "data": {
            "application/vnd.jupyter.widget-view+json": {
              "model_id": "f7968192504240c0b9bdb175701d99d6",
              "version_major": 2,
              "version_minor": 0
            },
            "text/plain": [
              "processed_data_13.parquet:   0%|          | 0.00/124M [00:00<?, ?B/s]"
            ]
          },
          "metadata": {},
          "output_type": "display_data"
        },
        {
          "data": {
            "application/vnd.jupyter.widget-view+json": {
              "model_id": "dd10a1bd43ff413d9850044c5b2ced2e",
              "version_major": 2,
              "version_minor": 0
            },
            "text/plain": [
              "processed_data_130.parquet:   0%|          | 0.00/122M [00:00<?, ?B/s]"
            ]
          },
          "metadata": {},
          "output_type": "display_data"
        },
        {
          "data": {
            "application/vnd.jupyter.widget-view+json": {
              "model_id": "30f3ac6649dc431590342bde22bb64bb",
              "version_major": 2,
              "version_minor": 0
            },
            "text/plain": [
              "processed_data_131.parquet:   0%|          | 0.00/121M [00:00<?, ?B/s]"
            ]
          },
          "metadata": {},
          "output_type": "display_data"
        },
        {
          "data": {
            "application/vnd.jupyter.widget-view+json": {
              "model_id": "3161fb29364340ceb59ec7c7e43cafac",
              "version_major": 2,
              "version_minor": 0
            },
            "text/plain": [
              "processed_data_14.parquet:   0%|          | 0.00/128M [00:00<?, ?B/s]"
            ]
          },
          "metadata": {},
          "output_type": "display_data"
        },
        {
          "data": {
            "application/vnd.jupyter.widget-view+json": {
              "model_id": "c7974c0de9314f17a56fe90c0a97e675",
              "version_major": 2,
              "version_minor": 0
            },
            "text/plain": [
              "processed_data_15.parquet:   0%|          | 0.00/127M [00:00<?, ?B/s]"
            ]
          },
          "metadata": {},
          "output_type": "display_data"
        },
        {
          "data": {
            "application/vnd.jupyter.widget-view+json": {
              "model_id": "9190b2ca183648bfa012705fd452d7bc",
              "version_major": 2,
              "version_minor": 0
            },
            "text/plain": [
              "processed_data_16.parquet:   0%|          | 0.00/123M [00:00<?, ?B/s]"
            ]
          },
          "metadata": {},
          "output_type": "display_data"
        },
        {
          "data": {
            "application/vnd.jupyter.widget-view+json": {
              "model_id": "c8f36a2208d2413092c36039091edb8f",
              "version_major": 2,
              "version_minor": 0
            },
            "text/plain": [
              "processed_data_17.parquet:   0%|          | 0.00/120M [00:00<?, ?B/s]"
            ]
          },
          "metadata": {},
          "output_type": "display_data"
        },
        {
          "data": {
            "application/vnd.jupyter.widget-view+json": {
              "model_id": "300e54ad15bf4843a1ca8a8a6f6a9f32",
              "version_major": 2,
              "version_minor": 0
            },
            "text/plain": [
              "processed_data_18.parquet:   0%|          | 0.00/120M [00:00<?, ?B/s]"
            ]
          },
          "metadata": {},
          "output_type": "display_data"
        },
        {
          "data": {
            "application/vnd.jupyter.widget-view+json": {
              "model_id": "4ecd744768fa4690834586354592d76b",
              "version_major": 2,
              "version_minor": 0
            },
            "text/plain": [
              "processed_data_19.parquet:   0%|          | 0.00/120M [00:00<?, ?B/s]"
            ]
          },
          "metadata": {},
          "output_type": "display_data"
        },
        {
          "data": {
            "application/vnd.jupyter.widget-view+json": {
              "model_id": "8622627fcf2149d0afe85c15a4ad3962",
              "version_major": 2,
              "version_minor": 0
            },
            "text/plain": [
              "processed_data_2.parquet:   0%|          | 0.00/115M [00:00<?, ?B/s]"
            ]
          },
          "metadata": {},
          "output_type": "display_data"
        },
        {
          "data": {
            "application/vnd.jupyter.widget-view+json": {
              "model_id": "315c9e1baa2e43e2beda9e885af41b3b",
              "version_major": 2,
              "version_minor": 0
            },
            "text/plain": [
              "processed_data_20.parquet:   0%|          | 0.00/122M [00:00<?, ?B/s]"
            ]
          },
          "metadata": {},
          "output_type": "display_data"
        },
        {
          "data": {
            "application/vnd.jupyter.widget-view+json": {
              "model_id": "d0d84d07dd4a467da9231852ce410f76",
              "version_major": 2,
              "version_minor": 0
            },
            "text/plain": [
              "processed_data_21.parquet:   0%|          | 0.00/117M [00:00<?, ?B/s]"
            ]
          },
          "metadata": {},
          "output_type": "display_data"
        },
        {
          "data": {
            "application/vnd.jupyter.widget-view+json": {
              "model_id": "b2b89ca849ac43ca8637770e40b1ff89",
              "version_major": 2,
              "version_minor": 0
            },
            "text/plain": [
              "processed_data_22.parquet:   0%|          | 0.00/117M [00:00<?, ?B/s]"
            ]
          },
          "metadata": {},
          "output_type": "display_data"
        },
        {
          "data": {
            "application/vnd.jupyter.widget-view+json": {
              "model_id": "88891ca413f348b681ffb3d9fc7e0ad8",
              "version_major": 2,
              "version_minor": 0
            },
            "text/plain": [
              "processed_data_23.parquet:   0%|          | 0.00/119M [00:00<?, ?B/s]"
            ]
          },
          "metadata": {},
          "output_type": "display_data"
        },
        {
          "data": {
            "application/vnd.jupyter.widget-view+json": {
              "model_id": "5ed1ae88cc6746e291dec2c6441cbbb3",
              "version_major": 2,
              "version_minor": 0
            },
            "text/plain": [
              "processed_data_24.parquet:   0%|          | 0.00/119M [00:00<?, ?B/s]"
            ]
          },
          "metadata": {},
          "output_type": "display_data"
        },
        {
          "data": {
            "application/vnd.jupyter.widget-view+json": {
              "model_id": "c4cbcec8a7b04fd4ad172c8a9fcb2d3b",
              "version_major": 2,
              "version_minor": 0
            },
            "text/plain": [
              "processed_data_25.parquet:   0%|          | 0.00/123M [00:00<?, ?B/s]"
            ]
          },
          "metadata": {},
          "output_type": "display_data"
        },
        {
          "data": {
            "application/vnd.jupyter.widget-view+json": {
              "model_id": "78a6dbfa49444c8c9c6ef93f7f9af77c",
              "version_major": 2,
              "version_minor": 0
            },
            "text/plain": [
              "processed_data_26.parquet:   0%|          | 0.00/123M [00:00<?, ?B/s]"
            ]
          },
          "metadata": {},
          "output_type": "display_data"
        },
        {
          "data": {
            "application/vnd.jupyter.widget-view+json": {
              "model_id": "08577b2172b3428190be6ddfc7cbde14",
              "version_major": 2,
              "version_minor": 0
            },
            "text/plain": [
              "processed_data_27.parquet:   0%|          | 0.00/125M [00:00<?, ?B/s]"
            ]
          },
          "metadata": {},
          "output_type": "display_data"
        },
        {
          "data": {
            "application/vnd.jupyter.widget-view+json": {
              "model_id": "a7fff3b6c1614c2a980ece105cd2badd",
              "version_major": 2,
              "version_minor": 0
            },
            "text/plain": [
              "processed_data_28.parquet:   0%|          | 0.00/128M [00:00<?, ?B/s]"
            ]
          },
          "metadata": {},
          "output_type": "display_data"
        },
        {
          "data": {
            "application/vnd.jupyter.widget-view+json": {
              "model_id": "1b17a7dfc691437a8edd0591311bb965",
              "version_major": 2,
              "version_minor": 0
            },
            "text/plain": [
              "processed_data_29.parquet:   0%|          | 0.00/130M [00:00<?, ?B/s]"
            ]
          },
          "metadata": {},
          "output_type": "display_data"
        },
        {
          "data": {
            "application/vnd.jupyter.widget-view+json": {
              "model_id": "b5602511a18a4da7a84c0262ef76db15",
              "version_major": 2,
              "version_minor": 0
            },
            "text/plain": [
              "processed_data_3.parquet:   0%|          | 0.00/119M [00:00<?, ?B/s]"
            ]
          },
          "metadata": {},
          "output_type": "display_data"
        },
        {
          "data": {
            "application/vnd.jupyter.widget-view+json": {
              "model_id": "be8e0bdab0c34eab86a90d8fcb99b2cd",
              "version_major": 2,
              "version_minor": 0
            },
            "text/plain": [
              "processed_data_30.parquet:   0%|          | 0.00/131M [00:00<?, ?B/s]"
            ]
          },
          "metadata": {},
          "output_type": "display_data"
        },
        {
          "data": {
            "application/vnd.jupyter.widget-view+json": {
              "model_id": "837c9cada4f44752af5b689fa0fb15ad",
              "version_major": 2,
              "version_minor": 0
            },
            "text/plain": [
              "processed_data_31.parquet:   0%|          | 0.00/131M [00:00<?, ?B/s]"
            ]
          },
          "metadata": {},
          "output_type": "display_data"
        },
        {
          "data": {
            "application/vnd.jupyter.widget-view+json": {
              "model_id": "492f581a77ca4b9bb6a2bc2b55e5826d",
              "version_major": 2,
              "version_minor": 0
            },
            "text/plain": [
              "processed_data_32.parquet:   0%|          | 0.00/128M [00:00<?, ?B/s]"
            ]
          },
          "metadata": {},
          "output_type": "display_data"
        },
        {
          "data": {
            "application/vnd.jupyter.widget-view+json": {
              "model_id": "12a1802050a84049b2885855fa010a27",
              "version_major": 2,
              "version_minor": 0
            },
            "text/plain": [
              "processed_data_33.parquet:   0%|          | 0.00/128M [00:00<?, ?B/s]"
            ]
          },
          "metadata": {},
          "output_type": "display_data"
        },
        {
          "data": {
            "application/vnd.jupyter.widget-view+json": {
              "model_id": "8aee80a6e387482aac9b2b451e68d1a5",
              "version_major": 2,
              "version_minor": 0
            },
            "text/plain": [
              "processed_data_34.parquet:   0%|          | 0.00/128M [00:00<?, ?B/s]"
            ]
          },
          "metadata": {},
          "output_type": "display_data"
        },
        {
          "data": {
            "application/vnd.jupyter.widget-view+json": {
              "model_id": "29cae373d88641f9aa9145ff080015a3",
              "version_major": 2,
              "version_minor": 0
            },
            "text/plain": [
              "processed_data_35.parquet:   0%|          | 0.00/131M [00:00<?, ?B/s]"
            ]
          },
          "metadata": {},
          "output_type": "display_data"
        },
        {
          "data": {
            "application/vnd.jupyter.widget-view+json": {
              "model_id": "1c011032a8f04444b83264f9f737c5d6",
              "version_major": 2,
              "version_minor": 0
            },
            "text/plain": [
              "processed_data_36.parquet:   0%|          | 0.00/129M [00:00<?, ?B/s]"
            ]
          },
          "metadata": {},
          "output_type": "display_data"
        },
        {
          "data": {
            "application/vnd.jupyter.widget-view+json": {
              "model_id": "ce53d1258bc34c8294247f53a5c15774",
              "version_major": 2,
              "version_minor": 0
            },
            "text/plain": [
              "processed_data_37.parquet:   0%|          | 0.00/127M [00:00<?, ?B/s]"
            ]
          },
          "metadata": {},
          "output_type": "display_data"
        },
        {
          "data": {
            "application/vnd.jupyter.widget-view+json": {
              "model_id": "5f3f3f6394cc4e43b72aa919a980a206",
              "version_major": 2,
              "version_minor": 0
            },
            "text/plain": [
              "processed_data_38.parquet:   0%|          | 0.00/127M [00:00<?, ?B/s]"
            ]
          },
          "metadata": {},
          "output_type": "display_data"
        },
        {
          "data": {
            "application/vnd.jupyter.widget-view+json": {
              "model_id": "a66d5746a05d48ae98c6f48cd62599f7",
              "version_major": 2,
              "version_minor": 0
            },
            "text/plain": [
              "processed_data_39.parquet:   0%|          | 0.00/121M [00:00<?, ?B/s]"
            ]
          },
          "metadata": {},
          "output_type": "display_data"
        },
        {
          "data": {
            "application/vnd.jupyter.widget-view+json": {
              "model_id": "edb5d38888a84e49a2390bac5689ff45",
              "version_major": 2,
              "version_minor": 0
            },
            "text/plain": [
              "processed_data_4.parquet:   0%|          | 0.00/117M [00:00<?, ?B/s]"
            ]
          },
          "metadata": {},
          "output_type": "display_data"
        },
        {
          "data": {
            "application/vnd.jupyter.widget-view+json": {
              "model_id": "3a46973e54d44987bd7a86a482f33a96",
              "version_major": 2,
              "version_minor": 0
            },
            "text/plain": [
              "processed_data_40.parquet:   0%|          | 0.00/120M [00:00<?, ?B/s]"
            ]
          },
          "metadata": {},
          "output_type": "display_data"
        },
        {
          "data": {
            "application/vnd.jupyter.widget-view+json": {
              "model_id": "fe6ae1e6694443409a74eb91a55c8fa8",
              "version_major": 2,
              "version_minor": 0
            },
            "text/plain": [
              "processed_data_41.parquet:   0%|          | 0.00/121M [00:00<?, ?B/s]"
            ]
          },
          "metadata": {},
          "output_type": "display_data"
        },
        {
          "data": {
            "application/vnd.jupyter.widget-view+json": {
              "model_id": "811b20c6209441eb8e6f6c3b64307f03",
              "version_major": 2,
              "version_minor": 0
            },
            "text/plain": [
              "processed_data_42.parquet:   0%|          | 0.00/122M [00:00<?, ?B/s]"
            ]
          },
          "metadata": {},
          "output_type": "display_data"
        },
        {
          "data": {
            "application/vnd.jupyter.widget-view+json": {
              "model_id": "e1900b5a00f04d01af21799b11eb77cf",
              "version_major": 2,
              "version_minor": 0
            },
            "text/plain": [
              "processed_data_43.parquet:   0%|          | 0.00/124M [00:00<?, ?B/s]"
            ]
          },
          "metadata": {},
          "output_type": "display_data"
        },
        {
          "data": {
            "application/vnd.jupyter.widget-view+json": {
              "model_id": "ccdcde96666d449eafdbdcbe01c338ea",
              "version_major": 2,
              "version_minor": 0
            },
            "text/plain": [
              "processed_data_44.parquet:   0%|          | 0.00/125M [00:00<?, ?B/s]"
            ]
          },
          "metadata": {},
          "output_type": "display_data"
        },
        {
          "data": {
            "application/vnd.jupyter.widget-view+json": {
              "model_id": "d58f06b594b04497bb46590b011fca91",
              "version_major": 2,
              "version_minor": 0
            },
            "text/plain": [
              "processed_data_45.parquet:   0%|          | 0.00/127M [00:00<?, ?B/s]"
            ]
          },
          "metadata": {},
          "output_type": "display_data"
        },
        {
          "data": {
            "application/vnd.jupyter.widget-view+json": {
              "model_id": "c5a8e0bf38e34ad9bc9e73986c8fa0d5",
              "version_major": 2,
              "version_minor": 0
            },
            "text/plain": [
              "processed_data_46.parquet:   0%|          | 0.00/128M [00:00<?, ?B/s]"
            ]
          },
          "metadata": {},
          "output_type": "display_data"
        },
        {
          "data": {
            "application/vnd.jupyter.widget-view+json": {
              "model_id": "2f8487b792ff40a3a86f4188ce2e162f",
              "version_major": 2,
              "version_minor": 0
            },
            "text/plain": [
              "processed_data_47.parquet:   0%|          | 0.00/127M [00:00<?, ?B/s]"
            ]
          },
          "metadata": {},
          "output_type": "display_data"
        },
        {
          "data": {
            "application/vnd.jupyter.widget-view+json": {
              "model_id": "bfc70e9de12947f0966a76dbcc99b7e7",
              "version_major": 2,
              "version_minor": 0
            },
            "text/plain": [
              "processed_data_48.parquet:   0%|          | 0.00/131M [00:00<?, ?B/s]"
            ]
          },
          "metadata": {},
          "output_type": "display_data"
        },
        {
          "data": {
            "application/vnd.jupyter.widget-view+json": {
              "model_id": "4f438da2059a4496919d82784d92e6ab",
              "version_major": 2,
              "version_minor": 0
            },
            "text/plain": [
              "processed_data_49.parquet:   0%|          | 0.00/132M [00:00<?, ?B/s]"
            ]
          },
          "metadata": {},
          "output_type": "display_data"
        },
        {
          "data": {
            "application/vnd.jupyter.widget-view+json": {
              "model_id": "b492b16f1d334766a82c5aabd0e9ef84",
              "version_major": 2,
              "version_minor": 0
            },
            "text/plain": [
              "processed_data_5.parquet:   0%|          | 0.00/115M [00:00<?, ?B/s]"
            ]
          },
          "metadata": {},
          "output_type": "display_data"
        },
        {
          "data": {
            "application/vnd.jupyter.widget-view+json": {
              "model_id": "8e93a9925fe74d0d9e39257df46b6906",
              "version_major": 2,
              "version_minor": 0
            },
            "text/plain": [
              "processed_data_50.parquet:   0%|          | 0.00/132M [00:00<?, ?B/s]"
            ]
          },
          "metadata": {},
          "output_type": "display_data"
        },
        {
          "data": {
            "application/vnd.jupyter.widget-view+json": {
              "model_id": "2c4b9920d07142c7a0e6ea3a996cbfd7",
              "version_major": 2,
              "version_minor": 0
            },
            "text/plain": [
              "processed_data_51.parquet:   0%|          | 0.00/131M [00:00<?, ?B/s]"
            ]
          },
          "metadata": {},
          "output_type": "display_data"
        },
        {
          "data": {
            "application/vnd.jupyter.widget-view+json": {
              "model_id": "ba30ac8482974c338781b7674905176f",
              "version_major": 2,
              "version_minor": 0
            },
            "text/plain": [
              "processed_data_52.parquet:   0%|          | 0.00/128M [00:00<?, ?B/s]"
            ]
          },
          "metadata": {},
          "output_type": "display_data"
        },
        {
          "data": {
            "application/vnd.jupyter.widget-view+json": {
              "model_id": "24dc4bca12324ad99a87fa4f2a1f6da7",
              "version_major": 2,
              "version_minor": 0
            },
            "text/plain": [
              "processed_data_53.parquet:   0%|          | 0.00/123M [00:00<?, ?B/s]"
            ]
          },
          "metadata": {},
          "output_type": "display_data"
        },
        {
          "data": {
            "application/vnd.jupyter.widget-view+json": {
              "model_id": "b46d89dd76a243c78842ffa2a3dfaf20",
              "version_major": 2,
              "version_minor": 0
            },
            "text/plain": [
              "processed_data_54.parquet:   0%|          | 0.00/124M [00:00<?, ?B/s]"
            ]
          },
          "metadata": {},
          "output_type": "display_data"
        },
        {
          "data": {
            "application/vnd.jupyter.widget-view+json": {
              "model_id": "babe379225b44c2eba874e05244fecbe",
              "version_major": 2,
              "version_minor": 0
            },
            "text/plain": [
              "processed_data_55.parquet:   0%|          | 0.00/122M [00:00<?, ?B/s]"
            ]
          },
          "metadata": {},
          "output_type": "display_data"
        },
        {
          "data": {
            "application/vnd.jupyter.widget-view+json": {
              "model_id": "9f0cd0805ba946028408497e3cd54484",
              "version_major": 2,
              "version_minor": 0
            },
            "text/plain": [
              "processed_data_56.parquet:   0%|          | 0.00/121M [00:00<?, ?B/s]"
            ]
          },
          "metadata": {},
          "output_type": "display_data"
        },
        {
          "data": {
            "application/vnd.jupyter.widget-view+json": {
              "model_id": "8b320e1b335f4f1a97f601ac56d85aa9",
              "version_major": 2,
              "version_minor": 0
            },
            "text/plain": [
              "processed_data_57.parquet:   0%|          | 0.00/121M [00:00<?, ?B/s]"
            ]
          },
          "metadata": {},
          "output_type": "display_data"
        },
        {
          "data": {
            "application/vnd.jupyter.widget-view+json": {
              "model_id": "b8cfdec010bd42269554faf0982e3cab",
              "version_major": 2,
              "version_minor": 0
            },
            "text/plain": [
              "processed_data_58.parquet:   0%|          | 0.00/118M [00:00<?, ?B/s]"
            ]
          },
          "metadata": {},
          "output_type": "display_data"
        },
        {
          "data": {
            "application/vnd.jupyter.widget-view+json": {
              "model_id": "1ec307bf68a44e06b41e305426b712b3",
              "version_major": 2,
              "version_minor": 0
            },
            "text/plain": [
              "processed_data_59.parquet:   0%|          | 0.00/116M [00:00<?, ?B/s]"
            ]
          },
          "metadata": {},
          "output_type": "display_data"
        },
        {
          "data": {
            "application/vnd.jupyter.widget-view+json": {
              "model_id": "e5dd63373eaa41fb8fa6c7c4b91899d1",
              "version_major": 2,
              "version_minor": 0
            },
            "text/plain": [
              "processed_data_6.parquet:   0%|          | 0.00/121M [00:00<?, ?B/s]"
            ]
          },
          "metadata": {},
          "output_type": "display_data"
        },
        {
          "data": {
            "application/vnd.jupyter.widget-view+json": {
              "model_id": "0b66cd5d83fb4ab89fa9b2c8297eac35",
              "version_major": 2,
              "version_minor": 0
            },
            "text/plain": [
              "processed_data_60.parquet:   0%|          | 0.00/117M [00:00<?, ?B/s]"
            ]
          },
          "metadata": {},
          "output_type": "display_data"
        },
        {
          "data": {
            "application/vnd.jupyter.widget-view+json": {
              "model_id": "76ae56c22e4c4f59aad1611ddd280762",
              "version_major": 2,
              "version_minor": 0
            },
            "text/plain": [
              "processed_data_61.parquet:   0%|          | 0.00/116M [00:00<?, ?B/s]"
            ]
          },
          "metadata": {},
          "output_type": "display_data"
        },
        {
          "data": {
            "application/vnd.jupyter.widget-view+json": {
              "model_id": "e330545dfa6b4bc582dd7348ad03a7ea",
              "version_major": 2,
              "version_minor": 0
            },
            "text/plain": [
              "processed_data_62.parquet:   0%|          | 0.00/117M [00:00<?, ?B/s]"
            ]
          },
          "metadata": {},
          "output_type": "display_data"
        },
        {
          "data": {
            "application/vnd.jupyter.widget-view+json": {
              "model_id": "cb1d077295464febb41487778c3a5830",
              "version_major": 2,
              "version_minor": 0
            },
            "text/plain": [
              "processed_data_63.parquet:   0%|          | 0.00/121M [00:00<?, ?B/s]"
            ]
          },
          "metadata": {},
          "output_type": "display_data"
        },
        {
          "data": {
            "application/vnd.jupyter.widget-view+json": {
              "model_id": "9ab3c6d89ede4729a012e4f7f4cdd447",
              "version_major": 2,
              "version_minor": 0
            },
            "text/plain": [
              "processed_data_64.parquet:   0%|          | 0.00/124M [00:00<?, ?B/s]"
            ]
          },
          "metadata": {},
          "output_type": "display_data"
        },
        {
          "data": {
            "application/vnd.jupyter.widget-view+json": {
              "model_id": "1d7e4c2366f14da58d0de58af221cc4d",
              "version_major": 2,
              "version_minor": 0
            },
            "text/plain": [
              "processed_data_65.parquet:   0%|          | 0.00/126M [00:00<?, ?B/s]"
            ]
          },
          "metadata": {},
          "output_type": "display_data"
        },
        {
          "data": {
            "application/vnd.jupyter.widget-view+json": {
              "model_id": "3ef92af52e7e4f4397c7d0b429457858",
              "version_major": 2,
              "version_minor": 0
            },
            "text/plain": [
              "processed_data_66.parquet:   0%|          | 0.00/124M [00:00<?, ?B/s]"
            ]
          },
          "metadata": {},
          "output_type": "display_data"
        },
        {
          "data": {
            "application/vnd.jupyter.widget-view+json": {
              "model_id": "afdeb552ec2349529c59380a1f6327ea",
              "version_major": 2,
              "version_minor": 0
            },
            "text/plain": [
              "processed_data_67.parquet:   0%|          | 0.00/125M [00:00<?, ?B/s]"
            ]
          },
          "metadata": {},
          "output_type": "display_data"
        },
        {
          "data": {
            "application/vnd.jupyter.widget-view+json": {
              "model_id": "28b56b120e59468781eec44b37f6981d",
              "version_major": 2,
              "version_minor": 0
            },
            "text/plain": [
              "processed_data_68.parquet:   0%|          | 0.00/125M [00:00<?, ?B/s]"
            ]
          },
          "metadata": {},
          "output_type": "display_data"
        },
        {
          "data": {
            "application/vnd.jupyter.widget-view+json": {
              "model_id": "aa786079b08c49c18913168988083176",
              "version_major": 2,
              "version_minor": 0
            },
            "text/plain": [
              "processed_data_69.parquet:   0%|          | 0.00/128M [00:00<?, ?B/s]"
            ]
          },
          "metadata": {},
          "output_type": "display_data"
        },
        {
          "data": {
            "application/vnd.jupyter.widget-view+json": {
              "model_id": "d64289efb0b14c9da2b953dc3affc09a",
              "version_major": 2,
              "version_minor": 0
            },
            "text/plain": [
              "processed_data_7.parquet:   0%|          | 0.00/122M [00:00<?, ?B/s]"
            ]
          },
          "metadata": {},
          "output_type": "display_data"
        },
        {
          "data": {
            "application/vnd.jupyter.widget-view+json": {
              "model_id": "74203c1b032a409ea43acb457264d43d",
              "version_major": 2,
              "version_minor": 0
            },
            "text/plain": [
              "processed_data_70.parquet:   0%|          | 0.00/129M [00:00<?, ?B/s]"
            ]
          },
          "metadata": {},
          "output_type": "display_data"
        },
        {
          "data": {
            "application/vnd.jupyter.widget-view+json": {
              "model_id": "5dc3ae124daf4b9794a4ba81eeb3cf26",
              "version_major": 2,
              "version_minor": 0
            },
            "text/plain": [
              "processed_data_71.parquet:   0%|          | 0.00/127M [00:00<?, ?B/s]"
            ]
          },
          "metadata": {},
          "output_type": "display_data"
        },
        {
          "data": {
            "application/vnd.jupyter.widget-view+json": {
              "model_id": "253dd8c091484bc8baf495c788e2b3df",
              "version_major": 2,
              "version_minor": 0
            },
            "text/plain": [
              "processed_data_72.parquet:   0%|          | 0.00/127M [00:00<?, ?B/s]"
            ]
          },
          "metadata": {},
          "output_type": "display_data"
        },
        {
          "data": {
            "application/vnd.jupyter.widget-view+json": {
              "model_id": "249de99306f24dd3a19d886b2e901488",
              "version_major": 2,
              "version_minor": 0
            },
            "text/plain": [
              "processed_data_73.parquet:   0%|          | 0.00/123M [00:00<?, ?B/s]"
            ]
          },
          "metadata": {},
          "output_type": "display_data"
        },
        {
          "data": {
            "application/vnd.jupyter.widget-view+json": {
              "model_id": "6564739e99744cd8bc300a67819685e7",
              "version_major": 2,
              "version_minor": 0
            },
            "text/plain": [
              "processed_data_74.parquet:   0%|          | 0.00/123M [00:00<?, ?B/s]"
            ]
          },
          "metadata": {},
          "output_type": "display_data"
        },
        {
          "data": {
            "application/vnd.jupyter.widget-view+json": {
              "model_id": "be153b6defae474f9e709e2774b30ed8",
              "version_major": 2,
              "version_minor": 0
            },
            "text/plain": [
              "processed_data_75.parquet:   0%|          | 0.00/123M [00:00<?, ?B/s]"
            ]
          },
          "metadata": {},
          "output_type": "display_data"
        },
        {
          "data": {
            "application/vnd.jupyter.widget-view+json": {
              "model_id": "0461e1c1c3cf4b39bca7b94fde8c77f7",
              "version_major": 2,
              "version_minor": 0
            },
            "text/plain": [
              "processed_data_76.parquet:   0%|          | 0.00/120M [00:00<?, ?B/s]"
            ]
          },
          "metadata": {},
          "output_type": "display_data"
        },
        {
          "data": {
            "application/vnd.jupyter.widget-view+json": {
              "model_id": "38b17328d06c4901a721bd8a0c484df1",
              "version_major": 2,
              "version_minor": 0
            },
            "text/plain": [
              "processed_data_77.parquet:   0%|          | 0.00/121M [00:00<?, ?B/s]"
            ]
          },
          "metadata": {},
          "output_type": "display_data"
        },
        {
          "data": {
            "application/vnd.jupyter.widget-view+json": {
              "model_id": "e79e35bcc9b745e18c87d4c0b5eb2a24",
              "version_major": 2,
              "version_minor": 0
            },
            "text/plain": [
              "processed_data_78.parquet:   0%|          | 0.00/117M [00:00<?, ?B/s]"
            ]
          },
          "metadata": {},
          "output_type": "display_data"
        },
        {
          "data": {
            "application/vnd.jupyter.widget-view+json": {
              "model_id": "523094fa06fb4cb088d83c3f7ca88dd3",
              "version_major": 2,
              "version_minor": 0
            },
            "text/plain": [
              "processed_data_79.parquet:   0%|          | 0.00/117M [00:00<?, ?B/s]"
            ]
          },
          "metadata": {},
          "output_type": "display_data"
        },
        {
          "data": {
            "application/vnd.jupyter.widget-view+json": {
              "model_id": "4497c3020c9d4d4cb2404bb2352aecac",
              "version_major": 2,
              "version_minor": 0
            },
            "text/plain": [
              "processed_data_8.parquet:   0%|          | 0.00/124M [00:00<?, ?B/s]"
            ]
          },
          "metadata": {},
          "output_type": "display_data"
        },
        {
          "data": {
            "application/vnd.jupyter.widget-view+json": {
              "model_id": "6da90ad7ad814b399377f6b29ad315ff",
              "version_major": 2,
              "version_minor": 0
            },
            "text/plain": [
              "processed_data_80.parquet:   0%|          | 0.00/118M [00:00<?, ?B/s]"
            ]
          },
          "metadata": {},
          "output_type": "display_data"
        },
        {
          "data": {
            "application/vnd.jupyter.widget-view+json": {
              "model_id": "dd2d41e55d044bc28103d569fbeb18f8",
              "version_major": 2,
              "version_minor": 0
            },
            "text/plain": [
              "processed_data_81.parquet:   0%|          | 0.00/119M [00:00<?, ?B/s]"
            ]
          },
          "metadata": {},
          "output_type": "display_data"
        },
        {
          "data": {
            "application/vnd.jupyter.widget-view+json": {
              "model_id": "2d04ce415ef24a46977cfb30532743cf",
              "version_major": 2,
              "version_minor": 0
            },
            "text/plain": [
              "processed_data_82.parquet:   0%|          | 0.00/121M [00:00<?, ?B/s]"
            ]
          },
          "metadata": {},
          "output_type": "display_data"
        },
        {
          "data": {
            "application/vnd.jupyter.widget-view+json": {
              "model_id": "ba89feaa9f2b4a1db2d187a52e8f20af",
              "version_major": 2,
              "version_minor": 0
            },
            "text/plain": [
              "processed_data_83.parquet:   0%|          | 0.00/124M [00:00<?, ?B/s]"
            ]
          },
          "metadata": {},
          "output_type": "display_data"
        },
        {
          "data": {
            "application/vnd.jupyter.widget-view+json": {
              "model_id": "902ff6c6dfd34efe8144655516938ba9",
              "version_major": 2,
              "version_minor": 0
            },
            "text/plain": [
              "processed_data_84.parquet:   0%|          | 0.00/125M [00:00<?, ?B/s]"
            ]
          },
          "metadata": {},
          "output_type": "display_data"
        },
        {
          "data": {
            "application/vnd.jupyter.widget-view+json": {
              "model_id": "48188487070d42c1b8c47719fa2cd0e6",
              "version_major": 2,
              "version_minor": 0
            },
            "text/plain": [
              "processed_data_85.parquet:   0%|          | 0.00/124M [00:00<?, ?B/s]"
            ]
          },
          "metadata": {},
          "output_type": "display_data"
        },
        {
          "data": {
            "application/vnd.jupyter.widget-view+json": {
              "model_id": "959a318b63ac4b9aaa4762affe6d6cac",
              "version_major": 2,
              "version_minor": 0
            },
            "text/plain": [
              "processed_data_86.parquet:   0%|          | 0.00/128M [00:00<?, ?B/s]"
            ]
          },
          "metadata": {},
          "output_type": "display_data"
        },
        {
          "data": {
            "application/vnd.jupyter.widget-view+json": {
              "model_id": "1e254d2e848e4389801f041f01fc787b",
              "version_major": 2,
              "version_minor": 0
            },
            "text/plain": [
              "processed_data_87.parquet:   0%|          | 0.00/127M [00:00<?, ?B/s]"
            ]
          },
          "metadata": {},
          "output_type": "display_data"
        },
        {
          "data": {
            "application/vnd.jupyter.widget-view+json": {
              "model_id": "53d88a7f35ea4ede9548c7a0a341cd87",
              "version_major": 2,
              "version_minor": 0
            },
            "text/plain": [
              "processed_data_88.parquet:   0%|          | 0.00/128M [00:00<?, ?B/s]"
            ]
          },
          "metadata": {},
          "output_type": "display_data"
        },
        {
          "data": {
            "application/vnd.jupyter.widget-view+json": {
              "model_id": "c22ec65d87d542709d8500161b9a42d3",
              "version_major": 2,
              "version_minor": 0
            },
            "text/plain": [
              "processed_data_89.parquet:   0%|          | 0.00/130M [00:00<?, ?B/s]"
            ]
          },
          "metadata": {},
          "output_type": "display_data"
        },
        {
          "data": {
            "application/vnd.jupyter.widget-view+json": {
              "model_id": "c9bbceffe31b4cd0bfc7c6d7a4dce3fb",
              "version_major": 2,
              "version_minor": 0
            },
            "text/plain": [
              "processed_data_9.parquet:   0%|          | 0.00/123M [00:00<?, ?B/s]"
            ]
          },
          "metadata": {},
          "output_type": "display_data"
        },
        {
          "data": {
            "application/vnd.jupyter.widget-view+json": {
              "model_id": "1912eaf6996348d4ac9b9d6df892de00",
              "version_major": 2,
              "version_minor": 0
            },
            "text/plain": [
              "processed_data_90.parquet:   0%|          | 0.00/127M [00:00<?, ?B/s]"
            ]
          },
          "metadata": {},
          "output_type": "display_data"
        },
        {
          "data": {
            "application/vnd.jupyter.widget-view+json": {
              "model_id": "ddbceffb10e44e94af311841c455e16c",
              "version_major": 2,
              "version_minor": 0
            },
            "text/plain": [
              "processed_data_91.parquet:   0%|          | 0.00/124M [00:00<?, ?B/s]"
            ]
          },
          "metadata": {},
          "output_type": "display_data"
        },
        {
          "data": {
            "application/vnd.jupyter.widget-view+json": {
              "model_id": "491c4ef863174a9ea75b69bc196f87ac",
              "version_major": 2,
              "version_minor": 0
            },
            "text/plain": [
              "processed_data_92.parquet:   0%|          | 0.00/124M [00:00<?, ?B/s]"
            ]
          },
          "metadata": {},
          "output_type": "display_data"
        },
        {
          "data": {
            "application/vnd.jupyter.widget-view+json": {
              "model_id": "71d800bbf6d14d33991e7cac47dc0c78",
              "version_major": 2,
              "version_minor": 0
            },
            "text/plain": [
              "processed_data_93.parquet:   0%|          | 0.00/124M [00:00<?, ?B/s]"
            ]
          },
          "metadata": {},
          "output_type": "display_data"
        },
        {
          "data": {
            "application/vnd.jupyter.widget-view+json": {
              "model_id": "31259983e894498faa85aac3d064f347",
              "version_major": 2,
              "version_minor": 0
            },
            "text/plain": [
              "processed_data_94.parquet:   0%|          | 0.00/121M [00:00<?, ?B/s]"
            ]
          },
          "metadata": {},
          "output_type": "display_data"
        },
        {
          "data": {
            "application/vnd.jupyter.widget-view+json": {
              "model_id": "04ee53a663e8428dacb76da2dedb9b60",
              "version_major": 2,
              "version_minor": 0
            },
            "text/plain": [
              "processed_data_95.parquet:   0%|          | 0.00/118M [00:00<?, ?B/s]"
            ]
          },
          "metadata": {},
          "output_type": "display_data"
        },
        {
          "data": {
            "application/vnd.jupyter.widget-view+json": {
              "model_id": "278115d076cb4d61b4696dcfab84e710",
              "version_major": 2,
              "version_minor": 0
            },
            "text/plain": [
              "processed_data_96.parquet:   0%|          | 0.00/118M [00:00<?, ?B/s]"
            ]
          },
          "metadata": {},
          "output_type": "display_data"
        },
        {
          "data": {
            "application/vnd.jupyter.widget-view+json": {
              "model_id": "010bf178628245ba9490757cc1135499",
              "version_major": 2,
              "version_minor": 0
            },
            "text/plain": [
              "processed_data_97.parquet:   0%|          | 0.00/116M [00:00<?, ?B/s]"
            ]
          },
          "metadata": {},
          "output_type": "display_data"
        },
        {
          "data": {
            "application/vnd.jupyter.widget-view+json": {
              "model_id": "69b0e2d669dd44ffadc3708fde78f3cf",
              "version_major": 2,
              "version_minor": 0
            },
            "text/plain": [
              "processed_data_98.parquet:   0%|          | 0.00/114M [00:00<?, ?B/s]"
            ]
          },
          "metadata": {},
          "output_type": "display_data"
        },
        {
          "data": {
            "application/vnd.jupyter.widget-view+json": {
              "model_id": "a6aba5f6818a481ca5062c28e1abebaf",
              "version_major": 2,
              "version_minor": 0
            },
            "text/plain": [
              "processed_data_99.parquet:   0%|          | 0.00/114M [00:00<?, ?B/s]"
            ]
          },
          "metadata": {},
          "output_type": "display_data"
        },
        {
          "data": {
            "application/vnd.jupyter.widget-view+json": {
              "model_id": "15d3d29a417747e98ad4b0874065727d",
              "version_major": 2,
              "version_minor": 0
            },
            "text/plain": [
              "Generating train split:   0%|          | 0/65542211 [00:00<?, ? examples/s]"
            ]
          },
          "metadata": {},
          "output_type": "display_data"
        },
        {
          "data": {
            "application/vnd.jupyter.widget-view+json": {
              "model_id": "19f4de208e74419894bd98379414c36d",
              "version_major": 2,
              "version_minor": 0
            },
            "text/plain": [
              "Loading dataset shards:   0%|          | 0/44 [00:00<?, ?it/s]"
            ]
          },
          "metadata": {},
          "output_type": "display_data"
        },
        {
          "name": "stdout",
          "output_type": "stream",
          "text": [
            "Fixed column 'generated_text' by converting all values to string.\n",
            "Fixed column 'secondary_themes' by converting all values to string.\n",
            "\n",
            "Individual dataset sizes:\n",
            "   Twitter: (20000, 2)\n",
            "   Instagram: (689, 3)\n",
            "   LinkedIn: (500, 4)\n",
            "   Exorde: (50000, 10)\n",
            "Combined dataset row count before adjustment: 71189\n",
            "WARNING: The combined dataset has less than the target row count!\n",
            "\n",
            "Final Combined Dataset saved to: /content/drive/MyDrive/new2/combined_social_media_dataset.csv with 71189 rows\n"
          ]
        }
      ],
      "source": [
        "# ───────────────────────────────────────────────\n",
        "# Step 0: Install Required Libraries (if not already installed)\n",
        "# ───────────────────────────────────────────────\n",
        "!pip install datasets pandas -q\n",
        "\n",
        "# ───────────────────────────────────────────────\n",
        "# Step 1: Import Libraries & Mount Google Drive\n",
        "# ───────────────────────────────────────────────\n",
        "import os\n",
        "import pandas as pd\n",
        "from datasets import load_dataset\n",
        "from google.colab import drive\n",
        "\n",
        "# Constants for paths and target row counts\n",
        "DRIVE_SAVE_DIR = \"/content/drive/MyDrive/new2\"       # Save directory on Google Drive\n",
        "DATASET_CACHE_DIR = \"/content/cache\"                 # Cache directory for dataset downloads\n",
        "FINAL_DATASET_TARGET_ROWS = 100000                   # Total expected rows from combined datasets\n",
        "\n",
        "def setup_google_drive_directory(save_directory: str) -> None:\n",
        "    \"\"\"\n",
        "    Mounts Google Drive and ensures that the target save directory exists.\n",
        "    If the directory does not exist, it creates one and prints a confirmation message.\n",
        "    \"\"\"\n",
        "    # Mount Google Drive if not already mounted\n",
        "    drive.mount('/content/drive', force_remount=True)\n",
        "\n",
        "    if not os.path.exists(save_directory):\n",
        "        os.makedirs(save_directory)\n",
        "        print(f\"Created directory: {save_directory}\")\n",
        "    else:\n",
        "        print(f\"Directory already exists: {save_directory}\")\n",
        "\n",
        "def load_and_clean_dataset(dataset_id: str, split: str = \"train\", sample_size: int = None) -> pd.DataFrame:\n",
        "    \"\"\"\n",
        "    Loads a dataset from Hugging Face and performs cleaning:\n",
        "\n",
        "    - Downloads the dataset using a specified cache directory.\n",
        "    - If 'sample_size' is set and the dataset contains more rows than the limit,\n",
        "      selects only the first 'sample_size' rows.\n",
        "    - Converts columns with dictionary or list values to strings to avoid\n",
        "      unhashable type issues.\n",
        "\n",
        "    Args:\n",
        "        dataset_id (str): Identifier of the dataset to load.\n",
        "        split (str): Which split of the dataset to load (default \"train\").\n",
        "        sample_size (int): Optional limit on the number of rows to load.\n",
        "\n",
        "    Returns:\n",
        "        pd.DataFrame: The cleaned dataset.\n",
        "    \"\"\"\n",
        "    print(f\"Loading dataset: {dataset_id} (split: {split})\")\n",
        "    dataset = load_dataset(dataset_id, split=split, cache_dir=DATASET_CACHE_DIR)\n",
        "\n",
        "    # Data validation: Ensure sample_size is a positive integer if provided\n",
        "    if sample_size is not None:\n",
        "        try:\n",
        "            if sample_size <= 0:\n",
        "                raise ValueError(\"Sample size must be greater than zero.\")\n",
        "        except Exception as error:\n",
        "            print(f\"Invalid sample_size argument: {error}\")\n",
        "            raise\n",
        "\n",
        "        if len(dataset) > sample_size:\n",
        "            dataset = dataset.select(range(sample_size))\n",
        "\n",
        "    df = pd.DataFrame(dataset)\n",
        "\n",
        "    # Convert any dict or list column values into strings to avoid unhashable errors\n",
        "    for column in df.columns:\n",
        "        if df[column].apply(lambda value: isinstance(value, (dict, list))).any():\n",
        "            df[column] = df[column].apply(lambda value: str(value) if isinstance(value, (dict, list)) else value)\n",
        "\n",
        "    return df\n",
        "\n",
        "def sanitize_column_entries(dataframe: pd.DataFrame, column_name: str) -> pd.DataFrame:\n",
        "    \"\"\"\n",
        "    Ensures that a specific column's entries are converted to strings.\n",
        "    This conversion prevents issues with unhashable types during later processing.\n",
        "\n",
        "    Args:\n",
        "        dataframe (pd.DataFrame): DataFrame that may contain the target column.\n",
        "        column_name (str): The name of the column to sanitize.\n",
        "\n",
        "    Returns:\n",
        "        pd.DataFrame: DataFrame with the column sanitized.\n",
        "    \"\"\"\n",
        "    if column_name in dataframe.columns:\n",
        "        dataframe[column_name] = dataframe[column_name].astype(str)\n",
        "        print(f\"Fixed column '{column_name}' by converting all values to string.\")\n",
        "    else:\n",
        "        print(f\"Warning: Column '{column_name}' not found in the dataset.\")\n",
        "    return dataframe\n",
        "\n",
        "def combine_datasets(dataframes: list, target_total_rows: int) -> pd.DataFrame:\n",
        "    \"\"\"\n",
        "    Concatenates multiple DataFrames and adjusts the final dataset to meet a target row count.\n",
        "\n",
        "    - Combines the passed dataframes.\n",
        "    - If the total row count exceeds the target, takes a random sample with a fixed seed.\n",
        "    - If the total row count is less than the target, issues a warning.\n",
        "\n",
        "    Args:\n",
        "        dataframes (list): List of DataFrames to be concatenated.\n",
        "        target_total_rows (int): The desired number of rows in the final DataFrame.\n",
        "\n",
        "    Returns:\n",
        "        pd.DataFrame: The combined DataFrame with (ideally) exactly target_total_rows.\n",
        "    \"\"\"\n",
        "    combined_df = pd.concat(dataframes, ignore_index=True)\n",
        "    actual_rows = combined_df.shape[0]\n",
        "    print(f\"Combined dataset row count before adjustment: {actual_rows}\")\n",
        "\n",
        "    if actual_rows > target_total_rows:\n",
        "        # Alternative strategy could involve more balanced pooling by weighting each dataset,\n",
        "        # but here we uniformly sample to reach the target.\n",
        "        combined_df = combined_df.sample(target_total_rows, random_state=42).reset_index(drop=True)\n",
        "        print(f\"Trimmed combined dataset to exactly {target_total_rows} rows using random sampling.\")\n",
        "    elif actual_rows < target_total_rows:\n",
        "        print(\"WARNING: The combined dataset has less than the target row count!\")\n",
        "\n",
        "    return combined_df\n",
        "\n",
        "def main():\n",
        "    \"\"\"\n",
        "    Main function that orchestrates the pipeline:\n",
        "\n",
        "    1. Set up the Google Drive directory.\n",
        "    2. Load and clean individual datasets with specified sample sizes.\n",
        "    3. Perform targeted cleaning on specific columns.\n",
        "    4. Combine the datasets, ensuring the final DataFrame matches the target row count.\n",
        "    5. Save the final combined dataset to Google Drive.\n",
        "    \"\"\"\n",
        "    # Setup Google Drive save directory\n",
        "    setup_google_drive_directory(DRIVE_SAVE_DIR)\n",
        "\n",
        "    # Load individual datasets with sample sizes chosen to roughly sum to 100k rows:\n",
        "    # Twitter: 20k, Instagram: 15k, LinkedIn: 15k, Exorde: 50k\n",
        "    twitter_df = load_and_clean_dataset(\"tweets_hate_speech_detection\", sample_size=20000)\n",
        "    instagram_df = load_and_clean_dataset(\"RafaM97/marketing_social_media\", sample_size=15000)\n",
        "    linkedin_df = load_and_clean_dataset(\"Shekswess/social-media-instruction\", sample_size=15000)\n",
        "    exorde_df = load_and_clean_dataset(\"Exorde/exorde-social-media-december-2024-week1\", sample_size=50000)\n",
        "\n",
        "    # Apply specific column sanitizations based on domain knowledge\n",
        "    linkedin_df = sanitize_column_entries(linkedin_df, \"generated_text\")\n",
        "    exorde_df = sanitize_column_entries(exorde_df, \"secondary_themes\")\n",
        "\n",
        "    # Print individual dataset shapes for tracking purposes\n",
        "    print(\"\\nIndividual dataset sizes:\")\n",
        "    print(\"   Twitter:\", twitter_df.shape)\n",
        "    print(\"   Instagram:\", instagram_df.shape)\n",
        "    print(\"   LinkedIn:\", linkedin_df.shape)\n",
        "    print(\"   Exorde:\", exorde_df.shape)\n",
        "\n",
        "    # Combine datasets into one final DataFrame\n",
        "    final_combined_df = combine_datasets(\n",
        "        [twitter_df, instagram_df, linkedin_df, exorde_df],\n",
        "        target_total_rows=FINAL_DATASET_TARGET_ROWS\n",
        "    )\n",
        "\n",
        "    # Save the final combined dataset to the specified Google Drive directory as CSV\n",
        "    combined_file_path = os.path.join(DRIVE_SAVE_DIR, \"combined_social_media_dataset.csv\")\n",
        "    final_combined_df.to_csv(combined_file_path, index=False)\n",
        "    print(f\"\\nFinal Combined Dataset saved to: {combined_file_path} with {final_combined_df.shape[0]} rows\")\n",
        "\n",
        "# Run the main pipeline if this script is executed directly.\n",
        "if __name__ == \"__main__\":\n",
        "    main()\n"
      ]
    },
    {
      "cell_type": "markdown",
      "metadata": {
        "id": "OqKVShLVa3YB"
      },
      "source": [
        "## Dataset Aggregation and Cleaning Pipeline – Summary\n",
        "\n",
        "### Objective\n",
        "The script collects, cleans, and merges four publicly available social media datasets from Hugging Face. It outputs a single unified CSV file, suitable for further analysis or model training, and saves it to Google Drive.\n",
        "\n",
        "---\n",
        "\n",
        "### Key Steps\n",
        "\n",
        "1. **Library Installation and Imports**  \n",
        "   - Installs essential libraries such as `datasets` and `pandas`.\n",
        "   - Imports Python modules for file handling, data processing, and dataset loading.\n",
        "\n",
        "2. **Google Drive Integration**  \n",
        "   - Mounts Google Drive to the Colab environment.  \n",
        "   - Verifies the existence of the target directory at `/content/drive/MyDrive/new2`. If it does not exist, the directory is created.\n",
        "\n",
        "3. **Dataset Loading and Sampling**  \n",
        "   - Four datasets are loaded with the following intended sample sizes:\n",
        "     - Twitter Hate Speech Detection: 20,000 rows  \n",
        "     - Instagram Marketing: 15,000 rows  \n",
        "     - LinkedIn Social Media Instruction: 15,000 rows  \n",
        "     - Exorde Social Media Trends: 50,000 rows  \n",
        "   - The datasets are limited in size for performance and memory efficiency.\n",
        "\n",
        "4. **Data Cleaning and Column Handling**  \n",
        "   - Ensures all dictionary or list-type column values are converted to string to prevent type errors.\n",
        "   - Specifically sanitises the 'generated_text' and 'secondary_themes' columns, which are known to cause compatibility issues.\n",
        "\n",
        "5. **Combining and Validating the Final Dataset**  \n",
        "   - All datasets are concatenated into a single DataFrame.\n",
        "   - If the resulting dataset exceeds the target row count, a sample is taken to match the target. In this case, the dataset has fewer rows than expected, resulting in a warning.\n",
        "   - The script continues with the available data.\n",
        "\n",
        "6. **File Saving**  \n",
        "   - The combined dataset is saved as a CSV file at the following path:  \n",
        "     `/content/drive/MyDrive/new2/combined_social_media_dataset.csv`\n",
        "\n",
        "---\n",
        "\n",
        "### Output Overview\n",
        "\n",
        "- Google Drive mounted successfully.\n",
        "- All datasets loaded, although Instagram and LinkedIn contained fewer samples than intended.\n",
        "- The final dataset contains 71,189 rows.\n",
        "- The target of 100,000 rows was not met, and a warning was issued to indicate this.\n",
        "- The dataset was still saved successfully for future use.\n",
        "\n",
        "---\n",
        "\n",
        "### Conclusion\n",
        "This script sets up a reliable and reproducible pipeline for collecting and preparing multiple text-based datasets from Hugging Face. Although the target row count was not achieved due to limitations in two of the datasets, the resulting dataset is clean and consistent, and can be used for training or exploratory analysis.\n"
      ]
    },
    {
      "cell_type": "markdown",
      "metadata": {
        "id": "dC5-zpxAEa21"
      },
      "source": [
        "EDA"
      ]
    },
    {
      "cell_type": "code",
      "execution_count": null,
      "metadata": {
        "colab": {
          "base_uri": "https://localhost:8080/",
          "height": 1000
        },
        "id": "Ten9LDbaEagR",
        "outputId": "de030705-6385-4c21-f69e-ca383d358c74"
      },
      "outputs": [
        {
          "name": "stdout",
          "output_type": "stream",
          "text": [
            "Dataset loaded successfully from /content/drive/MyDrive/new2/combined_social_media_dataset.csv\n",
            "==== Dataset Info ====\n",
            "<class 'pandas.core.frame.DataFrame'>\n",
            "RangeIndex: 71189 entries, 0 to 71188\n",
            "Data columns (total 18 columns):\n",
            " #   Column            Non-Null Count  Dtype  \n",
            "---  ------            --------------  -----  \n",
            " 0   label             20000 non-null  float64\n",
            " 1   tweet             20000 non-null  object \n",
            " 2   instruction       689 non-null    object \n",
            " 3   input             689 non-null    object \n",
            " 4   response          689 non-null    object \n",
            " 5   keyword           500 non-null    object \n",
            " 6   topic             500 non-null    object \n",
            " 7   language          50500 non-null  object \n",
            " 8   generated_text    500 non-null    object \n",
            " 9   date              50000 non-null  object \n",
            " 10  original_text     50000 non-null  object \n",
            " 11  url               50000 non-null  object \n",
            " 12  author_hash       29364 non-null  object \n",
            " 13  primary_theme     49636 non-null  object \n",
            " 14  english_keywords  49088 non-null  object \n",
            " 15  sentiment         50000 non-null  float64\n",
            " 16  main_emotion      50000 non-null  object \n",
            " 17  secondary_themes  50000 non-null  object \n",
            "dtypes: float64(2), object(16)\n",
            "memory usage: 9.8+ MB\n",
            "\n",
            "==== First 5 Rows ====\n",
            "   label                                              tweet instruction input  \\\n",
            "0    0.0  @user when a father is dysfunctional and is so...         NaN   NaN   \n",
            "1    0.0  @user @user thanks for #lyft credit i can't us...         NaN   NaN   \n",
            "2    0.0                                bihday your majesty         NaN   NaN   \n",
            "3    0.0  #model   i love u take with u all the time in ...         NaN   NaN   \n",
            "4    0.0             factsguide: society now    #motivation         NaN   NaN   \n",
            "\n",
            "  response keyword topic language generated_text date original_text  url  \\\n",
            "0      NaN     NaN   NaN      NaN            NaN  NaN           NaN  NaN   \n",
            "1      NaN     NaN   NaN      NaN            NaN  NaN           NaN  NaN   \n",
            "2      NaN     NaN   NaN      NaN            NaN  NaN           NaN  NaN   \n",
            "3      NaN     NaN   NaN      NaN            NaN  NaN           NaN  NaN   \n",
            "4      NaN     NaN   NaN      NaN            NaN  NaN           NaN  NaN   \n",
            "\n",
            "  author_hash primary_theme english_keywords  sentiment main_emotion  \\\n",
            "0         NaN           NaN              NaN        NaN          NaN   \n",
            "1         NaN           NaN              NaN        NaN          NaN   \n",
            "2         NaN           NaN              NaN        NaN          NaN   \n",
            "3         NaN           NaN              NaN        NaN          NaN   \n",
            "4         NaN           NaN              NaN        NaN          NaN   \n",
            "\n",
            "  secondary_themes  \n",
            "0              NaN  \n",
            "1              NaN  \n",
            "2              NaN  \n",
            "3              NaN  \n",
            "4              NaN  \n",
            "\n",
            "==== Column Names ====\n",
            "['label', 'tweet', 'instruction', 'input', 'response', 'keyword', 'topic', 'language', 'generated_text', 'date', 'original_text', 'url', 'author_hash', 'primary_theme', 'english_keywords', 'sentiment', 'main_emotion', 'secondary_themes']\n",
            "\n",
            "==== Missing Values per Column ====\n",
            "label               51189\n",
            "tweet               51189\n",
            "instruction         70500\n",
            "input               70500\n",
            "response            70500\n",
            "keyword             70689\n",
            "topic               70689\n",
            "language            20689\n",
            "generated_text      70689\n",
            "date                21189\n",
            "original_text       21189\n",
            "url                 21189\n",
            "author_hash         41825\n",
            "primary_theme       21553\n",
            "english_keywords    22101\n",
            "sentiment           21189\n",
            "main_emotion        21189\n",
            "secondary_themes    21189\n",
            "dtype: int64\n",
            "\n",
            "==== Unique Values Count per Column ====\n",
            "label: 2 unique values\n",
            "tweet: 18704 unique values\n",
            "instruction: 481 unique values\n",
            "input: 689 unique values\n",
            "response: 689 unique values\n",
            "keyword: 181 unique values\n",
            "topic: 2 unique values\n",
            "language: 74 unique values\n",
            "generated_text: 499 unique values\n",
            "date: 499 unique values\n",
            "original_text: 48738 unique values\n",
            "url: 50000 unique values\n",
            "author_hash: 25615 unique values\n",
            "primary_theme: 15 unique values\n",
            "english_keywords: 47831 unique values\n",
            "sentiment: 243 unique values\n",
            "main_emotion: 26 unique values\n",
            "secondary_themes: 210 unique values\n",
            "\n",
            "==== Summary Statistics (Numeric & Categorical) ====\n",
            "               label                                              tweet  \\\n",
            "count   20000.000000                                              20000   \n",
            "unique           NaN                                              18704   \n",
            "top              NaN  #model   i love u take with u all the time in ...   \n",
            "freq             NaN                                                193   \n",
            "mean        0.069250                                                NaN   \n",
            "std         0.253885                                                NaN   \n",
            "min         0.000000                                                NaN   \n",
            "25%         0.000000                                                NaN   \n",
            "50%         0.000000                                                NaN   \n",
            "75%         0.000000                                                NaN   \n",
            "max         1.000000                                                NaN   \n",
            "\n",
            "                                              instruction  \\\n",
            "count                                                 689   \n",
            "unique                                                481   \n",
            "top     Design an email marketing campaign to nurture ...   \n",
            "freq                                                   28   \n",
            "mean                                                  NaN   \n",
            "std                                                   NaN   \n",
            "min                                                   NaN   \n",
            "25%                                                   NaN   \n",
            "50%                                                   NaN   \n",
            "75%                                                   NaN   \n",
            "max                                                   NaN   \n",
            "\n",
            "                                                    input  \\\n",
            "count                                                 689   \n",
            "unique                                                689   \n",
            "top     Company: OutfitHub, an e-commerce platform for...   \n",
            "freq                                                    1   \n",
            "mean                                                  NaN   \n",
            "std                                                   NaN   \n",
            "min                                                   NaN   \n",
            "25%                                                   NaN   \n",
            "50%                                                   NaN   \n",
            "75%                                                   NaN   \n",
            "max                                                   NaN   \n",
            "\n",
            "                                                 response  \\\n",
            "count                                                 689   \n",
            "unique                                                689   \n",
            "top     \"Gear Up for Adventure\" email campaign, featur...   \n",
            "freq                                                    1   \n",
            "mean                                                  NaN   \n",
            "std                                                   NaN   \n",
            "min                                                   NaN   \n",
            "25%                                                   NaN   \n",
            "50%                                                   NaN   \n",
            "75%                                                   NaN   \n",
            "max                                                   NaN   \n",
            "\n",
            "                     keyword         topic language  \\\n",
            "count                    500           500    50500   \n",
            "unique                   181             2       74   \n",
            "top     social media success  Social Media       en   \n",
            "freq                      18           499    36822   \n",
            "mean                     NaN           NaN      NaN   \n",
            "std                      NaN           NaN      NaN   \n",
            "min                      NaN           NaN      NaN   \n",
            "25%                      NaN           NaN      NaN   \n",
            "50%                      NaN           NaN      NaN   \n",
            "75%                      NaN           NaN      NaN   \n",
            "max                      NaN           NaN      NaN   \n",
            "\n",
            "                                           generated_text  \\\n",
            "count                                                 500   \n",
            "unique                                                499   \n",
            "top     {'messages': [{'content': 'You are a social me...   \n",
            "freq                                                    2   \n",
            "mean                                                  NaN   \n",
            "std                                                   NaN   \n",
            "min                                                   NaN   \n",
            "25%                                                   NaN   \n",
            "50%                                                   NaN   \n",
            "75%                                                   NaN   \n",
            "max                                                   NaN   \n",
            "\n",
            "                            date  \\\n",
            "count                      50000   \n",
            "unique                       499   \n",
            "top     2024-12-01T00:00:00.000Z   \n",
            "freq                         394   \n",
            "mean                         NaN   \n",
            "std                          NaN   \n",
            "min                          NaN   \n",
            "25%                          NaN   \n",
            "50%                          NaN   \n",
            "75%                          NaN   \n",
            "max                          NaN   \n",
            "\n",
            "                                            original_text  \\\n",
            "count                                               50000   \n",
            "unique                                              48738   \n",
            "top     私が #イオンブラックフライデー で気になる商品は『野菜たっぷり #ポテトサラダ 』期間中\\...   \n",
            "freq                                                   21   \n",
            "mean                                                  NaN   \n",
            "std                                                   NaN   \n",
            "min                                                   NaN   \n",
            "25%                                                   NaN   \n",
            "50%                                                   NaN   \n",
            "75%                                                   NaN   \n",
            "max                                                   NaN   \n",
            "\n",
            "                                                      url  \\\n",
            "count                                               50000   \n",
            "unique                                              50000   \n",
            "top     https://www.reddit.com/r/pitbulls/comments/1h3...   \n",
            "freq                                                    1   \n",
            "mean                                                  NaN   \n",
            "std                                                   NaN   \n",
            "min                                                   NaN   \n",
            "25%                                                   NaN   \n",
            "50%                                                   NaN   \n",
            "75%                                                   NaN   \n",
            "max                                                   NaN   \n",
            "\n",
            "                                     author_hash  primary_theme  \\\n",
            "count                                      29364          49636   \n",
            "unique                                     25615             15   \n",
            "top     0a92fab3230134cca6eadd9898325b9b2ae67998  Entertainment   \n",
            "freq                                         330          10347   \n",
            "mean                                         NaN            NaN   \n",
            "std                                          NaN            NaN   \n",
            "min                                          NaN            NaN   \n",
            "25%                                          NaN            NaN   \n",
            "50%                                          NaN            NaN   \n",
            "75%                                          NaN            NaN   \n",
            "max                                          NaN            NaN   \n",
            "\n",
            "       english_keywords     sentiment main_emotion secondary_themes  \n",
            "count             49088  50000.000000        50000            50000  \n",
            "unique            47831           NaN           26              210  \n",
            "top                 yes           NaN      neutral       [3, 14, 7]  \n",
            "freq                 57           NaN        29674             3802  \n",
            "mean                NaN      0.046966          NaN              NaN  \n",
            "std                 NaN      0.409922          NaN              NaN  \n",
            "min                 NaN     -0.960000          NaN              NaN  \n",
            "25%                 NaN     -0.230000          NaN              NaN  \n",
            "50%                 NaN      0.060000          NaN              NaN  \n",
            "75%                 NaN      0.320000          NaN              NaN  \n",
            "max                 NaN      0.970000          NaN              NaN  \n"
          ]
        },
        {
          "data": {
            "image/png": "[encoded data removed]",
            "text/plain": [
              "<Figure size 1500x1000 with 2 Axes>"
            ]
          },
          "metadata": {},
          "output_type": "display_data"
        },
        {
          "name": "stdout",
          "output_type": "stream",
          "text": [
            "Skipping plot for 'tweet' (unique count: 18704)\n",
            "Skipping plot for 'instruction' (unique count: 481)\n",
            "Skipping plot for 'input' (unique count: 689)\n",
            "Skipping plot for 'response' (unique count: 689)\n",
            "Skipping plot for 'keyword' (unique count: 181)\n"
          ]
        },
        {
          "name": "stderr",
          "output_type": "stream",
          "text": [
            "<ipython-input-2-65a5937e8af3>:90: FutureWarning: \n",
            "\n",
            "Passing `palette` without assigning `hue` is deprecated and will be removed in v0.14.0. Assign the `y` variable to `hue` and set `legend=False` for the same effect.\n",
            "\n",
            "  sns.countplot(data=dataframe, y=col, order=order, palette=\"viridis\")\n"
          ]
        },
        {
          "data": {
            "image/png": "[encoded data removed]",
            "text/plain": [
              "<Figure size 1000x400 with 1 Axes>"
            ]
          },
          "metadata": {},
          "output_type": "display_data"
        },
        {
          "name": "stdout",
          "output_type": "stream",
          "text": [
            "Skipping plot for 'language' (unique count: 74)\n",
            "Skipping plot for 'generated_text' (unique count: 499)\n",
            "Skipping plot for 'date' (unique count: 499)\n",
            "Skipping plot for 'original_text' (unique count: 48738)\n",
            "Skipping plot for 'url' (unique count: 50000)\n",
            "Skipping plot for 'author_hash' (unique count: 25615)\n"
          ]
        },
        {
          "name": "stderr",
          "output_type": "stream",
          "text": [
            "<ipython-input-2-65a5937e8af3>:90: FutureWarning: \n",
            "\n",
            "Passing `palette` without assigning `hue` is deprecated and will be removed in v0.14.0. Assign the `y` variable to `hue` and set `legend=False` for the same effect.\n",
            "\n",
            "  sns.countplot(data=dataframe, y=col, order=order, palette=\"viridis\")\n"
          ]
        },
        {
          "data": {
            "image/png": "[encoded data removed]",
            "text/plain": [
              "<Figure size 1000x400 with 1 Axes>"
            ]
          },
          "metadata": {},
          "output_type": "display_data"
        },
        {
          "name": "stdout",
          "output_type": "stream",
          "text": [
            "Skipping plot for 'english_keywords' (unique count: 47831)\n"
          ]
        },
        {
          "name": "stderr",
          "output_type": "stream",
          "text": [
            "<ipython-input-2-65a5937e8af3>:90: FutureWarning: \n",
            "\n",
            "Passing `palette` without assigning `hue` is deprecated and will be removed in v0.14.0. Assign the `y` variable to `hue` and set `legend=False` for the same effect.\n",
            "\n",
            "  sns.countplot(data=dataframe, y=col, order=order, palette=\"viridis\")\n"
          ]
        },
        {
          "data": {
            "image/png": "[encoded data removed]",
            "text/plain": [
              "<Figure size 1000x400 with 1 Axes>"
            ]
          },
          "metadata": {},
          "output_type": "display_data"
        },
        {
          "name": "stdout",
          "output_type": "stream",
          "text": [
            "Skipping plot for 'secondary_themes' (unique count: 210)\n"
          ]
        },
        {
          "data": {
            "image/png": "[encoded data removed]",
            "text/plain": [
              "<Figure size 1000x800 with 2 Axes>"
            ]
          },
          "metadata": {},
          "output_type": "display_data"
        },
        {
          "data": {
            "image/png": "[encoded data removed]",
            "text/plain": [
              "<Figure size 800x400 with 1 Axes>"
            ]
          },
          "metadata": {},
          "output_type": "display_data"
        },
        {
          "data": {
            "image/png": "[encoded data removed]",
            "text/plain": [
              "<Figure size 800x400 with 1 Axes>"
            ]
          },
          "metadata": {},
          "output_type": "display_data"
        }
      ],
      "source": [
        "import pandas as pd\n",
        "import numpy as np\n",
        "import matplotlib.pyplot as plt\n",
        "import seaborn as sns\n",
        "\n",
        "def load_csv_dataset(file_path: str) -> pd.DataFrame:\n",
        "    \"\"\"\n",
        "    Loads a CSV dataset from the specified file path with low_memory set to False\n",
        "    to avoid type inference issues. Raises an error if the file cannot be loaded.\n",
        "\n",
        "    Args:\n",
        "        file_path (str): The path to the CSV file.\n",
        "\n",
        "    Returns:\n",
        "        pd.DataFrame: Loaded DataFrame.\n",
        "    \"\"\"\n",
        "    try:\n",
        "        df = pd.read_csv(file_path, low_memory=False)\n",
        "        print(f\"Dataset loaded successfully from {file_path}\")\n",
        "        return df\n",
        "    except Exception as error:\n",
        "        print(f\"Error loading dataset from {file_path}: {error}\")\n",
        "        raise\n",
        "\n",
        "def print_basic_info(dataframe: pd.DataFrame) -> None:\n",
        "    \"\"\"\n",
        "    Prints basic information about the DataFrame including its structure,\n",
        "    the first 5 rows, column names, missing values per column, and unique value counts.\n",
        "\n",
        "    Args:\n",
        "        dataframe (pd.DataFrame): The DataFrame to be inspected.\n",
        "    \"\"\"\n",
        "    print(\"==== Dataset Info ====\")\n",
        "    dataframe.info()\n",
        "\n",
        "    print(\"\\n==== First 5 Rows ====\")\n",
        "    print(dataframe.head())\n",
        "\n",
        "    print(\"\\n==== Column Names ====\")\n",
        "    print(list(dataframe.columns))\n",
        "\n",
        "    print(\"\\n==== Missing Values per Column ====\")\n",
        "    missing_values = dataframe.isnull().sum()\n",
        "    print(missing_values)\n",
        "\n",
        "    print(\"\\n==== Unique Values Count per Column ====\")\n",
        "    for col in dataframe.columns:\n",
        "        unique_count = dataframe[col].nunique()\n",
        "        print(f\"{col}: {unique_count} unique values\")\n",
        "\n",
        "def print_summary_statistics(dataframe: pd.DataFrame) -> None:\n",
        "    \"\"\"\n",
        "    Prints the summary statistics for both numeric and categorical columns.\n",
        "\n",
        "    Args:\n",
        "        dataframe (pd.DataFrame): The DataFrame for which to print statistics.\n",
        "    \"\"\"\n",
        "    print(\"\\n==== Summary Statistics (Numeric & Categorical) ====\")\n",
        "    print(dataframe.describe(include='all'))\n",
        "\n",
        "def plot_numeric_histograms(dataframe: pd.DataFrame) -> None:\n",
        "    \"\"\"\n",
        "    Plots histograms for numeric columns within the DataFrame.\n",
        "\n",
        "    Args:\n",
        "        dataframe (pd.DataFrame): The DataFrame containing numeric data.\n",
        "    \"\"\"\n",
        "    numeric_columns = dataframe.select_dtypes(include=['number']).columns\n",
        "    if len(numeric_columns) > 0:\n",
        "        dataframe[numeric_columns].hist(figsize=(15, 10), bins=30, edgecolor='black')\n",
        "        plt.suptitle(\"Histograms of Numeric Columns\")\n",
        "        plt.tight_layout()\n",
        "        plt.show()\n",
        "    else:\n",
        "        print(\"No numeric columns to display.\")\n",
        "\n",
        "def plot_categorical_value_counts(dataframe: pd.DataFrame) -> None:\n",
        "    \"\"\"\n",
        "    Plots count plots for categorical columns if the unique value count is 50 or fewer.\n",
        "\n",
        "    Args:\n",
        "        dataframe (pd.DataFrame): The DataFrame containing categorical data.\n",
        "    \"\"\"\n",
        "    categorical_columns = dataframe.select_dtypes(include=['object']).columns\n",
        "    for col in categorical_columns:\n",
        "        unique_count = dataframe[col].nunique()\n",
        "        if unique_count <= 50:\n",
        "            plt.figure(figsize=(10, 4))\n",
        "            order = dataframe[col].value_counts().index\n",
        "            sns.countplot(data=dataframe, y=col, order=order, palette=\"viridis\")\n",
        "            plt.title(f\"Value Counts for '{col}'\")\n",
        "            plt.xlabel(\"Count\")\n",
        "            plt.ylabel(col)\n",
        "            plt.tight_layout()\n",
        "            plt.show()\n",
        "        else:\n",
        "            print(f\"Skipping plot for '{col}' (unique count: {unique_count})\")\n",
        "\n",
        "def plot_correlation_heatmap(dataframe: pd.DataFrame) -> None:\n",
        "    \"\"\"\n",
        "    Plots a correlation heatmap of numeric columns if there are at least two.\n",
        "\n",
        "    Args:\n",
        "        dataframe (pd.DataFrame): The DataFrame containing numeric data.\n",
        "    \"\"\"\n",
        "    numeric_columns = dataframe.select_dtypes(include=['number']).columns\n",
        "    if len(numeric_columns) > 1:\n",
        "        plt.figure(figsize=(10, 8))\n",
        "        correlation_matrix = dataframe[numeric_columns].corr()\n",
        "        sns.heatmap(correlation_matrix, annot=True, cmap=\"coolwarm\", linewidths=0.5)\n",
        "        plt.title(\"Correlation Heatmap of Numeric Columns\")\n",
        "        plt.tight_layout()\n",
        "        plt.show()\n",
        "    else:\n",
        "        print(\"Not enough numeric columns to plot a correlation heatmap.\")\n",
        "\n",
        "def plot_numeric_boxplots(dataframe: pd.DataFrame) -> None:\n",
        "    \"\"\"\n",
        "    Creates and displays boxplots for each numeric column to provide insights into\n",
        "    the distribution and potential outliers.\n",
        "\n",
        "    Args:\n",
        "        dataframe (pd.DataFrame): The DataFrame containing numeric data.\n",
        "    \"\"\"\n",
        "    numeric_columns = dataframe.select_dtypes(include=['number']).columns\n",
        "    for col in numeric_columns:\n",
        "        plt.figure(figsize=(8, 4))\n",
        "        sns.boxplot(x=dataframe[col])\n",
        "        plt.title(f\"Boxplot of '{col}'\")\n",
        "        plt.tight_layout()\n",
        "        plt.show()\n",
        "\n",
        "def main():\n",
        "    \"\"\"\n",
        "    Main function that orchestrates the analysis pipeline:\n",
        "      1. Loads the dataset from the specified CSV file.\n",
        "      2. Displays basic dataset information and structure.\n",
        "      3. Shows summary statistics.\n",
        "      4. Plots visualizations for numeric and categorical columns.\n",
        "      5. Provides additional insights with correlation heatmaps and boxplots.\n",
        "    \"\"\"\n",
        "    # Define the file path for the combined dataset\n",
        "    file_path = \"/content/drive/MyDrive/new2/combined_social_media_dataset.csv\"\n",
        "\n",
        "    # Load the dataset from the CSV file\n",
        "    dataframe = load_csv_dataset(file_path)\n",
        "\n",
        "    # Display basic dataset information and structure\n",
        "    print_basic_info(dataframe)\n",
        "\n",
        "    # Print summary statistics for the dataset\n",
        "    print_summary_statistics(dataframe)\n",
        "\n",
        "    # Visualize numeric columns using histograms\n",
        "    plot_numeric_histograms(dataframe)\n",
        "\n",
        "    # Visualize categorical columns with count plots where applicable\n",
        "    plot_categorical_value_counts(dataframe)\n",
        "\n",
        "    # Additional insights: correlation heatmap for numeric columns\n",
        "    plot_correlation_heatmap(dataframe)\n",
        "\n",
        "    # Additional insights: boxplots for numeric columns\n",
        "    plot_numeric_boxplots(dataframe)\n",
        "\n",
        "if __name__ == \"__main__\":\n",
        "    main()\n"
      ]
    },
    {
      "cell_type": "markdown",
      "metadata": {
        "id": "Ufenj4fja74u"
      },
      "source": [
        "### Dataset Exploration Summary\n",
        "\n",
        "#### Code Overview:\n",
        "This notebook performs exploratory data analysis (EDA) on the merged social media dataset `combined_social_media_dataset.csv`. The process includes:\n",
        "\n",
        "- Loading and verifying dataset structure.\n",
        "- Displaying summary statistics and identifying missing values.\n",
        "- Visualizing numeric distributions (histograms, boxplots).\n",
        "- Plotting categorical value counts (only for low-cardinality fields).\n",
        "- Generating a correlation heatmap for numeric features.\n",
        "\n",
        "#### Output Interpretation:\n",
        "\n",
        "1. **Dataset Info**:\n",
        "   - Total rows: 71,189\n",
        "   - Columns: 18\n",
        "   - Notably, only ~20,000 rows contain valid values in critical fields like `label` and `tweet`.\n",
        "\n",
        "2. **Missing Value Summary**:\n",
        "   - `label`, `tweet`: ~51,000 missing.\n",
        "   - `instruction`, `input`, `response`: ~70,500 missing.\n",
        "   - `primary_theme`, `main_emotion`, `sentiment`: ~21,000 missing.\n",
        "   - Indicates heavy sparsity requiring preprocessing.\n",
        "\n",
        "3. **Histogram Insights**:\n",
        "   - `label`: Extremely imbalanced (most values are 0).\n",
        "   - `sentiment`: Roughly normal distribution centered around 0 (neutral), with some spread in both directions.\n",
        "\n",
        "4. **Categorical Distributions**:\n",
        "   - `topic`: Contains only two variations of \"Social Media\" with inconsistent casing.\n",
        "   - `primary_theme`: Dominated by \"Entertainment\", followed by \"People\", \"Sports\", and \"Technology\".\n",
        "   - `main_emotion`: Strong dominance of \"neutral\", indicating limited emotional variability.\n",
        "\n",
        "5. **Correlation Heatmap**:\n",
        "   - With only two numeric columns, the heatmap provides limited insights.\n",
        "   - No notable linear correlation between `label` and `sentiment`.\n",
        "\n",
        "6. **Boxplot for `sentiment`**:\n",
        "   - Symmetrical distribution without strong outliers.\n",
        "   - Confirms the sentiment variable has a wide but balanced spread.\n",
        "\n",
        "7. **Warnings and Skipped Plots**:\n",
        "   - Columns with more than 50 unique values were excluded from categorical plots.\n",
        "   - Examples: `tweet`, `url`, `generated_text`, `language`, `author_hash`.\n",
        "\n",
        "#### Conclusion:\n",
        "The dataset suffers from substantial missing data and class imbalance. Preprocessing steps like imputation, deduplication, and label standardization are essential before applying any predictive modeling or statistical inference.\n"
      ]
    },
    {
      "cell_type": "code",
      "execution_count": null,
      "metadata": {
        "colab": {
          "base_uri": "https://localhost:8080/",
          "height": 1000
        },
        "id": "rAn0bOY0E5bw",
        "outputId": "4a54422d-b871-47c5-8c9e-f5cd97da5b6b"
      },
      "outputs": [
        {
          "name": "stdout",
          "output_type": "stream",
          "text": [
            "Mounted at /content/drive\n",
            "\n",
            "Initial Dataset Information:\n",
            "<class 'pandas.core.frame.DataFrame'>\n",
            "RangeIndex: 71189 entries, 0 to 71188\n",
            "Data columns (total 18 columns):\n",
            " #   Column            Non-Null Count  Dtype  \n",
            "---  ------            --------------  -----  \n",
            " 0   label             20000 non-null  float64\n",
            " 1   tweet             20000 non-null  object \n",
            " 2   instruction       689 non-null    object \n",
            " 3   input             689 non-null    object \n",
            " 4   response          689 non-null    object \n",
            " 5   keyword           500 non-null    object \n",
            " 6   topic             500 non-null    object \n",
            " 7   language          50500 non-null  object \n",
            " 8   generated_text    500 non-null    object \n",
            " 9   date              50000 non-null  object \n",
            " 10  original_text     50000 non-null  object \n",
            " 11  url               50000 non-null  object \n",
            " 12  author_hash       29364 non-null  object \n",
            " 13  primary_theme     49636 non-null  object \n",
            " 14  english_keywords  49088 non-null  object \n",
            " 15  sentiment         50000 non-null  float64\n",
            " 16  main_emotion      50000 non-null  object \n",
            " 17  secondary_themes  50000 non-null  object \n",
            "dtypes: float64(2), object(16)\n",
            "memory usage: 9.8+ MB\n",
            "\n",
            "Duplicate Rows Found: 1297\n",
            "Created 'unified_text' column using 'original_text' (fallback: 'tweet').\n",
            "Number of unique 'unified_text' values: 48375\n",
            "Top 5 frequent texts:\n",
            "unified_text\n",
            "私が #イオンブラックフライデー で気になる商品は『野菜たっぷり #ポテトサラダ 』期間中\\n@AEON_JAPAN\\nをフォローしてボタンから選んでポストすると後日抽選で20名さまにイオンギフトカード5,000円分が当たる！イオンブラックフライデーは12/1(日)まで https://chirashi.otoku.aeonsquare.net/blackfriday/                                                                                                                                                                                                                                                                                                                                                                                                                                                                                                                                                                                                                                                                                                                                                                                                                                                                                                                                                                                                                                                                                                                                                                                                                                                                                                                                                                    21\n",
            "Yes                                                                                                                                                                                                                                                                                                                                                                                                                                                                                                                                                                                                                                                                                                                                                                                                                                                                                                                                                                                                                                                                                                                                                                                                                                                                                                                                                                                                                                                                                                                                                           17\n",
            "                                                                                                                                                                                                                                                                                                                                                                                                                                                                                                                                                                                                                                                                                                                                                                                                                                                                                                                                                                                                                                                                                                                                                                                                                                                                                                                                                                                                                                                                                                                                                              16\n",
            "Grayson James threw for a pair of second-half touchdowns and six passes of at least 25 yards as Boston College defeated Pitt 34-23 in Saturday's Atlantic Coast Conference action at Chestnut Hill, Mass. James finished 20-of-28 for 253 yards, helping the Eagles (7-5, 4-4 ACC) to their second straight and third win in four games. He connected with Reed Harris (three receptions, 85 yards) and Kamari Morales for scores, with the former scoring for the second week in a row. Jordan McDonald and Kye Robichaux rushed into the end zone to help the Eagles open up a 13-0 lead that they would never relinquish, reaching the seven-win mark in the regular season for the first time since 2018. Despite Nate Yarnell throwing for 296 yards and three touchdowns in place of injured starter Eli Holstein, Pitt (7-5, 3-5) suffered its fifth consecutive loss since a 7-0 start. Gavin Bartholomew caught Yarnell's first two touchdowns before Konata Mumpfield finished a 144-yard day on eight receptions with one of his own. Boston College sacked Yarnell six times. Standout defensive end Donovan Ezeiruaku had 10 total tackles (4 1/2 for loss) and 3 1/2 sacks. After Pitt closed within 20-17, James hit Jeremiah Franklin on a third-and-10 scramble to continue a key eight-play, 83-yard scoring drive that Harris finalized on a 28-yard jump-ball in the front corner of the end zone with 2:33 left in the third quarter. Pitt's fumbled snap on 4th-and-2 turned the ball back to James, whose 15-yard dot to Morales...    11\n",
            "My Twitter Interaction Circle\\n\\n https://infinityweet.me/interaction-circle…                                                                                                                                                                                                                                                                                                                                                                                                                                                                                                                                                                                                                                                                                                                                                                                                                                                                                                                                                                                                                                                                                                                                                                                                                                                                                                                                                                                                                                                                                 11\n",
            "Name: count, dtype: int64\n",
            "Computed 'text_length' (word count).\n",
            "Computed 'text_length_norm' via min–max normalization.\n",
            "Set 'sentiment_numeric' using the existing 'sentiment' values.\n",
            "Computed 'estimated_engagement_score'.\n",
            "\n",
            "Ranges after feature engineering:\n",
            "text_length_norm: 0.0 to 1.0\n",
            "sentiment_numeric: -0.96 to 0.97\n",
            "estimated_engagement_score: -0.2755 to 0.9025\n",
            "Removed duplicates; dataset now has 49636 rows.\n",
            "\n",
            "Grouped rare primary_theme values. New 'primary_theme' distribution:\n",
            "primary_theme\n",
            "Other            15811\n",
            "Entertainment    10347\n",
            "People            7944\n",
            "Sports            5418\n",
            "Technology        5065\n",
            "Politics          5051\n",
            "Name: count, dtype: int64\n",
            "\n",
            "Final Feature Selection Complete!\n",
            "Final Features Selected: ['unified_text', 'sentiment_numeric', 'text_length_norm', 'primary_theme', 'estimated_engagement_score']\n",
            "\n",
            "Original 'primary_theme' Distribution:\n",
            "primary_theme\n",
            "Other            15811\n",
            "Entertainment    10347\n",
            "People            7944\n",
            "Sports            5418\n",
            "Technology        5065\n",
            "Politics          5051\n",
            "Name: count, dtype: int64\n",
            "\n",
            "Target sample size per primary_theme: 6681\n",
            "\n",
            "Distribution-Based Balancing Complete!\n",
            "New 'primary_theme' Distribution:\n",
            "primary_theme\n",
            "Politics         6681\n",
            "Technology       6681\n",
            "People           6681\n",
            "Other            6681\n",
            "Sports           6681\n",
            "Entertainment    6681\n",
            "Name: count, dtype: int64\n",
            "\n",
            "Final Balanced Dataset saved at: /content/drive/MyDrive/new2/final_balanced_dataset2.csv\n",
            "Final Dataset Size: 40086 rows\n",
            "\n",
            "Final Dataset Summary Statistics:\n",
            "       sentiment_numeric  text_length_norm  estimated_engagement_score\n",
            "count        40086.00000      40086.000000                40086.000000\n",
            "mean             0.03018          0.057789                    0.049506\n",
            "std              0.41358          0.069034                    0.128891\n",
            "min             -0.95000          0.000000                   -0.275500\n",
            "25%             -0.26000          0.020000                   -0.037250\n",
            "50%              0.04000          0.040000                    0.041500\n",
            "75%              0.30000          0.077500                    0.131000\n",
            "max              0.97000          1.000000                    0.778000\n"
          ]
        },
        {
          "data": {
            "image/png": "[encoded data removed]",
            "text/plain": [
              "<Figure size 1600x400 with 3 Axes>"
            ]
          },
          "metadata": {},
          "output_type": "display_data"
        }
      ],
      "source": [
        "# Step 0: Install Required Libraries (if missing)\n",
        "!pip install pandas numpy seaborn scikit-learn -q\n",
        "\n",
        "# Step 1: Import Libraries & Mount Google Drive (if needed)\n",
        "import os\n",
        "import numpy as np\n",
        "import pandas as pd\n",
        "import seaborn as sns\n",
        "import matplotlib.pyplot as plt\n",
        "from sklearn.utils import resample\n",
        "from google.colab import drive\n",
        "\n",
        "# Define file paths for input and final output\n",
        "COMBINED_FILE_PATH = \"/content/drive/MyDrive/new2/combined_social_media_dataset.csv\"\n",
        "FINAL_FILE_PATH = \"/content/drive/MyDrive/new2/final_balanced_dataset2.csv\"\n",
        "\n",
        "def load_and_clean_dataset(file_path: str) -> pd.DataFrame:\n",
        "    \"\"\"\n",
        "    Load the combined dataset from CSV and perform basic cleaning:\n",
        "      - Display dataset information.\n",
        "      - Remove duplicate rows.\n",
        "      - Drop rows missing critical values for 'sentiment', 'primary_theme', and 'original_text'.\n",
        "      - For object columns, fill missing values with an empty string.\n",
        "      - Optionally, standardize the date format if a 'date' column exists.\n",
        "\n",
        "    Args:\n",
        "        file_path (str): Path to the CSV file.\n",
        "\n",
        "    Returns:\n",
        "        pd.DataFrame: Cleaned DataFrame.\n",
        "    \"\"\"\n",
        "    df = pd.read_csv(file_path, low_memory=False)\n",
        "    print(\"\\nInitial Dataset Information:\")\n",
        "    df.info()\n",
        "\n",
        "    # Remove duplicate rows and report the count\n",
        "    duplicate_count = df.duplicated().sum()\n",
        "    print(f\"\\nDuplicate Rows Found: {duplicate_count}\")\n",
        "    df = df.drop_duplicates()\n",
        "\n",
        "    # Drop rows missing critical columns required for processing\n",
        "    df = df.dropna(subset=['sentiment', 'primary_theme', 'original_text'])\n",
        "\n",
        "    # For all object columns, fill missing values with an empty string\n",
        "    object_cols = df.select_dtypes(include=['object']).columns\n",
        "    df[object_cols] = df[object_cols].fillna(\"\")\n",
        "\n",
        "    # Optional: Standardize date format if the 'date' column is present\n",
        "    if 'date' in df.columns:\n",
        "        df['date'] = pd.to_datetime(df['date'], errors='coerce')\n",
        "\n",
        "    return df\n",
        "\n",
        "def create_unified_text_column(df: pd.DataFrame) -> pd.DataFrame:\n",
        "    \"\"\"\n",
        "    Create a unified text column named 'unified_text'. Uses 'original_text' as the primary source,\n",
        "    with a fallback to 'tweet' if necessary.\n",
        "\n",
        "    Args:\n",
        "        df (pd.DataFrame): DataFrame containing text columns.\n",
        "\n",
        "    Returns:\n",
        "        pd.DataFrame: Updated DataFrame with the new 'unified_text' column.\n",
        "    \"\"\"\n",
        "    if 'original_text' in df.columns:\n",
        "        df['unified_text'] = df['original_text'].fillna(df['tweet'])\n",
        "        print(\"Created 'unified_text' column using 'original_text' (fallback: 'tweet').\")\n",
        "    else:\n",
        "        df['unified_text'] = df['tweet'].fillna(\"\")\n",
        "        print(\"Warning: 'original_text' column not found. Using 'tweet' for 'unified_text'.\")\n",
        "\n",
        "    # Diagnostic output: unique count and top frequent texts\n",
        "    unique_count = df['unified_text'].nunique()\n",
        "    print(f\"Number of unique 'unified_text' values: {unique_count}\")\n",
        "    print(\"Top 5 frequent texts:\")\n",
        "    print(df['unified_text'].value_counts().head(5))\n",
        "\n",
        "    return df\n",
        "\n",
        "def engineer_features(df: pd.DataFrame) -> pd.DataFrame:\n",
        "    \"\"\"\n",
        "    Create new features for the dataset including:\n",
        "      - 'text_length': word count of 'unified_text'.\n",
        "      - 'text_length_norm': min–max normalized text length.\n",
        "      - 'sentiment_numeric': numeric copy of sentiment values.\n",
        "      - 'estimated_engagement_score': 70% contribution from normalized text length and 30% from sentiment.\n",
        "\n",
        "    Args:\n",
        "        df (pd.DataFrame): Input DataFrame.\n",
        "\n",
        "    Returns:\n",
        "        pd.DataFrame: DataFrame with engineered features and diagnostic prints.\n",
        "    \"\"\"\n",
        "    # Compute text length (word count) based on the 'unified_text' column\n",
        "    df['text_length'] = df['unified_text'].apply(lambda x: len(str(x).split()))\n",
        "    print(\"Computed 'text_length' (word count).\")\n",
        "\n",
        "    # Min-max normalization for text length with handling for constant values\n",
        "    min_length = df['text_length'].min()\n",
        "    max_length = df['text_length'].max()\n",
        "\n",
        "    if max_length == min_length:\n",
        "        df['text_length_norm'] = 1.0  # Avoid division by zero if no variation exists\n",
        "        print(\"All text lengths are identical. 'text_length_norm' set to constant 1.0.\")\n",
        "    else:\n",
        "        df['text_length_norm'] = (df['text_length'] - min_length) / (max_length - min_length)\n",
        "        print(\"Computed 'text_length_norm' via min–max normalization.\")\n",
        "\n",
        "    # Set sentiment_numeric based on the existing 'sentiment' column\n",
        "    df['sentiment_numeric'] = df['sentiment']\n",
        "    print(\"Set 'sentiment_numeric' using the existing 'sentiment' values.\")\n",
        "\n",
        "    # Calculate estimated engagement score with weighted contributions\n",
        "    df['estimated_engagement_score'] = (0.7 * df['text_length_norm']) + (0.3 * df['sentiment_numeric'])\n",
        "    print(\"Computed 'estimated_engagement_score'.\")\n",
        "\n",
        "    # Output diagnostic ranges for the engineered features\n",
        "    print(\"\\nRanges after feature engineering:\")\n",
        "    print(\"text_length_norm:\", df['text_length_norm'].min(), \"to\", df['text_length_norm'].max())\n",
        "    print(\"sentiment_numeric:\", df['sentiment_numeric'].min(), \"to\", df['sentiment_numeric'].max())\n",
        "    print(\"estimated_engagement_score:\", df['estimated_engagement_score'].min(), \"to\",\n",
        "          df['estimated_engagement_score'].max())\n",
        "\n",
        "    return df\n",
        "\n",
        "def additional_cleaning(df: pd.DataFrame) -> pd.DataFrame:\n",
        "    \"\"\"\n",
        "    Perform additional cleaning including:\n",
        "      - Removing any remaining duplicate rows.\n",
        "      - Grouping rare primary_theme values (frequency less than 5000) into 'Other'.\n",
        "\n",
        "    Args:\n",
        "        df (pd.DataFrame): DataFrame with engineered features.\n",
        "\n",
        "    Returns:\n",
        "        pd.DataFrame: Cleaned DataFrame with updated primary_theme.\n",
        "    \"\"\"\n",
        "    # Remove any remaining duplicates\n",
        "    df = df.drop_duplicates()\n",
        "    print(f\"Removed duplicates; dataset now has {df.shape[0]} rows.\")\n",
        "\n",
        "    # Group rare primary_theme values into 'Other'\n",
        "    theme_counts = df['primary_theme'].value_counts()\n",
        "    rare_themes = theme_counts[theme_counts < 5000].index\n",
        "    df['primary_theme'] = df['primary_theme'].apply(lambda x: 'Other' if x in rare_themes else x)\n",
        "    df['primary_theme'] = df['primary_theme'].fillna(\"Other\")\n",
        "\n",
        "    print(\"\\nGrouped rare primary_theme values. New 'primary_theme' distribution:\")\n",
        "    print(df['primary_theme'].value_counts())\n",
        "\n",
        "    return df\n",
        "\n",
        "def select_final_features(df: pd.DataFrame) -> pd.DataFrame:\n",
        "    \"\"\"\n",
        "    Select the final set of features for the dataset.\n",
        "\n",
        "    Args:\n",
        "        df (pd.DataFrame): Fully cleaned DataFrame.\n",
        "\n",
        "    Returns:\n",
        "        pd.DataFrame: DataFrame containing only the selected features.\n",
        "    \"\"\"\n",
        "    final_features = ['unified_text', 'sentiment_numeric', 'text_length_norm',\n",
        "                      'primary_theme', 'estimated_engagement_score']\n",
        "    df_final = df[final_features].copy()\n",
        "    print(\"\\nFinal Feature Selection Complete!\")\n",
        "    print(\"Final Features Selected:\", final_features)\n",
        "    return df_final\n",
        "\n",
        "def distribution_based_sampling(theme_df: pd.DataFrame, numeric_cols: list, sample_size: int, bins: int = 10, random_state: int = 42) -> pd.DataFrame:\n",
        "    \"\"\"\n",
        "    Perform distribution-based sampling on a subset of data corresponding to a specific theme.\n",
        "    The function preserves the distribution of specified numeric columns using multidimensional binning.\n",
        "\n",
        "    Args:\n",
        "        theme_df (pd.DataFrame): Subset of the dataset for one primary_theme.\n",
        "        numeric_cols (list): List of numeric column names to use for distribution preservation.\n",
        "        sample_size (int): Target sample size for the given theme.\n",
        "        bins (int): Number of bins for each numeric dimension.\n",
        "        random_state (int): Random seed for reproducibility.\n",
        "\n",
        "    Returns:\n",
        "        pd.DataFrame: Sampled subset with size close to sample_size.\n",
        "    \"\"\"\n",
        "    # Create a multidimensional histogram for the numeric columns\n",
        "    data_array = theme_df[numeric_cols].values\n",
        "    hist, edges = np.histogramdd(data_array, bins=bins)\n",
        "\n",
        "    # Determine bin indices for each row\n",
        "    bin_indices = np.stack([\n",
        "        np.digitize(theme_df[col], edges[i]) - 1 for i, col in enumerate(numeric_cols)\n",
        "    ], axis=1)\n",
        "\n",
        "    # Map each unique bin to the row indices that fall into that bin\n",
        "    from collections import defaultdict\n",
        "    bin_to_indices = defaultdict(list)\n",
        "    for row_idx, bin_idx in enumerate(bin_indices):\n",
        "        bin_to_indices[tuple(bin_idx)].append(row_idx)\n",
        "\n",
        "    original_size = len(theme_df)\n",
        "    selected_indices = []\n",
        "    rng = np.random.default_rng(random_state)\n",
        "\n",
        "    # Sample rows from each bin proportional to its occurrence\n",
        "    for bin_key, indices in bin_to_indices.items():\n",
        "        count_in_bin = len(indices)\n",
        "        if count_in_bin == 0:\n",
        "            continue\n",
        "        bin_proportion = count_in_bin / original_size\n",
        "        desired_count = int(round(bin_proportion * sample_size))\n",
        "        replace_flag = desired_count > count_in_bin\n",
        "        chosen = rng.choice(indices, size=desired_count if desired_count > 0 else 0, replace=replace_flag)\n",
        "        selected_indices.extend(chosen)\n",
        "\n",
        "    # Adjust if the total selected is not exactly sample_size\n",
        "    diff = sample_size - len(selected_indices)\n",
        "    if diff > 0:\n",
        "        extra = rng.choice(selected_indices, size=diff, replace=True)\n",
        "        selected_indices.extend(extra)\n",
        "    elif diff < 0:\n",
        "        selected_indices = list(rng.choice(selected_indices, size=sample_size, replace=False))\n",
        "\n",
        "    return theme_df.iloc[selected_indices].copy()\n",
        "\n",
        "def balance_dataset(df_final: pd.DataFrame) -> pd.DataFrame:\n",
        "    \"\"\"\n",
        "    Balance the dataset by 'primary_theme' while preserving the distribution of numeric features.\n",
        "    The target sample size per theme is set to the median class count.\n",
        "\n",
        "    Args:\n",
        "        df_final (pd.DataFrame): DataFrame after final feature selection.\n",
        "\n",
        "    Returns:\n",
        "        pd.DataFrame: Balanced DataFrame.\n",
        "    \"\"\"\n",
        "    print(\"\\nOriginal 'primary_theme' Distribution:\")\n",
        "    theme_counts = df_final['primary_theme'].value_counts()\n",
        "    print(theme_counts)\n",
        "\n",
        "    if len(theme_counts) == 0:\n",
        "        raise ValueError(\"The 'primary_theme' distribution is empty!\")\n",
        "\n",
        "    target_size = int(theme_counts.median())\n",
        "    print(\"\\nTarget sample size per primary_theme:\", target_size)\n",
        "\n",
        "    balanced_dfs = []\n",
        "    numeric_features = ['sentiment_numeric', 'text_length_norm', 'estimated_engagement_score']\n",
        "\n",
        "    for theme_value in theme_counts.index:\n",
        "        theme_subset = df_final[df_final['primary_theme'] == theme_value]\n",
        "        balanced_subset = distribution_based_sampling(theme_subset, numeric_features, sample_size=target_size, bins=10)\n",
        "        balanced_dfs.append(balanced_subset)\n",
        "\n",
        "    df_balanced = pd.concat(balanced_dfs, ignore_index=True)\n",
        "    df_balanced = df_balanced.sample(frac=1, random_state=42).reset_index(drop=True)\n",
        "\n",
        "    print(\"\\nDistribution-Based Balancing Complete!\")\n",
        "    print(\"New 'primary_theme' Distribution:\")\n",
        "    print(df_balanced['primary_theme'].value_counts())\n",
        "\n",
        "    return df_balanced\n",
        "\n",
        "def save_dataset(df: pd.DataFrame, file_path: str) -> None:\n",
        "    \"\"\"\n",
        "    Save the DataFrame to a CSV file at the specified path.\n",
        "\n",
        "    Args:\n",
        "        df (pd.DataFrame): DataFrame to save.\n",
        "        file_path (str): Destination file path.\n",
        "    \"\"\"\n",
        "    df.to_csv(file_path, index=False)\n",
        "    print(f\"\\nFinal Balanced Dataset saved at: {file_path}\")\n",
        "    print(f\"Final Dataset Size: {df.shape[0]} rows\")\n",
        "\n",
        "def perform_eda(df: pd.DataFrame, numeric_cols: list) -> None:\n",
        "    \"\"\"\n",
        "    Perform exploratory data analysis (EDA) visualizations on the final balanced dataset.\n",
        "    Displays summary statistics and KDE plots for selected numeric columns grouped by 'primary_theme'.\n",
        "\n",
        "    Args:\n",
        "        df (pd.DataFrame): Final balanced DataFrame.\n",
        "        numeric_cols (list): List of numeric columns to visualize.\n",
        "    \"\"\"\n",
        "    print(\"\\nFinal Dataset Summary Statistics:\")\n",
        "    print(df.describe())\n",
        "\n",
        "    plt.figure(figsize=(16, 4))\n",
        "    for i, col in enumerate(numeric_cols, 1):\n",
        "        plt.subplot(1, len(numeric_cols), i)\n",
        "        sns.kdeplot(data=df, x=col, hue='primary_theme', common_norm=False, fill=True, alpha=0.3, warn_singular=False)\n",
        "        plt.title(f\"Distribution of {col} by Theme\")\n",
        "    plt.tight_layout()\n",
        "    plt.show()\n",
        "\n",
        "def main():\n",
        "    \"\"\"\n",
        "    Main pipeline execution:\n",
        "      1. Load and perform basic cleaning on the combined dataset.\n",
        "      2. Create a unified text column.\n",
        "      3. Engineer new features.\n",
        "      4. Perform additional cleaning.\n",
        "      5. Select final features.\n",
        "      6. Balance the dataset by 'primary_theme'.\n",
        "      7. Save the final balanced dataset.\n",
        "      8. (Optional) Perform EDA visualizations.\n",
        "    \"\"\"\n",
        "    # Mount Google Drive if necessary\n",
        "    drive.mount('/content/drive', force_remount=True)\n",
        "\n",
        "    # Load and clean the initial dataset\n",
        "    df = load_and_clean_dataset(COMBINED_FILE_PATH)\n",
        "\n",
        "    # Create unified text column\n",
        "    df = create_unified_text_column(df)\n",
        "\n",
        "    # Engineer new features\n",
        "    df = engineer_features(df)\n",
        "\n",
        "    # Additional cleaning steps\n",
        "    df = additional_cleaning(df)\n",
        "\n",
        "    # Select final features for the balanced dataset\n",
        "    df_final = select_final_features(df)\n",
        "\n",
        "    # Balance the dataset based on the 'primary_theme' column\n",
        "    df_balanced = balance_dataset(df_final)\n",
        "\n",
        "    # Save the final balanced dataset\n",
        "    save_dataset(df_balanced, FINAL_FILE_PATH)\n",
        "\n",
        "    # Perform optional EDA on the final balanced dataset\n",
        "    numeric_features = ['sentiment_numeric', 'text_length_norm', 'estimated_engagement_score']\n",
        "    perform_eda(df_balanced, numeric_features)\n",
        "\n",
        "if __name__ == \"__main__\":\n",
        "    main()\n"
      ]
    },
    {
      "cell_type": "markdown",
      "metadata": {
        "id": "wWTH0xoFbdDb"
      },
      "source": [
        "### Balanced Dataset Creation and EDA Summary\n",
        "\n",
        "#### 1. Purpose of Code:\n",
        "This pipeline is designed to process and balance a combined social media dataset for machine learning applications. The main steps are:\n",
        "\n",
        "- Cleaning and deduplicating the dataset.\n",
        "- Creating a unified text feature.\n",
        "- Engineering new features: `text_length`, `text_length_norm`, and `estimated_engagement_score`.\n",
        "- Grouping rare `primary_theme` classes under \"Other\".\n",
        "- Balancing the dataset using distribution-based sampling across six themes.\n",
        "- Saving the final dataset and visualising distributions.\n",
        "\n",
        "#### 2. Dataset Cleaning:\n",
        "- The original dataset contained 71,189 rows with several missing and duplicate values.\n",
        "- After removing duplicates and rows missing critical features (`sentiment`, `primary_theme`, `original_text`), the cleaned dataset had 49,636 rows.\n",
        "- The `primary_theme` column was regrouped to six major themes: Entertainment, People, Sports, Technology, Politics, and Other.\n",
        "\n",
        "#### 3. Feature Engineering:\n",
        "- `text_length`: Word count of the text.\n",
        "- `text_length_norm`: Min-max normalised version of text length.\n",
        "- `sentiment_numeric`: Numeric sentiment scores (range -0.95 to 0.97).\n",
        "- `estimated_engagement_score`: A weighted metric combining normalised length (70%) and sentiment (30%).\n",
        "\n",
        "#### 4. Balancing Strategy:\n",
        "- Target class size = median count (6681 per theme).\n",
        "- Distribution-preserving sampling was applied to retain the original feature distributions across classes.\n",
        "- Final dataset shape: 40,086 rows with equal representation across all six themes.\n",
        "\n",
        "#### 5. Visual Output Interpretation:\n",
        "\n",
        "- **KDE Plot - Sentiment by Theme**: Sentiment scores vary across themes. Political posts skew negative, while Entertainment and Technology show more balanced or positive sentiment.\n",
        "- **KDE Plot - Text Length Norm by Theme**: Most posts are short across all themes; however, slight variation exists.\n",
        "- **KDE Plot - Engagement Score by Theme**: Engagement score distributions are tightly clustered near zero with small variances across themes, aligning with the engineered feature formula.\n",
        "\n",
        "#### 6. Final Dataset Stats:\n",
        "- Mean sentiment ≈ 0.03, indicating a slightly positive average tone.\n",
        "- Estimated engagement scores are concentrated around 0.05, showing a low engagement tendency overall.\n",
        "- All numeric features are well-distributed and scaled, supporting stable model training downstream.\n",
        "\n",
        "This balanced and feature-rich dataset is now ready for further natural language modelling or regression-based predictive tasks.\n"
      ]
    },
    {
      "cell_type": "markdown",
      "metadata": {
        "id": "PZKTsgmWFlBv"
      },
      "source": [
        "## Model"
      ]
    },
    {
      "cell_type": "code",
      "execution_count": null,
      "metadata": {
        "id": "qF_cLDRPHgG-"
      },
      "outputs": [],
      "source": [
        "# Cell 1: Install Necessary Packages\n",
        "# (Run this cell if the packages are not already installed.)\n",
        "!pip install transformers datasets scikit-learn pandas textblob joblib wandb"
      ]
    },
    {
      "cell_type": "code",
      "execution_count": null,
      "metadata": {
        "colab": {
          "base_uri": "https://localhost:8080/",
          "height": 999,
          "referenced_widgets": [
            "392a5914d5e2465ea8869e26d4d3bd5d",
            "d208edbe5f9f4d19b89dbc09c416dc26",
            "a2cee9aeb9734e9a8a95352d0eafb1fd",
            "e3e947253d8d41ab95b5b8ec14aade85",
            "94eb4bd60ed144148d25bb84984c731f",
            "a350a5f25ef34a658f8fabbb759e7045",
            "c04e4d797c2b47bbbff1ca780d276fed",
            "bdc20aa7048d449a9b63ea262afb400b",
            "60378d902006422abed1ac1c360e6d4d",
            "a487226e74e44ea792df9aa174182a39",
            "937195a8540a42da827f23f58c06c7ee",
            "cc77b1daf9f94c08a74443ff94949216",
            "fb6b8417ee7041998eaa0f8f9f99e614",
            "4bd9a1cc9b974092ac2252b5cb6c1a5f",
            "1004df05070245ff8534c0d22ddf2b71",
            "06dcd34a339e4b2c86f0de46771a7c3c",
            "d3eafe724f2043d58d743add626bcebd",
            "b252d20285514ded8d041e0ccd6e4152",
            "04051cb9edb44bbf8da34b1c6b1fa943",
            "0f2ec83685f640a380b490848f266021",
            "ca9f9f77f6d74f3e8e13a18482a52302",
            "d77b3222e8e24fa7a02a6d22ffa1a5c2",
            "9fca3b82122b416a8c1080e75f3335c4",
            "042627c2b1f04b70847725ca3dc6bd0c",
            "77b75327efd449db8404b84bf17572df",
            "545ba76ff8464cd8ac0cf10769b56d1c",
            "f00e981d1ea0449aa0eb419cfae72b6e",
            "ae50520a762f4ea9b685f79df9a7eff1",
            "f23c0d13c5484919b1fe8673522e9e8e",
            "15ace18a58ba43919893d607eddbb7c1",
            "5a835f98829b4cb2a4fb0fabb2f8cd76",
            "af635d08587b45ab9db2e66e16bc1856",
            "5677ac692bd04ef2a2c474337c36ccee",
            "f4f238089c784dac95e46699ee4a01b7",
            "aa3494907d664c8cb2ca966dc8c9573a",
            "85c7c180aadc4f1da7e48994f5708b51",
            "3e5bb9966e1447058e86821a70232024",
            "919686d3f918499485b9c99261d7542c",
            "db4624ccb6b744ae84d573cce0eefeed",
            "416ae8b34a3d403e9141115b587513e4",
            "65274f98866e4af7b54d373b885a4fb9",
            "e4b7fb769f9a4486a6ec2899d32a2aba",
            "810ccd8303464425873c96162f6493bd",
            "12eeee22598b425d9fc39d4377dbbe9f",
            "18e0d752310141caadc8c2629b68469f",
            "ab91019733a745888e7eb14ce711c8c8",
            "d666d8cae7b543fd8c6205e680a690c8",
            "cc027dc9b1b948ecad9369d7d8c31374",
            "46ba38ce3de544ce90af9594e74cbc16",
            "08eeaccb465a4edca0f7d69864404ca1",
            "90b2c2c61ce54cb58a07972fbcff3805",
            "0938451c21c342da9d8d3c28f67e604f",
            "acff8089ec0b49ed83b7079818d2f3e8",
            "872148b14601446e8bb2aae0ced6c5e1",
            "ec692ec56a4f4a8a8131c7d7e9fe2c73",
            "2e6ca3cf8cc0478783bc1d51a406b941",
            "e7329bd631c9448588184b3584f10538",
            "f8dea04b02814679b0ef09972435c5cb",
            "ce6965c31c2f487dba69192cbaac5d17",
            "6607c27fbdf245adb3b5ef7a2faf687c",
            "7dd78a76df1d4f5896f2f935afa3f8be",
            "9b457f95842f43baadf61330af1264df",
            "05a32a2a8e464d1a99235f55704660f1",
            "c16880440d664c388bae6c727e12ae61",
            "1ccf8e72ab1b40c08197e4bf874569f2",
            "f7d258df27bb487abd1d13a7952cb516",
            "4844966b14734b29868eaf552f38a8ab",
            "7752f64e31bd431e86c85e0226851f3d",
            "332e54eadade4331a6914f75b33e54eb",
            "ae3ceb18447c4cdeb3f8590fc4953ef9",
            "2ffa5333ae334af7977c1ffd4c358913",
            "b17a01fbd4544b2d8c6ec50c4510ac7c",
            "ef5d26168a6745cb97d1f5db0d5fe75e",
            "99965e29f2f94c019b207f918ef15015",
            "9833d8d5bc2b40bdbd940a6930d827ba",
            "531693c9d6944e628eed04651a2594ca",
            "fd3946a439a04de9ad3dc9b99ef30943"
          ]
        },
        "id": "LVhemQBtFmUy",
        "outputId": "e50b2a45-8937-4fd1-dbd3-cc2630dfcec1"
      },
      "outputs": [
        {
          "name": "stderr",
          "output_type": "stream",
          "text": [
            "\u001b[34m\u001b[1mwandb\u001b[0m: \u001b[33mWARNING\u001b[0m If you're specifying your api key in code, ensure this code is not shared publicly.\n",
            "\u001b[34m\u001b[1mwandb\u001b[0m: \u001b[33mWARNING\u001b[0m Consider setting the WANDB_API_KEY environment variable, or running `wandb login` from the command line.\n",
            "\u001b[34m\u001b[1mwandb\u001b[0m: Appending key for api.wandb.ai to your netrc file: /root/.netrc\n"
          ]
        },
        {
          "name": "stdout",
          "output_type": "stream",
          "text": [
            "Dataset shape: (40086, 2)\n"
          ]
        },
        {
          "data": {
            "application/vnd.jupyter.widget-view+json": {
              "model_id": "392a5914d5e2465ea8869e26d4d3bd5d",
              "version_major": 2,
              "version_minor": 0
            },
            "text/plain": [
              "tokenizer_config.json:   0%|          | 0.00/48.0 [00:00<?, ?B/s]"
            ]
          },
          "metadata": {},
          "output_type": "display_data"
        },
        {
          "data": {
            "application/vnd.jupyter.widget-view+json": {
              "model_id": "cc77b1daf9f94c08a74443ff94949216",
              "version_major": 2,
              "version_minor": 0
            },
            "text/plain": [
              "config.json:   0%|          | 0.00/483 [00:00<?, ?B/s]"
            ]
          },
          "metadata": {},
          "output_type": "display_data"
        },
        {
          "data": {
            "application/vnd.jupyter.widget-view+json": {
              "model_id": "9fca3b82122b416a8c1080e75f3335c4",
              "version_major": 2,
              "version_minor": 0
            },
            "text/plain": [
              "vocab.txt:   0%|          | 0.00/232k [00:00<?, ?B/s]"
            ]
          },
          "metadata": {},
          "output_type": "display_data"
        },
        {
          "data": {
            "application/vnd.jupyter.widget-view+json": {
              "model_id": "f4f238089c784dac95e46699ee4a01b7",
              "version_major": 2,
              "version_minor": 0
            },
            "text/plain": [
              "tokenizer.json:   0%|          | 0.00/466k [00:00<?, ?B/s]"
            ]
          },
          "metadata": {},
          "output_type": "display_data"
        },
        {
          "data": {
            "application/vnd.jupyter.widget-view+json": {
              "model_id": "18e0d752310141caadc8c2629b68469f",
              "version_major": 2,
              "version_minor": 0
            },
            "text/plain": [
              "Map:   0%|          | 0/32068 [00:00<?, ? examples/s]"
            ]
          },
          "metadata": {},
          "output_type": "display_data"
        },
        {
          "data": {
            "application/vnd.jupyter.widget-view+json": {
              "model_id": "2e6ca3cf8cc0478783bc1d51a406b941",
              "version_major": 2,
              "version_minor": 0
            },
            "text/plain": [
              "Map:   0%|          | 0/8018 [00:00<?, ? examples/s]"
            ]
          },
          "metadata": {},
          "output_type": "display_data"
        },
        {
          "name": "stderr",
          "output_type": "stream",
          "text": [
            "Xet Storage is enabled for this repo, but the 'hf_xet' package is not installed. Falling back to regular HTTP download. For better performance, install the package with: `pip install huggingface_hub[hf_xet]` or `pip install hf_xet`\n",
            "WARNING:huggingface_hub.file_download:Xet Storage is enabled for this repo, but the 'hf_xet' package is not installed. Falling back to regular HTTP download. For better performance, install the package with: `pip install huggingface_hub[hf_xet]` or `pip install hf_xet`\n"
          ]
        },
        {
          "data": {
            "application/vnd.jupyter.widget-view+json": {
              "model_id": "4844966b14734b29868eaf552f38a8ab",
              "version_major": 2,
              "version_minor": 0
            },
            "text/plain": [
              "model.safetensors:   0%|          | 0.00/268M [00:00<?, ?B/s]"
            ]
          },
          "metadata": {},
          "output_type": "display_data"
        },
        {
          "name": "stderr",
          "output_type": "stream",
          "text": [
            "Some weights of DistilBertForSequenceClassification were not initialized from the model checkpoint at distilbert-base-uncased and are newly initialized: ['classifier.bias', 'classifier.weight', 'pre_classifier.bias', 'pre_classifier.weight']\n",
            "You should probably TRAIN this model on a down-stream task to be able to use it for predictions and inference.\n",
            "/usr/local/lib/python3.11/dist-packages/transformers/training_args.py:1611: FutureWarning: `evaluation_strategy` is deprecated and will be removed in version 4.46 of 🤗 Transformers. Use `eval_strategy` instead\n",
            "  warnings.warn(\n",
            "\u001b[34m\u001b[1mwandb\u001b[0m: \u001b[33mWARNING\u001b[0m The `run_name` is currently set to the same value as `TrainingArguments.output_dir`. If this was not intended, please specify a different run name by setting the `TrainingArguments.run_name` parameter.\n"
          ]
        },
        {
          "data": {
            "text/html": [
              "Tracking run with wandb version 0.19.9"
            ],
            "text/plain": [
              "<IPython.core.display.HTML object>"
            ]
          },
          "metadata": {},
          "output_type": "display_data"
        },
        {
          "data": {
            "text/html": [
              "Run data is saved locally in <code>/content/wandb/run-20250411_135257-doeox7z1</code>"
            ],
            "text/plain": [
              "<IPython.core.display.HTML object>"
            ]
          },
          "metadata": {},
          "output_type": "display_data"
        },
        {
          "data": {
            "text/html": [
              "Syncing run <strong><a href='https://wandb.ai/harabhuvan-choula2-dublin-city-university/huggingface/runs/doeox7z1' target=\"_blank\">/content/drive/MyDrive/new2/further_finetuned_model</a></strong> to <a href='https://wandb.ai/harabhuvan-choula2-dublin-city-university/huggingface' target=\"_blank\">Weights & Biases</a> (<a href='https://wandb.me/developer-guide' target=\"_blank\">docs</a>)<br>"
            ],
            "text/plain": [
              "<IPython.core.display.HTML object>"
            ]
          },
          "metadata": {},
          "output_type": "display_data"
        },
        {
          "data": {
            "text/html": [
              " View project at <a href='https://wandb.ai/harabhuvan-choula2-dublin-city-university/huggingface' target=\"_blank\">https://wandb.ai/harabhuvan-choula2-dublin-city-university/huggingface</a>"
            ],
            "text/plain": [
              "<IPython.core.display.HTML object>"
            ]
          },
          "metadata": {},
          "output_type": "display_data"
        },
        {
          "data": {
            "text/html": [
              " View run at <a href='https://wandb.ai/harabhuvan-choula2-dublin-city-university/huggingface/runs/doeox7z1' target=\"_blank\">https://wandb.ai/harabhuvan-choula2-dublin-city-university/huggingface/runs/doeox7z1</a>"
            ],
            "text/plain": [
              "<IPython.core.display.HTML object>"
            ]
          },
          "metadata": {},
          "output_type": "display_data"
        },
        {
          "data": {
            "text/html": [
              "\n",
              "    <div>\n",
              "      \n",
              "      <progress value='10025' max='10025' style='width:300px; height:20px; vertical-align: middle;'></progress>\n",
              "      [10025/10025 29:05, Epoch 5/5]\n",
              "    </div>\n",
              "    <table border=\"1\" class=\"dataframe\">\n",
              "  <thead>\n",
              " <tr style=\"text-align: left;\">\n",
              "      <th>Epoch</th>\n",
              "      <th>Training Loss</th>\n",
              "      <th>Validation Loss</th>\n",
              "      <th>Rmse</th>\n",
              "      <th>R2</th>\n",
              "    </tr>\n",
              "  </thead>\n",
              "  <tbody>\n",
              "    <tr>\n",
              "      <td>1</td>\n",
              "      <td>0.005700</td>\n",
              "      <td>0.005708</td>\n",
              "      <td>0.075550</td>\n",
              "      <td>0.694326</td>\n",
              "    </tr>\n",
              "    <tr>\n",
              "      <td>2</td>\n",
              "      <td>0.003800</td>\n",
              "      <td>0.004615</td>\n",
              "      <td>0.067934</td>\n",
              "      <td>0.743127</td>\n",
              "    </tr>\n",
              "    <tr>\n",
              "      <td>3</td>\n",
              "      <td>0.003400</td>\n",
              "      <td>0.004037</td>\n",
              "      <td>0.063534</td>\n",
              "      <td>0.761190</td>\n",
              "    </tr>\n",
              "    <tr>\n",
              "      <td>4</td>\n",
              "      <td>0.003300</td>\n",
              "      <td>0.003831</td>\n",
              "      <td>0.061898</td>\n",
              "      <td>0.772587</td>\n",
              "    </tr>\n",
              "    <tr>\n",
              "      <td>5</td>\n",
              "      <td>0.002500</td>\n",
              "      <td>0.003819</td>\n",
              "      <td>0.061794</td>\n",
              "      <td>0.775184</td>\n",
              "    </tr>\n",
              "  </tbody>\n",
              "</table><p>"
            ],
            "text/plain": [
              "<IPython.core.display.HTML object>"
            ]
          },
          "metadata": {},
          "output_type": "display_data"
        },
        {
          "data": {
            "text/html": [
              "\n",
              "    <div>\n",
              "      \n",
              "      <progress value='502' max='502' style='width:300px; height:20px; vertical-align: middle;'></progress>\n",
              "      [502/502 00:25]\n",
              "    </div>\n",
              "    "
            ],
            "text/plain": [
              "<IPython.core.display.HTML object>"
            ]
          },
          "metadata": {},
          "output_type": "display_data"
        },
        {
          "name": "stdout",
          "output_type": "stream",
          "text": [
            "\n",
            "Evaluation Results After Fine-tuning:\n",
            "eval_loss: 0.0038\n",
            "eval_rmse: 0.0618\n",
            "eval_r2: 0.7752\n",
            "eval_runtime: 25.4726\n",
            "eval_samples_per_second: 314.7700\n",
            "eval_steps_per_second: 19.7070\n",
            "epoch: 5.0000\n",
            "Final model saved in directory: /content/drive/MyDrive/new2/DA_DM_model\n",
            "\n",
            "Example Post:\n",
            "Predicted Engagement Score: 0.2295\n"
          ]
        }
      ],
      "source": [
        "\n",
        "\n",
        "# Cell 2: Import Libraries & (Optional) Mount Google Drive\n",
        "import os\n",
        "import numpy as np\n",
        "import pandas as pd\n",
        "import torch\n",
        "from sklearn.model_selection import train_test_split\n",
        "from transformers import (\n",
        "    AutoTokenizer,\n",
        "    AutoModelForSequenceClassification,\n",
        "    TrainingArguments,\n",
        "    Trainer,\n",
        "    DataCollatorWithPadding,\n",
        "    EarlyStoppingCallback,\n",
        ")\n",
        "from datasets import Dataset\n",
        "from textblob import TextBlob\n",
        "import joblib\n",
        "import wandb\n",
        "\n",
        "# Log in to Weights & Biases with your API key\n",
        "wandb.login(key=\"31782d5f22d2153cca903bf386fee2ffe1ffdda0\")\n",
        "\n",
        "\n",
        "\n",
        "def load_and_prepare_dataset(csv_path: str):\n",
        "    \"\"\"\n",
        "    Load the balanced dataset CSV from the given file path,\n",
        "    rename and select the appropriate columns for fine-tuning,\n",
        "    and split the data into training and testing sets.\n",
        "\n",
        "    Args:\n",
        "        csv_path (str): Path to the CSV file containing the dataset.\n",
        "\n",
        "    Returns:\n",
        "        tuple: (train_dataset, test_dataset) as Hugging Face Dataset objects.\n",
        "    \"\"\"\n",
        "    # Load CSV into pandas DataFrame\n",
        "    df = pd.read_csv(csv_path)\n",
        "\n",
        "    # For compatibility with the Trainer API, rename columns:\n",
        "    # 'unified_text' is used as the input text and 'estimated_engagement_score' as the target label.\n",
        "    df = df[['unified_text', 'estimated_engagement_score']].rename(\n",
        "        columns={'unified_text': 'text', 'estimated_engagement_score': 'label'}\n",
        "    )\n",
        "    df['label'] = df['label'].astype(float)\n",
        "    print(\"Dataset shape:\", df.shape)\n",
        "\n",
        "    # Split dataset into training (80%) and testing (20%) sets\n",
        "    train_df, test_df = train_test_split(df, test_size=0.2, random_state=42)\n",
        "\n",
        "    # Convert pandas DataFrames into Hugging Face Dataset objects\n",
        "    train_dataset = Dataset.from_pandas(train_df)\n",
        "    test_dataset = Dataset.from_pandas(test_df)\n",
        "\n",
        "    return train_dataset, test_dataset\n",
        "\n",
        "def tokenize_datasets(train_dataset, test_dataset, tokenizer, max_length: int = 128):\n",
        "    \"\"\"\n",
        "    Tokenize the text column in the training and testing datasets using the provided tokenizer.\n",
        "    Also remove extraneous columns and set the dataset format as PyTorch tensors.\n",
        "\n",
        "    Args:\n",
        "        train_dataset (Dataset): Hugging Face train dataset.\n",
        "        test_dataset (Dataset): Hugging Face test dataset.\n",
        "        tokenizer: Pre-trained tokenizer.\n",
        "        max_length (int): Maximum sequence length for tokenization.\n",
        "\n",
        "    Returns:\n",
        "        tuple: Tokenized train and test datasets.\n",
        "    \"\"\"\n",
        "    def tokenize_function(examples):\n",
        "        return tokenizer(examples[\"text\"], truncation=True, max_length=max_length)\n",
        "\n",
        "    # Tokenize training and testing datasets in batches\n",
        "    train_dataset = train_dataset.map(tokenize_function, batched=True)\n",
        "    test_dataset = test_dataset.map(tokenize_function, batched=True)\n",
        "\n",
        "    # Remove extraneous columns: remove the original text column and any autogenerated indices\n",
        "    train_dataset = train_dataset.remove_columns([\"text\", \"__index_level_0__\"]).with_format(\"torch\")\n",
        "    test_dataset = test_dataset.remove_columns([\"text\", \"__index_level_0__\"]).with_format(\"torch\")\n",
        "\n",
        "    return train_dataset, test_dataset\n",
        "\n",
        "def initialize_regression_model(model_checkpoint: str):\n",
        "    \"\"\"\n",
        "    Load a pre-trained DistilBERT model for sequence classification and configure it for regression.\n",
        "\n",
        "    Args:\n",
        "        model_checkpoint (str): Model checkpoint name or path.\n",
        "\n",
        "    Returns:\n",
        "        model: The initialized model ready for fine-tuning.\n",
        "    \"\"\"\n",
        "    model = AutoModelForSequenceClassification.from_pretrained(model_checkpoint, num_labels=1)\n",
        "    model.config.problem_type = \"regression\"  # Configure the model for regression tasks\n",
        "    return model\n",
        "\n",
        "def define_training_arguments(output_dir: str):\n",
        "    \"\"\"\n",
        "    Define training arguments for fine-tuning using the Trainer API.\n",
        "\n",
        "    Args:\n",
        "        output_dir (str): Directory path to save model checkpoints.\n",
        "\n",
        "    Returns:\n",
        "        TrainingArguments: The configuration for training.\n",
        "    \"\"\"\n",
        "    training_args = TrainingArguments(\n",
        "        output_dir=output_dir,             # Local output directory for checkpoints\n",
        "        evaluation_strategy=\"epoch\",\n",
        "        save_strategy=\"epoch\",\n",
        "        learning_rate=1e-5,\n",
        "        per_device_train_batch_size=16,\n",
        "        per_device_eval_batch_size=16,\n",
        "        num_train_epochs=5,                # Maximum number of epochs; early stopping might halt training sooner\n",
        "        weight_decay=0.01,\n",
        "        logging_steps=50,\n",
        "        load_best_model_at_end=True,\n",
        "        metric_for_best_model=\"r2\",\n",
        "        greater_is_better=True,\n",
        "    )\n",
        "    return training_args\n",
        "\n",
        "def compute_metrics(eval_pred):\n",
        "    \"\"\"\n",
        "    Compute the RMSE and R2 metrics based on predictions and labels.\n",
        "\n",
        "    Args:\n",
        "        eval_pred (tuple): A tuple of (predictions, labels).\n",
        "\n",
        "    Returns:\n",
        "        dict: Dictionary containing 'rmse' and 'r2' values.\n",
        "    \"\"\"\n",
        "    predictions, labels = eval_pred\n",
        "    predictions = predictions.flatten()\n",
        "    rmse = np.sqrt(np.mean((predictions - labels) ** 2))\n",
        "    r2 = np.corrcoef(predictions, labels)[0, 1] ** 2\n",
        "    return {\"rmse\": rmse, \"r2\": r2}\n",
        "\n",
        "def train_and_evaluate(model, train_dataset, test_dataset, tokenizer, training_args):\n",
        "    \"\"\"\n",
        "    Fine-tune the provided model using the Hugging Face Trainer and evaluate the model's performance.\n",
        "\n",
        "    Args:\n",
        "        model: The pre-trained model configured for regression.\n",
        "        train_dataset: Tokenized training dataset.\n",
        "        test_dataset: Tokenized testing dataset.\n",
        "        tokenizer: Tokenizer associated with the model.\n",
        "        training_args: TrainingArguments object.\n",
        "\n",
        "    Returns:\n",
        "        Trainer: The Trainer object after training is complete.\n",
        "    \"\"\"\n",
        "    data_collator = DataCollatorWithPadding(tokenizer=tokenizer)\n",
        "    early_stopping_callback = EarlyStoppingCallback(early_stopping_patience=2)\n",
        "\n",
        "    trainer = Trainer(\n",
        "        model=model,\n",
        "        args=training_args,\n",
        "        train_dataset=train_dataset,\n",
        "        eval_dataset=test_dataset,\n",
        "        compute_metrics=compute_metrics,\n",
        "        data_collator=data_collator,\n",
        "        callbacks=[early_stopping_callback],\n",
        "    )\n",
        "\n",
        "    # Begin fine-tuning\n",
        "    trainer.train()\n",
        "\n",
        "    # Evaluate the fine-tuned model\n",
        "    eval_results = trainer.evaluate()\n",
        "    print(\"\\nEvaluation Results After Fine-tuning:\")\n",
        "    for key, value in eval_results.items():\n",
        "        if isinstance(value, (int, float)):\n",
        "            print(f\"{key}: {value:.4f}\")\n",
        "        else:\n",
        "            print(f\"{key}: {value}\")\n",
        "\n",
        "    return trainer\n",
        "\n",
        "def save_final_model(trainer, model_save_dir: str):\n",
        "    \"\"\"\n",
        "    Save the fine-tuned model to the specified directory.\n",
        "\n",
        "    Args:\n",
        "        trainer: Trainer object that holds the fine-tuned model.\n",
        "        model_save_dir (str): Directory where the model should be saved.\n",
        "    \"\"\"\n",
        "    trainer.save_model(model_save_dir)\n",
        "    print(\"Final model saved in directory:\", model_save_dir)\n",
        "\n",
        "def predict_engagement(post_text: str, model, tokenizer):\n",
        "    \"\"\"\n",
        "    Predict the engagement score for a given input text.\n",
        "\n",
        "    Args:\n",
        "        post_text (str): The text of the social media post.\n",
        "        model: The fine-tuned regression model.\n",
        "        tokenizer: The tokenizer corresponding to the model.\n",
        "\n",
        "    Returns:\n",
        "        float or None: The predicted engagement score or None if input is empty.\n",
        "    \"\"\"\n",
        "    if not post_text.strip():\n",
        "        print(\"Error: Empty input provided.\")\n",
        "        return None\n",
        "\n",
        "    # Tokenize input text and ensure tensors are on the same device as the model\n",
        "    inputs = tokenizer(post_text, truncation=True, max_length=128, return_tensors=\"pt\")\n",
        "    device = next(model.parameters()).device\n",
        "    inputs = {k: v.to(device) for k, v in inputs.items()}\n",
        "\n",
        "    model.eval()\n",
        "    with torch.no_grad():\n",
        "        outputs = model(**inputs)\n",
        "    # The regression value is in outputs.logits (shape: [1, 1])\n",
        "    predicted_engagement = outputs.logits.flatten().item()\n",
        "    return predicted_engagement\n",
        "\n",
        "def main():\n",
        "    \"\"\"\n",
        "    Main pipeline to fine-tune a DistilBERT model on a regression task and evaluate it.\n",
        "    Steps:\n",
        "      1. Load and prepare the dataset.\n",
        "      2. Tokenize the dataset with padding.\n",
        "      3. Initialize and configure the pre-trained model.\n",
        "      4. Define training arguments.\n",
        "      5. Fine-tune the model and evaluate its performance.\n",
        "      6. Save the final fine-tuned model.\n",
        "      7. Provide an example of predicting engagement score.\n",
        "    \"\"\"\n",
        "    # Define file paths and model checkpoint\n",
        "    final_dataset_path = \"/content/drive/MyDrive/new2/final_balanced_dataset2.csv\"  # CSV should be in your working directory\n",
        "    model_checkpoint = \"distilbert-base-uncased\"\n",
        "    output_dir = \"/content/drive/MyDrive/new2/further_finetuned_model\"\n",
        "    model_save_dir = \"/content/drive/MyDrive/new2/DA_DM_model\"\n",
        "\n",
        "    # Load and prepare the dataset for fine-tuning\n",
        "    train_dataset, test_dataset = load_and_prepare_dataset(final_dataset_path)\n",
        "\n",
        "    # Load the pre-trained tokenizer and tokenize the dataset\n",
        "    tokenizer = AutoTokenizer.from_pretrained(model_checkpoint)\n",
        "    train_dataset, test_dataset = tokenize_datasets(train_dataset, test_dataset, tokenizer, max_length=128)\n",
        "\n",
        "    # Initialize the model for regression\n",
        "    model = initialize_regression_model(model_checkpoint)\n",
        "\n",
        "    # Define training arguments for fine-tuning\n",
        "    training_args = define_training_arguments(output_dir)\n",
        "\n",
        "    # Fine-tune the model and evaluate its performance\n",
        "    trainer = train_and_evaluate(model, train_dataset, test_dataset, tokenizer, training_args)\n",
        "\n",
        "    # Save the fine-tuned model\n",
        "    save_final_model(trainer, model_save_dir)\n",
        "\n",
        "    # Example usage of the prediction function\n",
        "    example_text = \"Innovation in technology drives growth and inspires creativity.\"\n",
        "    predicted_value = predict_engagement(example_text, model, tokenizer)\n",
        "    if predicted_value is not None:\n",
        "        print(\"\\nExample Post:\")\n",
        "        print(f\"Predicted Engagement Score: {predicted_value:.4f}\")\n",
        "\n",
        "if __name__ == \"__main__\":\n",
        "    main()\n"
      ]
    },
    {
      "cell_type": "markdown",
      "metadata": {
        "id": "exUlTsogb3Ur"
      },
      "source": [
        "### DistilBERT Fine-Tuning for Engagement Score Prediction\n",
        "\n",
        "#### Objective\n",
        "This notebook fine-tunes a pre-trained DistilBERT model for a regression task. The aim is to predict the *estimated engagement score* of a social media post based on its text content. The workflow includes dataset preparation, model training, evaluation, and deployment of a prediction function.\n",
        "\n",
        "---\n",
        "\n",
        "#### Key Steps and Components\n",
        "\n",
        "- **Dataset Loading**: A preprocessed and balanced dataset (`final_balanced_dataset2.csv`) with 40,086 examples was loaded. The columns were renamed to fit Hugging Face's `Trainer` API, with `text` as input and `label` as target.\n",
        "\n",
        "- **Tokenization**: All text inputs were tokenized using the `distilbert-base-uncased` tokenizer. Sequences were truncated at 128 tokens for memory efficiency.\n",
        "\n",
        "- **Model Configuration**: A `DistilBERTForSequenceClassification` model was initialized with `num_labels=1` and configured for regression using `model.config.problem_type = \"regression\"`.\n",
        "\n",
        "- **Training Configuration**:\n",
        "  - Optimized using Adam with `learning_rate=1e-5`.\n",
        "  - Early stopping was applied to prevent overfitting (patience = 2 epochs).\n",
        "  - Batch size: 16\n",
        "  - Epochs: 5\n",
        "  - Model checkpointing and evaluation occurred after each epoch.\n",
        "  - Logging and experiment tracking were handled using Weights & Biases (wandb).\n",
        "\n",
        "- **Training Summary**:\n",
        "  - **Final Epoch (5)**:\n",
        "    - `eval_loss`: 0.0038\n",
        "    - `eval_rmse`: 0.0618\n",
        "    - `eval_r2`: 0.7752\n",
        "  - These metrics indicate that the model achieved high accuracy in predicting engagement scores, explaining 77.5% of the variance (R² score).\n",
        "\n",
        "- **Model Saving**: The trained model was saved to `/content/drive/MyDrive/new2/DA_DM_model`.\n",
        "\n",
        "- **Example Prediction**:\n",
        "  - Input: `\"Innovation in technology drives growth and inspires creativity.\"`\n",
        "  - Predicted Engagement Score: `0.2295`\n",
        "  - This score reflects a moderately high engagement level, based on the learned patterns.\n",
        "\n",
        "---\n",
        "\n",
        "#### Conclusion\n",
        "The model demonstrates strong performance in learning to predict engagement based on text inputs, with an RMSE under 0.062 and an R² of 0.775. These results make it suitable for deployment in engagement forecasting pipelines or content ranking systems.\n"
      ]
    },
    {
      "cell_type": "code",
      "execution_count": null,
      "metadata": {
        "colab": {
          "base_uri": "https://localhost:8080/"
        },
        "id": "mikdbCwNrYgw",
        "outputId": "401ee7fd-5109-4183-f4f2-cab8427cecd0"
      },
      "outputs": [
        {
          "data": {
            "text/plain": [
              "DistilBertForSequenceClassification(\n",
              "  (distilbert): DistilBertModel(\n",
              "    (embeddings): Embeddings(\n",
              "      (word_embeddings): Embedding(30522, 768, padding_idx=0)\n",
              "      (position_embeddings): Embedding(512, 768)\n",
              "      (LayerNorm): LayerNorm((768,), eps=1e-12, elementwise_affine=True)\n",
              "      (dropout): Dropout(p=0.1, inplace=False)\n",
              "    )\n",
              "    (transformer): Transformer(\n",
              "      (layer): ModuleList(\n",
              "        (0-5): 6 x TransformerBlock(\n",
              "          (attention): DistilBertSdpaAttention(\n",
              "            (dropout): Dropout(p=0.1, inplace=False)\n",
              "            (q_lin): Linear(in_features=768, out_features=768, bias=True)\n",
              "            (k_lin): Linear(in_features=768, out_features=768, bias=True)\n",
              "            (v_lin): Linear(in_features=768, out_features=768, bias=True)\n",
              "            (out_lin): Linear(in_features=768, out_features=768, bias=True)\n",
              "          )\n",
              "          (sa_layer_norm): LayerNorm((768,), eps=1e-12, elementwise_affine=True)\n",
              "          (ffn): FFN(\n",
              "            (dropout): Dropout(p=0.1, inplace=False)\n",
              "            (lin1): Linear(in_features=768, out_features=3072, bias=True)\n",
              "            (lin2): Linear(in_features=3072, out_features=768, bias=True)\n",
              "            (activation): GELUActivation()\n",
              "          )\n",
              "          (output_layer_norm): LayerNorm((768,), eps=1e-12, elementwise_affine=True)\n",
              "        )\n",
              "      )\n",
              "    )\n",
              "  )\n",
              "  (pre_classifier): Linear(in_features=768, out_features=768, bias=True)\n",
              "  (classifier): Linear(in_features=768, out_features=1, bias=True)\n",
              "  (dropout): Dropout(p=0.2, inplace=False)\n",
              ")"
            ]
          },
          "execution_count": 1,
          "metadata": {},
          "output_type": "execute_result"
        }
      ],
      "source": [
        "from transformers import AutoTokenizer, AutoModelForSequenceClassification\n",
        "import torch\n",
        "\n",
        "# Load the saved model and tokenizer\n",
        "model_path = \"/content/drive/MyDrive/new2/DA_DM_model\"\n",
        "\n",
        "tokenizer = AutoTokenizer.from_pretrained(model_path)\n",
        "model = AutoModelForSequenceClassification.from_pretrained(model_path)\n",
        "\n",
        "# Move model to GPU if available\n",
        "device = torch.device(\"cuda\" if torch.cuda.is_available() else \"cpu\")\n",
        "model.to(device)\n",
        "model.eval()\n"
      ]
    },
    {
      "cell_type": "code",
      "execution_count": null,
      "metadata": {
        "id": "2gUWbgwmrYdQ"
      },
      "outputs": [],
      "source": [
        "def predict_engagement(text, model, tokenizer):\n",
        "    if not text.strip():\n",
        "        return None\n",
        "    inputs = tokenizer(text, return_tensors=\"pt\", truncation=True, padding=True, max_length=128)\n",
        "    inputs = {k: v.to(model.device) for k, v in inputs.items()}\n",
        "    with torch.no_grad():\n",
        "        output = model(**inputs)\n",
        "    return output.logits.flatten().item()\n"
      ]
    },
    {
      "cell_type": "code",
      "execution_count": null,
      "metadata": {
        "colab": {
          "base_uri": "https://localhost:8080/"
        },
        "id": "FCsLSo73rYVr",
        "outputId": "b2293647-2259-46e6-d14d-696c66f0285c"
      },
      "outputs": [
        {
          "name": "stdout",
          "output_type": "stream",
          "text": [
            "Example 1:\n",
            "Text: Can't believe how poorly this product performs. Worst experience ever.\n",
            "Predicted Engagement Score: -0.2166\n",
            "\n",
            "Example 2:\n",
            "Text: Check out our latest blog post on how AI is transforming the healthcare industry. Link in bio!\n",
            "Predicted Engagement Score: 0.1535\n",
            "\n",
            "Example 3:\n",
            "Text: Just a regular day, nothing exciting going on really.\n",
            "Predicted Engagement Score: 0.0640\n",
            "\n",
            "Example 4:\n",
            "Text: Huge congratulations to the team for reaching 10,000 followers! Thank you all!\n",
            "Predicted Engagement Score: 0.2661\n",
            "\n",
            "Example 5:\n",
            "Text: Breaking: Major policy shift announced by the government amid public outcry.\n",
            "Predicted Engagement Score: -0.0878\n",
            "\n",
            "Example 6:\n",
            "Text: Explore how data science can revolutionize your business decisions.\n",
            "Predicted Engagement Score: 0.1517\n",
            "\n",
            "Example 7:\n",
            "Text: Feeling lost today. Everything seems to be falling apart.\n",
            "Predicted Engagement Score: -0.1758\n",
            "\n",
            "Example 8:\n",
            "Text: Just launched our new app! Try it out and share your feedback!\n",
            "Predicted Engagement Score: 0.2078\n",
            "\n",
            "Example 9:\n",
            "Text: Looking for a good book to read this weekend. Any suggestions?\n",
            "Predicted Engagement Score: 0.1735\n",
            "\n",
            "Example 10:\n",
            "Text: That awkward moment when the WiFi goes out during an important Zoom call.\n",
            "Predicted Engagement Score: -0.0474\n",
            "\n"
          ]
        }
      ],
      "source": [
        "examples = [\n",
        "    \"Can't believe how poorly this product performs. Worst experience ever.\",\n",
        "    \"Check out our latest blog post on how AI is transforming the healthcare industry. Link in bio!\",\n",
        "    \"Just a regular day, nothing exciting going on really.\",\n",
        "    \"Huge congratulations to the team for reaching 10,000 followers! Thank you all!\",\n",
        "    \"Breaking: Major policy shift announced by the government amid public outcry.\",\n",
        "    \"Explore how data science can revolutionize your business decisions.\",\n",
        "    \"Feeling lost today. Everything seems to be falling apart.\",\n",
        "    \"Just launched our new app! Try it out and share your feedback!\",\n",
        "    \"Looking for a good book to read this weekend. Any suggestions?\",\n",
        "    \"That awkward moment when the WiFi goes out during an important Zoom call.\"\n",
        "]\n",
        "\n",
        "for i, post in enumerate(examples, 1):\n",
        "    score = predict_engagement(post, model, tokenizer)\n",
        "    print(f\"Example {i}:\\nText: {post}\\nPredicted Engagement Score: {score:.4f}\\n\")\n"
      ]
    },
    {
      "cell_type": "markdown",
      "metadata": {
        "id": "hJi-0W5psmlf"
      },
      "source": [
        "### Model Inference Summary and Insights\n",
        "\n",
        "This cell demonstrates the inference process using the fine-tuned `DistilBERT` regression model trained to estimate social media engagement scores based solely on textual input. The model was restored from the saved directory using Hugging Face's `AutoModelForSequenceClassification`, and consists of:\n",
        "\n",
        "- A 6-layer DistilBERT encoder capturing contextual embeddings.\n",
        "- A regression head (single linear neuron) to predict continuous engagement scores.\n",
        "- Dropout and normalization layers to regularize training.\n",
        "\n",
        "---\n",
        "\n",
        "### Purpose of the Code\n",
        "\n",
        "The purpose of this inference pipeline was to:\n",
        "1. Load the trained DistilBERT regression model from the saved directory.\n",
        "2. Tokenize new post examples.\n",
        "3. Predict and display estimated engagement scores for each input using the `predict_engagement()` function.\n",
        "\n",
        "---\n",
        "\n",
        "### Key Observations from Output\n",
        "\n",
        "| Example | Text Summary | Predicted Engagement Score |\n",
        "|--------|---------------|-----------------------------|\n",
        "| 1 | Negative product feedback | -0.2166 |\n",
        "| 2 | Promotional AI blog post | 0.1535 |\n",
        "| 3 | Neutral personal update | 0.0640 |\n",
        "| 4 | Follower milestone celebration | 0.2661 |\n",
        "| 5 | Political breaking news | -0.0878 |\n",
        "| 6 | Data science promotion | 0.1517 |\n",
        "| 7 | Expression of emotional struggle | -0.1758 |\n",
        "| 8 | Product launch announcement | 0.2078 |\n",
        "| 9 | Book recommendation request | 0.1735 |\n",
        "|10 | WiFi failure anecdote | -0.0474 |\n",
        "\n",
        "---\n",
        "\n",
        "### What We Learned\n",
        "\n",
        "- Posts containing **positive tone and gratitude** (e.g., Example 4 and 8) yielded **high engagement scores**.\n",
        "- **Negative or emotionally distressing posts** (e.g., Example 1 and 7) were rated **lower**.\n",
        "- **Informative or inquiry-driven content** (e.g., Examples 2, 6, and 9) received **moderate scores**.\n",
        "- The model appears sensitive to both **sentiment polarity** and **content richness**, confirming the success of combining textual and engineered features during training.\n",
        "\n",
        "---\n",
        "\n",
        "### Conclusion\n",
        "\n",
        "The DistilBERT-based model exhibits strong predictive behavior and can distinguish between low, moderate, and high engagement content based on text alone. This validates the effectiveness of fine-tuning transformer models for regression tasks and demonstrates their potential application in content analytics, campaign planning, and automated post scoring pipelines.\n"
      ]
    }
  ],
  "metadata": {
    "accelerator": "GPU",
    "colab": {
      "gpuType": "T4",
      "provenance": []
    },
    "kernelspec": {
      "display_name": "Python 3",
      "name": "python3"
    },
    "language_info": {
      "name": "python"
    }
  },
  "nbformat": 4,
  "nbformat_minor": 0
}